{
 "cells": [
  {
   "cell_type": "code",
   "execution_count": 85,
   "metadata": {},
   "outputs": [],
   "source": [
    "import requests\n",
    "import json\n",
    "from data_taking import BikeTimes\n",
    "import pandas as pd\n"
   ]
  },
  {
   "cell_type": "code",
   "execution_count": 27,
   "metadata": {},
   "outputs": [],
   "source": [
    "# lat = 51.5074\n",
    "# lon = 0.1278"
   ]
  },
  {
   "cell_type": "code",
   "execution_count": 87,
   "metadata": {},
   "outputs": [
    {
     "data": {
      "text/plain": [
       "2233"
      ]
     },
     "execution_count": 87,
     "metadata": {},
     "output_type": "execute_result"
    }
   ],
   "source": [
    "(345,2233)[1]"
   ]
  },
  {
   "cell_type": "code",
   "execution_count": null,
   "metadata": {},
   "outputs": [],
   "source": []
  },
  {
   "cell_type": "code",
   "execution_count": 83,
   "metadata": {},
   "outputs": [],
   "source": [
    "geo_test = requests.get(f\"http://www.datasciencetoolkit.org/coordinates2statistics/{lat}%2c{lon}\", params = {'statistics': 'population_density,elevation'}).json()"
   ]
  },
  {
   "cell_type": "code",
   "execution_count": 81,
   "metadata": {},
   "outputs": [
    {
     "data": {
      "text/plain": [
       "int"
      ]
     },
     "execution_count": 81,
     "metadata": {},
     "output_type": "execute_result"
    }
   ],
   "source": [
    "type(geo_test[0]['statistics']['elevation']['value'])"
   ]
  },
  {
   "cell_type": "code",
   "execution_count": 82,
   "metadata": {},
   "outputs": [
    {
     "data": {
      "text/plain": [
       "int"
      ]
     },
     "execution_count": 82,
     "metadata": {},
     "output_type": "execute_result"
    }
   ],
   "source": [
    "type(geo_test[0]['statistics']['population_density']['value'])"
   ]
  },
  {
   "cell_type": "code",
   "execution_count": 58,
   "metadata": {},
   "outputs": [],
   "source": [
    "# with open('./bikes_9.json', 'w+') as f:\n",
    "#     f.write(json.dumps(bikes9, sort_keys=True, indent=4))"
   ]
  },
  {
   "cell_type": "code",
   "execution_count": 33,
   "metadata": {},
   "outputs": [],
   "source": [
    "f = open('./data/bike_test_friday.json')"
   ]
  },
  {
   "cell_type": "code",
   "execution_count": 34,
   "metadata": {},
   "outputs": [],
   "source": [
    "bikes = json.load(f)"
   ]
  },
  {
   "cell_type": "code",
   "execution_count": 35,
   "metadata": {},
   "outputs": [
    {
     "name": "stdout",
     "output_type": "stream",
     "text": [
      "Phillimore Gardens, Kensington\n",
      "TerminalName 001018\n",
      "Installed true\n",
      "Locked false\n",
      "InstallDate 1278585780000\n",
      "RemovalDate \n",
      "Temporary false\n",
      "NbBikes 14\n",
      "NbEmptyDocks 23\n",
      "NbDocks 37\n",
      "lat 51.499606\n",
      "long -0.197574\n"
     ]
    }
   ],
   "source": [
    "print(bikes[1]['commonName'])\n",
    "for  i in bikes[1]['additionalProperties']:\n",
    "    print(i['key'], i['value'])\n",
    "print('lat', bikes[1]['lat'])\n",
    "print('long', bikes[1]['lon'])"
   ]
  },
  {
   "cell_type": "code",
   "execution_count": 16,
   "metadata": {},
   "outputs": [],
   "source": [
    "# from datetime import datetime"
   ]
  },
  {
   "cell_type": "code",
   "execution_count": 27,
   "metadata": {},
   "outputs": [],
   "source": [
    "# class BikeTimes():\n",
    "#     def __init__(self):\n",
    "#         self.date = datetime.now()\n",
    "#         self.hour = self.date.hour\n",
    "#         self.minute = self.date.minute\n",
    "#         self.url = 'https://api.tfl.gov.uk/Place/Type/BikePoint'\n",
    "#         self.data = requests.get(self.url).json()\n",
    "        \n",
    "#     def save_data(self):\n",
    "#         with open(f'./data/bike_data_{self.hour}_{self.minute}.json', 'w+') as f:\n",
    "#             f.write(json.dumps(self.data, sort_keys = True, indent = 4))\n",
    "        "
   ]
  },
  {
   "cell_type": "code",
   "execution_count": 28,
   "metadata": {},
   "outputs": [],
   "source": [
    "# BikeTimes().save_data()"
   ]
  },
  {
   "cell_type": "code",
   "execution_count": 46,
   "metadata": {},
   "outputs": [
    {
     "data": {
      "text/plain": [
       "'River Street , Clerkenwell'"
      ]
     },
     "execution_count": 46,
     "metadata": {},
     "output_type": "execute_result"
    }
   ],
   "source": [
    "bikes[0]['commonName']"
   ]
  },
  {
   "cell_type": "code",
   "execution_count": 53,
   "metadata": {},
   "outputs": [
    {
     "data": {
      "text/plain": [
       "'4'"
      ]
     },
     "execution_count": 53,
     "metadata": {},
     "output_type": "execute_result"
    }
   ],
   "source": [
    "# num bikes\n",
    "bikes[0]['additionalProperties'][-3]['value']"
   ]
  },
  {
   "cell_type": "code",
   "execution_count": 63,
   "metadata": {},
   "outputs": [],
   "source": [
    "np.array([bikes[x]['additionalProperties'][-3]['value'] for x in range(len(bikes)) ]);"
   ]
  },
  {
   "cell_type": "code",
   "execution_count": 55,
   "metadata": {},
   "outputs": [
    {
     "data": {
      "text/plain": [
       "'15'"
      ]
     },
     "execution_count": 55,
     "metadata": {},
     "output_type": "execute_result"
    }
   ],
   "source": [
    "# num empty docks\n",
    "bikes[0]['additionalProperties'][-2]['value']"
   ]
  },
  {
   "cell_type": "code",
   "execution_count": 56,
   "metadata": {},
   "outputs": [
    {
     "data": {
      "text/plain": [
       "'19'"
      ]
     },
     "execution_count": 56,
     "metadata": {},
     "output_type": "execute_result"
    }
   ],
   "source": [
    "# num docks\n",
    "bikes[0]['additionalProperties'][-1]['value']"
   ]
  },
  {
   "cell_type": "code",
   "execution_count": 57,
   "metadata": {},
   "outputs": [
    {
     "data": {
      "text/plain": [
       "51.529163"
      ]
     },
     "execution_count": 57,
     "metadata": {},
     "output_type": "execute_result"
    }
   ],
   "source": [
    "# lat\n",
    "bikes[0]['lat']"
   ]
  },
  {
   "cell_type": "code",
   "execution_count": 58,
   "metadata": {},
   "outputs": [
    {
     "data": {
      "text/plain": [
       "-0.10997"
      ]
     },
     "execution_count": 58,
     "metadata": {},
     "output_type": "execute_result"
    }
   ],
   "source": [
    "# lon\n",
    "bikes[0]['lon']"
   ]
  },
  {
   "cell_type": "code",
   "execution_count": 43,
   "metadata": {},
   "outputs": [
    {
     "data": {
      "text/plain": [
       "[{'$type': 'Tfl.Api.Presentation.Entities.AdditionalProperties, Tfl.Api.Presentation.Entities',\n",
       "  'category': 'Description',\n",
       "  'key': 'TerminalName',\n",
       "  'modified': '2019-11-08T14:11:23.83Z',\n",
       "  'sourceSystemKey': 'BikePoints',\n",
       "  'value': '001023'},\n",
       " {'$type': 'Tfl.Api.Presentation.Entities.AdditionalProperties, Tfl.Api.Presentation.Entities',\n",
       "  'category': 'Description',\n",
       "  'key': 'Installed',\n",
       "  'modified': '2019-11-08T14:11:23.83Z',\n",
       "  'sourceSystemKey': 'BikePoints',\n",
       "  'value': 'true'},\n",
       " {'$type': 'Tfl.Api.Presentation.Entities.AdditionalProperties, Tfl.Api.Presentation.Entities',\n",
       "  'category': 'Description',\n",
       "  'key': 'Locked',\n",
       "  'modified': '2019-11-08T14:11:23.83Z',\n",
       "  'sourceSystemKey': 'BikePoints',\n",
       "  'value': 'false'},\n",
       " {'$type': 'Tfl.Api.Presentation.Entities.AdditionalProperties, Tfl.Api.Presentation.Entities',\n",
       "  'category': 'Description',\n",
       "  'key': 'InstallDate',\n",
       "  'modified': '2019-11-08T14:11:23.83Z',\n",
       "  'sourceSystemKey': 'BikePoints',\n",
       "  'value': '1278947280000'},\n",
       " {'$type': 'Tfl.Api.Presentation.Entities.AdditionalProperties, Tfl.Api.Presentation.Entities',\n",
       "  'category': 'Description',\n",
       "  'key': 'RemovalDate',\n",
       "  'modified': '2019-11-08T14:11:23.83Z',\n",
       "  'sourceSystemKey': 'BikePoints',\n",
       "  'value': ''},\n",
       " {'$type': 'Tfl.Api.Presentation.Entities.AdditionalProperties, Tfl.Api.Presentation.Entities',\n",
       "  'category': 'Description',\n",
       "  'key': 'Temporary',\n",
       "  'modified': '2019-11-08T14:11:23.83Z',\n",
       "  'sourceSystemKey': 'BikePoints',\n",
       "  'value': 'false'},\n",
       " {'$type': 'Tfl.Api.Presentation.Entities.AdditionalProperties, Tfl.Api.Presentation.Entities',\n",
       "  'category': 'Description',\n",
       "  'key': 'NbBikes',\n",
       "  'modified': '2019-11-08T14:11:23.83Z',\n",
       "  'sourceSystemKey': 'BikePoints',\n",
       "  'value': '4'},\n",
       " {'$type': 'Tfl.Api.Presentation.Entities.AdditionalProperties, Tfl.Api.Presentation.Entities',\n",
       "  'category': 'Description',\n",
       "  'key': 'NbEmptyDocks',\n",
       "  'modified': '2019-11-08T14:11:23.83Z',\n",
       "  'sourceSystemKey': 'BikePoints',\n",
       "  'value': '15'},\n",
       " {'$type': 'Tfl.Api.Presentation.Entities.AdditionalProperties, Tfl.Api.Presentation.Entities',\n",
       "  'category': 'Description',\n",
       "  'key': 'NbDocks',\n",
       "  'modified': '2019-11-08T14:11:23.83Z',\n",
       "  'sourceSystemKey': 'BikePoints',\n",
       "  'value': '19'}]"
      ]
     },
     "execution_count": 43,
     "metadata": {},
     "output_type": "execute_result"
    }
   ],
   "source": [
    "bikes[0]['additionalProperties'][0]"
   ]
  },
  {
   "cell_type": "code",
   "execution_count": 89,
   "metadata": {},
   "outputs": [],
   "source": [
    "import math"
   ]
  },
  {
   "cell_type": "code",
   "execution_count": 95,
   "metadata": {},
   "outputs": [
    {
     "data": {
      "text/plain": [
       "84972392897964072098249533940415832032901226147549483885937628906393387016759749166779390912108512193770727396731176148684817099219862241070518329897737419790700834153338358789804054247254662503406001643932256413944181262536626134781963753899870200241216683120301369375204827350328695627459108294334206019027913654171970749305552969884823232609436511764040695691647958710090181422374514248844937618454949350242415512115167050621676322866110695044767187626021475743251277035950696737988473189355598223688184822894258942937354547600827689072340880783574157611601536909313655637665907495308227315772813753604514703047972667545052382993341295609886125445821680344472136291787954204104578202488733326674486963013530280156726975853827440416172311405531398732685573114934257635906047009853269995109193159402626590282423997495520628272375213203911332399362264123774789131108251376802391556145557618075940012872003438523613025838162437433166091728438034202592564763334170361422871174553523479072202135150477947497462319792004248488747067669226929977889728474667753117513554197181549148693463434107347395476738175071015937790196691810903035212156632705787120639270121315037723516623976522946189161132382463371686857543746042274574224547052957738646625809966919808812294116127379399188579075359032740380579901160073141745025441935558361164158736914927029701136227557285045299271693750581590882877670856450852068994081414494717924806473008367067880435766156267541200120373117672789242005510204657433232442062443350842731528466220850546079536126591907570634996939687881634634077903962785409702209303560414980140946811644475359177263347973998479963954822343870777236845722878913093643097703061981548194975005332841862304172509388532508262400000000000000000000000000000000000000000000000000000000000000000000000000000000000000000000000000000000000000000000000000000000000000000000000000000000000000000000000000000000000000000000000000"
      ]
     },
     "execution_count": 95,
     "metadata": {},
     "output_type": "execute_result"
    }
   ],
   "source": [
    "math.factorial(780)"
   ]
  },
  {
   "cell_type": "code",
   "execution_count": 96,
   "metadata": {},
   "outputs": [
    {
     "data": {
      "text/plain": [
       "608400"
      ]
     },
     "execution_count": 96,
     "metadata": {},
     "output_type": "execute_result"
    }
   ],
   "source": [
    "780**2"
   ]
  },
  {
   "cell_type": "code",
   "execution_count": 98,
   "metadata": {},
   "outputs": [],
   "source": [
    "lst = [(53.1992, 0.0153), (53.1952, 0.0170), (53.1972, 0.0173), (53.1999, 0.0156), (53.1989, 0.0147)]"
   ]
  },
  {
   "cell_type": "code",
   "execution_count": 105,
   "metadata": {},
   "outputs": [
    {
     "name": "stdout",
     "output_type": "stream",
     "text": [
      "True\n",
      "False\n",
      "False\n",
      "True\n",
      "True\n",
      "False\n",
      "True\n",
      "True\n",
      "False\n",
      "False\n",
      "False\n",
      "True\n",
      "True\n",
      "False\n",
      "False\n",
      "True\n",
      "False\n",
      "False\n",
      "True\n",
      "True\n",
      "True\n",
      "False\n",
      "False\n",
      "True\n",
      "True\n"
     ]
    }
   ],
   "source": [
    "for n in range(len(lst)):\n",
    "    lat_n = lst[n][0]\n",
    "    lon_n = lst[n][1]\n",
    "    for i in range(len(lst)):\n",
    "        lat_i = lst[i][0]\n",
    "        lon_i = lst[i][1]\n",
    "        bol = ((lat_n-lat_i)**2 + (lon_n - lon_i)**2 < 0.000005)\n",
    "        print(bol)"
   ]
  },
  {
   "cell_type": "code",
   "execution_count": null,
   "metadata": {},
   "outputs": [],
   "source": []
  }
 ],
 "metadata": {
  "kernelspec": {
   "display_name": "Python [conda env:learn-env] *",
   "language": "python",
   "name": "conda-env-learn-env-py"
  },
  "language_info": {
   "codemirror_mode": {
    "name": "ipython",
    "version": 3
   },
   "file_extension": ".py",
   "mimetype": "text/x-python",
   "name": "python",
   "nbconvert_exporter": "python",
   "pygments_lexer": "ipython3",
   "version": "3.6.9"
  }
 },
 "nbformat": 4,
 "nbformat_minor": 4
}
