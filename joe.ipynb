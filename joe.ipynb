{
 "cells": [
  {
   "cell_type": "code",
   "execution_count": 14,
   "metadata": {},
   "outputs": [],
   "source": [
    "import requests\n",
    "import json\n",
    "from data_taking import BikeTimes"
   ]
  },
  {
   "cell_type": "code",
   "execution_count": 56,
   "metadata": {},
   "outputs": [],
   "source": [
    "# request = requests.get('https://api.tfl.gov.uk/Place/Type/BikePoint')"
   ]
  },
  {
   "cell_type": "code",
   "execution_count": 57,
   "metadata": {},
   "outputs": [],
   "source": [
    "# bikes9 = request.json()"
   ]
  },
  {
   "cell_type": "code",
   "execution_count": 24,
   "metadata": {},
   "outputs": [
    {
     "data": {
      "text/plain": [
       "780"
      ]
     },
     "execution_count": 24,
     "metadata": {},
     "output_type": "execute_result"
    }
   ],
   "source": [
    "# len(bikes)"
   ]
  },
  {
   "cell_type": "code",
   "execution_count": 58,
   "metadata": {},
   "outputs": [],
   "source": [
    "# with open('./bikes_9.json', 'w+') as f:\n",
    "#     f.write(json.dumps(bikes9, sort_keys=True, indent=4))"
   ]
  },
  {
   "cell_type": "code",
   "execution_count": 46,
   "metadata": {},
   "outputs": [],
   "source": [
    "# f = open('bike_test_friday.json')"
   ]
  },
  {
   "cell_type": "code",
   "execution_count": 47,
   "metadata": {},
   "outputs": [],
   "source": [
    "# bikes = json.load(f)"
   ]
  },
  {
   "cell_type": "code",
   "execution_count": 48,
   "metadata": {},
   "outputs": [
    {
     "name": "stdout",
     "output_type": "stream",
     "text": [
      "Phillimore Gardens, Kensington\n",
      "TerminalName 001018\n",
      "Installed true\n",
      "Locked false\n",
      "InstallDate 1278585780000\n",
      "RemovalDate \n",
      "Temporary false\n",
      "NbBikes 14\n",
      "NbEmptyDocks 23\n",
      "NbDocks 37\n",
      "lat 51.499606\n",
      "long -0.197574\n"
     ]
    }
   ],
   "source": [
    "print(bikes[1]['commonName'])\n",
    "for  i in bikes[1]['additionalProperties']:\n",
    "    print(i['key'], i['value'])\n",
    "print('lat', bikes[1]['lat'])\n",
    "print('long', bikes[1]['lon'])"
   ]
  },
  {
   "cell_type": "code",
   "execution_count": 55,
   "metadata": {},
   "outputs": [
    {
     "data": {
      "text/plain": [
       "25"
      ]
     },
     "execution_count": 55,
     "metadata": {},
     "output_type": "execute_result"
    }
   ],
   "source": [
    "5*(26//5)"
   ]
  },
  {
   "cell_type": "code",
   "execution_count": 16,
   "metadata": {},
   "outputs": [],
   "source": [
    "from datetime import datetime"
   ]
  },
  {
   "cell_type": "code",
   "execution_count": 27,
   "metadata": {},
   "outputs": [],
   "source": [
    "class BikeTimes():\n",
    "    def __init__(self):\n",
    "        self.date = datetime.now()\n",
    "        self.hour = self.date.hour\n",
    "        self.minute = self.date.minute\n",
    "        self.url = 'https://api.tfl.gov.uk/Place/Type/BikePoint'\n",
    "        self.data = requests.get(self.url).json()\n",
    "        \n",
    "    def save_data(self):\n",
    "        with open(f'./data/bike_data_{self.hour}_{self.minute}.json', 'w+') as f:\n",
    "            f.write(json.dumps(self.data, sort_keys = True, indent = 4))\n",
    "        "
   ]
  },
  {
   "cell_type": "code",
   "execution_count": 28,
   "metadata": {},
   "outputs": [],
   "source": [
    "BikeTimes().save_data()"
   ]
  },
  {
   "cell_type": "code",
   "execution_count": null,
   "metadata": {},
   "outputs": [],
   "source": []
  }
 ],
 "metadata": {
  "kernelspec": {
   "display_name": "Python [conda env:learn-env] *",
   "language": "python",
   "name": "conda-env-learn-env-py"
  },
  "language_info": {
   "codemirror_mode": {
    "name": "ipython",
    "version": 3
   },
   "file_extension": ".py",
   "mimetype": "text/x-python",
   "name": "python",
   "nbconvert_exporter": "python",
   "pygments_lexer": "ipython3",
   "version": "3.6.9"
  }
 },
 "nbformat": 4,
 "nbformat_minor": 4
}
