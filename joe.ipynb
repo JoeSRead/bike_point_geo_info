{
 "cells": [
  {
   "cell_type": "code",
   "execution_count": 1,
   "metadata": {},
   "outputs": [],
   "source": [
    "import requests\n",
    "import json\n",
    "import pandas as pd\n",
    "import numpy as np\n",
    "import seaborn as sns\n",
    "import matplotlib.pyplot as plt\n",
    "from hypothesis_tests import *\n",
    "\n",
    "%matplotlib inline"
   ]
  },
  {
   "cell_type": "code",
   "execution_count": 2,
   "metadata": {},
   "outputs": [],
   "source": [
    "sns.set_style('whitegrid')"
   ]
  },
  {
   "cell_type": "code",
   "execution_count": 3,
   "metadata": {},
   "outputs": [],
   "source": [
    "# with open('./bike_test_friday.json', 'w+') as f:\n",
    "#     f.write(json.dumps(bikes, sort_keys=True, indent=4))"
   ]
  },
  {
   "cell_type": "code",
   "execution_count": 4,
   "metadata": {},
   "outputs": [],
   "source": [
    "# f = open('./data/bike_test_friday.json')"
   ]
  },
  {
   "cell_type": "code",
   "execution_count": 5,
   "metadata": {},
   "outputs": [],
   "source": [
    "# bikes = json.load(f)"
   ]
  },
  {
   "cell_type": "code",
   "execution_count": 6,
   "metadata": {},
   "outputs": [],
   "source": [
    "# print(bikes[1]['commonName'])\n",
    "# for  i in bikes[1]['additionalProperties']:\n",
    "#     print(i['key'], i['value'])\n",
    "# print('lat', bikes[1]['lat'])\n",
    "# print('long', bikes[1]['lon'])"
   ]
  },
  {
   "cell_type": "code",
   "execution_count": 7,
   "metadata": {},
   "outputs": [],
   "source": [
    "# class BikeTimes():\n",
    "#     def __init__(self):\n",
    "#         self.date = datetime.now()\n",
    "#         self.hour = self.date.hour\n",
    "#         self.minute = self.date.minute\n",
    "#         self.url = 'https://api.tfl.gov.uk/Place/Type/BikePoint'\n",
    "#         self.data = requests.get(self.url).json()\n",
    "        \n",
    "#     def save_data(self):\n",
    "#         with open(f'./bike_data_{self.hour}_{self.minute}', 'w+') as f:\n",
    "#             f.write(json.dumps(self.data, sort_keys = True, indent = 4))\n",
    "        \n",
    "        "
   ]
  },
  {
   "cell_type": "code",
   "execution_count": 8,
   "metadata": {},
   "outputs": [],
   "source": [
    "# BikeTimes().save_data()"
   ]
  },
  {
   "cell_type": "code",
   "execution_count": 9,
   "metadata": {},
   "outputs": [],
   "source": [
    "# geo_test = requests.get(f\"http://www.datasciencetoolkit.org/coordinates2statistics/{lat}%2c{lon}\", params = {'statistics': 'population_density,elevation'}).json()\n"
   ]
  },
  {
   "cell_type": "code",
   "execution_count": 10,
   "metadata": {},
   "outputs": [],
   "source": [
    "# #cols = ['name', 'num_bikes', 'num_empty', 'num_docks', 'lat', 'lon']\n",
    "# bikes_list = []\n",
    "# for i in range(len(bikes)):\n",
    "#     name = bikes[i]['commonName']\n",
    "#     time = 't1'\n",
    "#     num_bikes = int(bikes[i]['additionalProperties'][-3]['value'])\n",
    "#     num_empty = int(bikes[i]['additionalProperties'][-2]['value'])\n",
    "#     num_docks = int(bikes[i]['additionalProperties'][-1]['value'])\n",
    "#     lat = bikes[i]['lat']\n",
    "#     lon = bikes[i]['lon']\n",
    "#     faulty = True if num_docks - num_empty - num_bikes > 0 else False\n",
    "    \n",
    "# #     geo_test = requests.get(f\"http://www.datasciencetoolkit.org/coordinates2statistics/{lat}%2c{lon}\", params = {'statistics': 'population_density,elevation'}).json()\n",
    "# #     elevation = geo_test[0]['statistics']['elevation']['value']\n",
    "# #     pop_dens = geo_test[0]['statistics']['population_density']['value']\n",
    "    \n",
    "#     bike_dict = {'name': name,\n",
    "#                  'time': time,\n",
    "#                  'num_bikes': num_bikes,\n",
    "#                  'num_empty': num_empty,\n",
    "#                  'num_docks': num_docks,\n",
    "#                  'coords': (lat,lon),\n",
    "#                  'faulty': faulty}\n",
    "    \n",
    "#     bikes_list.append(bike_dict)"
   ]
  },
  {
   "cell_type": "code",
   "execution_count": 11,
   "metadata": {},
   "outputs": [],
   "source": [
    "# bikes_df = pd.DataFrame(bikes_list)"
   ]
  },
  {
   "cell_type": "code",
   "execution_count": 12,
   "metadata": {},
   "outputs": [],
   "source": [
    "# # Dont need to run this! Just use the pickle\n",
    "\n",
    "# geo_list = []\n",
    "# for bike in bikes_list:\n",
    "#     lat = bike['coords'][0]\n",
    "#     lon = bike['coords'][1]\n",
    "#     geo_test = requests.get(f\"http://www.datasciencetoolkit.org/coordinates2statistics/{lat}%2c{lon}\", params = {'statistics': 'population_density,elevation'}).json()\n",
    "#     elevation = geo_test[0]['statistics']['elevation']['value']\n",
    "#     pop_dens = geo_test[0]['statistics']['population_density']['value']\n",
    "#     geo_dict = {'coords': bike['coords'],\n",
    "#                'elevation': elevation,\n",
    "#                'pop_dens': pop_dens}\n",
    "#     geo_list.append(geo_dict)"
   ]
  },
  {
   "cell_type": "code",
   "execution_count": 13,
   "metadata": {},
   "outputs": [],
   "source": [
    "# dont run!\n",
    "# pop_75 = geo_df.pop_dens.quantile(0.75)"
   ]
  },
  {
   "cell_type": "code",
   "execution_count": 14,
   "metadata": {},
   "outputs": [],
   "source": [
    "# pop_mean"
   ]
  },
  {
   "cell_type": "code",
   "execution_count": 15,
   "metadata": {},
   "outputs": [],
   "source": [
    "# geo_df = pd.DataFrame(geo_list).set_index('coords')"
   ]
  },
  {
   "cell_type": "code",
   "execution_count": 16,
   "metadata": {},
   "outputs": [],
   "source": [
    "# geo_df['high_pop?'] = geo_df.pop_dens > pop_75"
   ]
  },
  {
   "cell_type": "code",
   "execution_count": 17,
   "metadata": {},
   "outputs": [],
   "source": [
    "# # Hill finder\n",
    "\n",
    "# hill_list = []\n",
    "# for n in range(len(geo_df)):\n",
    "#     lat_n = geo_df.index[n][0]\n",
    "#     lon_n = geo_df.index[n][1]\n",
    "# #     print (lat_n,lon_n)\n",
    "#     elev_list = []\n",
    "#     for i in range(len(geo_df)):\n",
    "#         lat_i = geo_df.index[i][0]\n",
    "#         lon_i = geo_df.index[i][1]\n",
    "# #         print(lat_i,lon_i)\n",
    "#         bol = ((lat_n-lat_i)**2 + (lon_n - lon_i)**2 < 0.000005)\n",
    "#         if bol:\n",
    "#             elev_list.append(geo_df.iloc[i].elevation)\n",
    "#     hill = (geo_df.iloc[n].elevation > np.mean(elev_list))\n",
    "#     hill_list.append(hill)"
   ]
  },
  {
   "cell_type": "code",
   "execution_count": 18,
   "metadata": {},
   "outputs": [],
   "source": [
    "# hill_list[:5]"
   ]
  },
  {
   "cell_type": "code",
   "execution_count": 19,
   "metadata": {},
   "outputs": [],
   "source": [
    "# geo_df['hill'] = hill_list"
   ]
  },
  {
   "cell_type": "code",
   "execution_count": 20,
   "metadata": {},
   "outputs": [],
   "source": [
    "# geo_df.head()"
   ]
  },
  {
   "cell_type": "code",
   "execution_count": 21,
   "metadata": {},
   "outputs": [],
   "source": [
    "# geo_df.to_pickle('geo_dataframe')"
   ]
  },
  {
   "cell_type": "code",
   "execution_count": 22,
   "metadata": {},
   "outputs": [],
   "source": [
    "geo_df = pd.read_pickle('geo_dataframe')"
   ]
  },
  {
   "cell_type": "code",
   "execution_count": 23,
   "metadata": {},
   "outputs": [
    {
     "data": {
      "text/html": [
       "<div>\n",
       "<style scoped>\n",
       "    .dataframe tbody tr th:only-of-type {\n",
       "        vertical-align: middle;\n",
       "    }\n",
       "\n",
       "    .dataframe tbody tr th {\n",
       "        vertical-align: top;\n",
       "    }\n",
       "\n",
       "    .dataframe thead th {\n",
       "        text-align: right;\n",
       "    }\n",
       "</style>\n",
       "<table border=\"1\" class=\"dataframe\">\n",
       "  <thead>\n",
       "    <tr style=\"text-align: right;\">\n",
       "      <th></th>\n",
       "      <th>elevation</th>\n",
       "      <th>pop_dens</th>\n",
       "      <th>high_pop?</th>\n",
       "      <th>hill</th>\n",
       "    </tr>\n",
       "    <tr>\n",
       "      <th>coords</th>\n",
       "      <th></th>\n",
       "      <th></th>\n",
       "      <th></th>\n",
       "      <th></th>\n",
       "    </tr>\n",
       "  </thead>\n",
       "  <tbody>\n",
       "    <tr>\n",
       "      <td>(51.529163, -0.10997)</td>\n",
       "      <td>31</td>\n",
       "      <td>10010</td>\n",
       "      <td>False</td>\n",
       "      <td>False</td>\n",
       "    </tr>\n",
       "    <tr>\n",
       "      <td>(51.499606, -0.197574)</td>\n",
       "      <td>17</td>\n",
       "      <td>11436</td>\n",
       "      <td>True</td>\n",
       "      <td>False</td>\n",
       "    </tr>\n",
       "    <tr>\n",
       "      <td>(51.521283, -0.084605)</td>\n",
       "      <td>27</td>\n",
       "      <td>10010</td>\n",
       "      <td>False</td>\n",
       "      <td>False</td>\n",
       "    </tr>\n",
       "    <tr>\n",
       "      <td>(51.530059, -0.120973)</td>\n",
       "      <td>22</td>\n",
       "      <td>10010</td>\n",
       "      <td>False</td>\n",
       "      <td>True</td>\n",
       "    </tr>\n",
       "    <tr>\n",
       "      <td>(51.507385, -0.09644)</td>\n",
       "      <td>16</td>\n",
       "      <td>10010</td>\n",
       "      <td>False</td>\n",
       "      <td>False</td>\n",
       "    </tr>\n",
       "  </tbody>\n",
       "</table>\n",
       "</div>"
      ],
      "text/plain": [
       "                        elevation  pop_dens  high_pop?   hill\n",
       "coords                                                       \n",
       "(51.529163, -0.10997)          31     10010      False  False\n",
       "(51.499606, -0.197574)         17     11436       True  False\n",
       "(51.521283, -0.084605)         27     10010      False  False\n",
       "(51.530059, -0.120973)         22     10010      False   True\n",
       "(51.507385, -0.09644)          16     10010      False  False"
      ]
     },
     "execution_count": 23,
     "metadata": {},
     "output_type": "execute_result"
    }
   ],
   "source": [
    "geo_df.head()"
   ]
  },
  {
   "cell_type": "code",
   "execution_count": 24,
   "metadata": {},
   "outputs": [],
   "source": [
    "# bikes_df = bikes_df.join(geo_df, on = 'coords')"
   ]
  },
  {
   "cell_type": "code",
   "execution_count": 25,
   "metadata": {},
   "outputs": [],
   "source": [
    "# bikes_df.coords[0][0]"
   ]
  },
  {
   "cell_type": "code",
   "execution_count": 26,
   "metadata": {},
   "outputs": [],
   "source": [
    "# faulty_list = []\n",
    "# for n in range(len(bikes_df)):\n",
    "#     lat_n = bikes_df.coords[n][0]\n",
    "#     lon_n = bikes_df.coords[n][1]\n",
    "#     faulty_near = 0\n",
    "#     for i in range(len(geo_df)):\n",
    "#         lat_i = bikes_df.coords[i][0]\n",
    "#         lon_i = bikes_df.coords[i][1]\n",
    "#         bol = ((lat_n-lat_i)**2 + (lon_n - lon_i)**2 < 0.000005)\n",
    "#         if bol:\n",
    "#             faulty_near += 1\n",
    "#     faulty_list.append(faulty_near)"
   ]
  },
  {
   "cell_type": "code",
   "execution_count": 27,
   "metadata": {},
   "outputs": [],
   "source": [
    "# bikes_df['num_faulty_near'] = faulty_list"
   ]
  },
  {
   "cell_type": "code",
   "execution_count": 28,
   "metadata": {},
   "outputs": [],
   "source": [
    "# bikes_df['faulty_near'] = (bikes_df['num_faulty_near'] >= 2)"
   ]
  },
  {
   "cell_type": "code",
   "execution_count": 29,
   "metadata": {},
   "outputs": [],
   "source": [
    "# bikes_df['num_faulty'] = bikes_df['num_docks'] - bikes_df['num_empty'] - bikes_df['num_bikes']"
   ]
  },
  {
   "cell_type": "code",
   "execution_count": 10,
   "metadata": {},
   "outputs": [],
   "source": [
    "# bikes_df.to_pickle('bikes_dataframe')"
   ]
  },
  {
   "cell_type": "code",
   "execution_count": 2,
   "metadata": {},
   "outputs": [],
   "source": [
    "bikes_df = pd.read_pickle('bikes_dataframe')"
   ]
  },
  {
   "cell_type": "code",
   "execution_count": 3,
   "metadata": {},
   "outputs": [
    {
     "data": {
      "text/html": [
       "<div>\n",
       "<style scoped>\n",
       "    .dataframe tbody tr th:only-of-type {\n",
       "        vertical-align: middle;\n",
       "    }\n",
       "\n",
       "    .dataframe tbody tr th {\n",
       "        vertical-align: top;\n",
       "    }\n",
       "\n",
       "    .dataframe thead th {\n",
       "        text-align: right;\n",
       "    }\n",
       "</style>\n",
       "<table border=\"1\" class=\"dataframe\">\n",
       "  <thead>\n",
       "    <tr style=\"text-align: right;\">\n",
       "      <th></th>\n",
       "      <th>name</th>\n",
       "      <th>time</th>\n",
       "      <th>num_bikes</th>\n",
       "      <th>num_empty</th>\n",
       "      <th>num_docks</th>\n",
       "      <th>coords</th>\n",
       "      <th>faulty</th>\n",
       "      <th>elevation</th>\n",
       "      <th>pop_dens</th>\n",
       "      <th>high_pop</th>\n",
       "      <th>hill</th>\n",
       "      <th>num_faulty_near</th>\n",
       "      <th>faulty_near</th>\n",
       "      <th>num_faulty</th>\n",
       "    </tr>\n",
       "  </thead>\n",
       "  <tbody>\n",
       "    <tr>\n",
       "      <td>0</td>\n",
       "      <td>River Street , Clerkenwell</td>\n",
       "      <td>t1</td>\n",
       "      <td>4</td>\n",
       "      <td>15</td>\n",
       "      <td>19</td>\n",
       "      <td>(51.529163, -0.10997)</td>\n",
       "      <td>False</td>\n",
       "      <td>31</td>\n",
       "      <td>10010</td>\n",
       "      <td>False</td>\n",
       "      <td>False</td>\n",
       "      <td>1</td>\n",
       "      <td>False</td>\n",
       "      <td>0</td>\n",
       "    </tr>\n",
       "    <tr>\n",
       "      <td>1</td>\n",
       "      <td>Phillimore Gardens, Kensington</td>\n",
       "      <td>t1</td>\n",
       "      <td>14</td>\n",
       "      <td>23</td>\n",
       "      <td>37</td>\n",
       "      <td>(51.499606, -0.197574)</td>\n",
       "      <td>False</td>\n",
       "      <td>17</td>\n",
       "      <td>11436</td>\n",
       "      <td>True</td>\n",
       "      <td>False</td>\n",
       "      <td>1</td>\n",
       "      <td>False</td>\n",
       "      <td>0</td>\n",
       "    </tr>\n",
       "    <tr>\n",
       "      <td>2</td>\n",
       "      <td>Christopher Street, Liverpool Street</td>\n",
       "      <td>t1</td>\n",
       "      <td>25</td>\n",
       "      <td>6</td>\n",
       "      <td>32</td>\n",
       "      <td>(51.521283, -0.084605)</td>\n",
       "      <td>True</td>\n",
       "      <td>27</td>\n",
       "      <td>10010</td>\n",
       "      <td>False</td>\n",
       "      <td>False</td>\n",
       "      <td>3</td>\n",
       "      <td>True</td>\n",
       "      <td>1</td>\n",
       "    </tr>\n",
       "    <tr>\n",
       "      <td>3</td>\n",
       "      <td>St. Chad's Street, King's Cross</td>\n",
       "      <td>t1</td>\n",
       "      <td>20</td>\n",
       "      <td>3</td>\n",
       "      <td>23</td>\n",
       "      <td>(51.530059, -0.120973)</td>\n",
       "      <td>False</td>\n",
       "      <td>22</td>\n",
       "      <td>10010</td>\n",
       "      <td>False</td>\n",
       "      <td>True</td>\n",
       "      <td>3</td>\n",
       "      <td>True</td>\n",
       "      <td>0</td>\n",
       "    </tr>\n",
       "    <tr>\n",
       "      <td>4</td>\n",
       "      <td>New Globe Walk, Bankside</td>\n",
       "      <td>t1</td>\n",
       "      <td>7</td>\n",
       "      <td>12</td>\n",
       "      <td>19</td>\n",
       "      <td>(51.507385, -0.09644)</td>\n",
       "      <td>False</td>\n",
       "      <td>16</td>\n",
       "      <td>10010</td>\n",
       "      <td>False</td>\n",
       "      <td>False</td>\n",
       "      <td>1</td>\n",
       "      <td>False</td>\n",
       "      <td>0</td>\n",
       "    </tr>\n",
       "  </tbody>\n",
       "</table>\n",
       "</div>"
      ],
      "text/plain": [
       "                                   name time  num_bikes  num_empty  num_docks  \\\n",
       "0            River Street , Clerkenwell   t1          4         15         19   \n",
       "1        Phillimore Gardens, Kensington   t1         14         23         37   \n",
       "2  Christopher Street, Liverpool Street   t1         25          6         32   \n",
       "3       St. Chad's Street, King's Cross   t1         20          3         23   \n",
       "4              New Globe Walk, Bankside   t1          7         12         19   \n",
       "\n",
       "                   coords  faulty  elevation  pop_dens  high_pop   hill  \\\n",
       "0   (51.529163, -0.10997)   False         31     10010     False  False   \n",
       "1  (51.499606, -0.197574)   False         17     11436      True  False   \n",
       "2  (51.521283, -0.084605)    True         27     10010     False  False   \n",
       "3  (51.530059, -0.120973)   False         22     10010     False   True   \n",
       "4   (51.507385, -0.09644)   False         16     10010     False  False   \n",
       "\n",
       "   num_faulty_near  faulty_near  num_faulty  \n",
       "0                1        False           0  \n",
       "1                1        False           0  \n",
       "2                3         True           1  \n",
       "3                3         True           0  \n",
       "4                1        False           0  "
      ]
     },
     "execution_count": 3,
     "metadata": {},
     "output_type": "execute_result"
    }
   ],
   "source": [
    "bikes_df.head()"
   ]
  },
  {
   "cell_type": "code",
   "execution_count": 8,
   "metadata": {
    "jupyter": {
     "source_hidden": true
    }
   },
   "outputs": [],
   "source": [
    "# bikes_df.rename(columns={'high_pop?': 'high_pop'}, inplace=True)"
   ]
  },
  {
   "cell_type": "code",
   "execution_count": 33,
   "metadata": {
    "jupyter": {
     "source_hidden": true
    }
   },
   "outputs": [],
   "source": [
    "# bikes_df['coords'][0]"
   ]
  },
  {
   "cell_type": "code",
   "execution_count": 34,
   "metadata": {
    "jupyter": {
     "source_hidden": true
    }
   },
   "outputs": [],
   "source": [
    "# # We think we'll only get a small effect sizes so we explore what it a good number of times to take samples\n",
    "\n",
    "# from statsmodels.stats.power import tt_solve_power\n",
    "# for i in [0.10, 0.15, 0.20, 0.25, 0.3, 0.35, 0.4, 0.45, 0.5]:\n",
    "#     n = int(tt_solve_power(alpha=0.05, effect_size= i, power=0.8))\n",
    "#     print(\"For an effect size of {} we need to sample {} times\".format(i,n))"
   ]
  },
  {
   "cell_type": "code",
   "execution_count": 35,
   "metadata": {
    "jupyter": {
     "source_hidden": true
    }
   },
   "outputs": [],
   "source": [
    "# 1\n",
    "# H0 = Faulty bikepoints have the same number of faulty bikepoints near-by as non-faulty bikepoints\n",
    "# H1 = Faulty bikepoints have more likely to have more than 1 faulty bikepoints near them than non-faulty bikepoints"
   ]
  },
  {
   "cell_type": "code",
   "execution_count": 36,
   "metadata": {
    "jupyter": {
     "source_hidden": true
    }
   },
   "outputs": [],
   "source": [
    "# # Non-faulty counts\n",
    "# #\n",
    "# (bikes_df.loc[bikes_df['faulty'] == False].faulty_near).value_counts()"
   ]
  },
  {
   "cell_type": "code",
   "execution_count": 37,
   "metadata": {
    "jupyter": {
     "source_hidden": true
    }
   },
   "outputs": [],
   "source": [
    "# # Faulty counts\n",
    "# # \n",
    "# (bikes_df.loc[bikes_df['faulty'] == True].faulty_near).value_counts()"
   ]
  },
  {
   "cell_type": "code",
   "execution_count": 38,
   "metadata": {
    "jupyter": {
     "source_hidden": true
    }
   },
   "outputs": [],
   "source": [
    "# faulty_bikes_df = bikes_df.loc[bikes_df['faulty'] == True]\n",
    "# non_faulty_bikes_df = bikes_df.loc[bikes_df['faulty'] == False]"
   ]
  },
  {
   "cell_type": "code",
   "execution_count": 39,
   "metadata": {
    "jupyter": {
     "source_hidden": true
    }
   },
   "outputs": [],
   "source": [
    "# # Dataframe of subsamples\n",
    "# # \n",
    "# display(faulty_bikes_df.head(), len(faulty_bikes_df))"
   ]
  },
  {
   "cell_type": "code",
   "execution_count": 40,
   "metadata": {
    "jupyter": {
     "source_hidden": true
    }
   },
   "outputs": [],
   "source": [
    "# display(non_faulty_bikes_df.head(), len(non_faulty_bikes_df))"
   ]
  },
  {
   "cell_type": "code",
   "execution_count": 41,
   "metadata": {
    "jupyter": {
     "source_hidden": true
    }
   },
   "outputs": [],
   "source": [
    "# Taking our effect size to be 0.2 we need to sample 198 times"
   ]
  },
  {
   "cell_type": "code",
   "execution_count": 42,
   "metadata": {
    "jupyter": {
     "source_hidden": true
    }
   },
   "outputs": [],
   "source": [
    "# # Sample the bikespoints that are faulty\n",
    " \n",
    "# import scipy.stats\n",
    "# np.random.seed(3)\n",
    "# probs1_subsample1 = []\n",
    "# for i in range(198):\n",
    "#     sample = faulty_bikes_df.sample(n=50, replace = True)\n",
    "#     p = np.sum(sample.faulty_near)/50\n",
    "#     probs1_subsample1.append(p)\n",
    "\n",
    "# sns.distplot(probs1_subsample1, norm_hist= True)"
   ]
  },
  {
   "cell_type": "code",
   "execution_count": 43,
   "metadata": {
    "jupyter": {
     "source_hidden": true
    }
   },
   "outputs": [],
   "source": [
    "# # Sample the non-faulty bikepoints\n",
    "\n",
    "# np.random.seed(3)\n",
    "# probs1_subsample2 = []\n",
    "# for i in range(198):\n",
    "#     sample = non_faulty_bikes_df.sample(n=50, replace = True)\n",
    "#     p = np.sum(sample.faulty_near)/50\n",
    "#     probs1_subsample2.append(p)\n",
    "\n",
    "\n",
    "# sns.distplot(probs1_subsample2, norm_hist= True)"
   ]
  },
  {
   "cell_type": "code",
   "execution_count": 44,
   "metadata": {
    "jupyter": {
     "source_hidden": true
    }
   },
   "outputs": [],
   "source": [
    "# sns.distplot(probs1_subsample1, hist=False, norm_hist=True, label='Faulty bikepoints', color='red')\n",
    "# sns.distplot(probs1_subsample2, hist=False, norm_hist=True, label='Non-faulty bikepoints', color='skyblue')\n",
    "# plt.axvline(x = np.mean(probs1_subsample1), color='red')\n",
    "# plt.axvline(x = np.mean(probs1_subsample2), color='skyblue')\n",
    "# plt.xlabel('Probability of having more than 1 faulty neighbour')\n",
    "# plt.legend();"
   ]
  },
  {
   "cell_type": "code",
   "execution_count": 45,
   "metadata": {
    "jupyter": {
     "source_hidden": true
    }
   },
   "outputs": [],
   "source": [
    "# print('Faulty var = {}'.format(np.var(probs1_subsample1)) + '\\nNon-faulty var = {}'.format(np.var(probs1_subsample2)))"
   ]
  },
  {
   "cell_type": "code",
   "execution_count": 46,
   "metadata": {
    "jupyter": {
     "source_hidden": true
    }
   },
   "outputs": [],
   "source": [
    "# # Need to take the ratio of the vars to see if they're close enough for a t test\n",
    "\n",
    "# np.var(probs1_subsample1)/np.var(probs1_subsample2)"
   ]
  },
  {
   "cell_type": "code",
   "execution_count": 47,
   "metadata": {
    "jupyter": {
     "source_hidden": true
    }
   },
   "outputs": [],
   "source": [
    "# scipy.stats.ttest_ind(probs1_subsample1, probs1_subsample2)"
   ]
  },
  {
   "cell_type": "code",
   "execution_count": null,
   "metadata": {},
   "outputs": [],
   "source": []
  },
  {
   "cell_type": "code",
   "execution_count": null,
   "metadata": {},
   "outputs": [],
   "source": []
  },
  {
   "cell_type": "code",
   "execution_count": null,
   "metadata": {},
   "outputs": [],
   "source": []
  },
  {
   "cell_type": "code",
   "execution_count": 48,
   "metadata": {
    "jupyter": {
     "source_hidden": true
    }
   },
   "outputs": [],
   "source": [
    "# 2) Bikepoints at a high elevation are smaller.\n",
    "# H0 = Bikepoints on hills have the same number of docks as bikepoints that are not on hills\n",
    "# H1= Bikepoints on hills have fewer docks than bikepoints that are not on hills"
   ]
  },
  {
   "cell_type": "code",
   "execution_count": 49,
   "metadata": {
    "jupyter": {
     "source_hidden": true
    }
   },
   "outputs": [],
   "source": [
    "# # Need a hill dataframe and a non-hill dataframe\n",
    "\n",
    "# hill_bikes_df = bikes_df.loc[bikes_df['hill'] == True]\n",
    "# no_hill_bikes_df = bikes_df.loc[bikes_df['hill'] == False]\n",
    "# display(hill_bikes_df.head(), len(hill_bikes_df))"
   ]
  },
  {
   "cell_type": "code",
   "execution_count": 50,
   "metadata": {
    "jupyter": {
     "source_hidden": true
    }
   },
   "outputs": [],
   "source": [
    "# display(no_hill_bikes_df.head(), len(no_hill_bikes_df))"
   ]
  },
  {
   "cell_type": "code",
   "execution_count": 51,
   "metadata": {
    "jupyter": {
     "source_hidden": true
    }
   },
   "outputs": [],
   "source": [
    "# # Sample the mean number of docks from bikespoints that are on a hill\n",
    " \n",
    "# np.random.seed(3)\n",
    "# probs2_subsample1 = []\n",
    "# for i in range(198):\n",
    "#     sample = hill_bikes_df.sample(n=50, replace = True)\n",
    "#     docks = sample.num_docks\n",
    "#     probs2_subsample1.append(np.mean(docks))\n",
    "\n",
    "# sns.distplot(probs2_subsample1, norm_hist= True)\n",
    "# plt.xlabel('Mean number of bike docks')\n",
    "# plt.title('Number of bikedocks in bikepoints on hills');"
   ]
  },
  {
   "cell_type": "code",
   "execution_count": 52,
   "metadata": {
    "jupyter": {
     "source_hidden": true
    }
   },
   "outputs": [],
   "source": [
    "# # Sample the mean number of docks from bikespoints that are not on a hill\n",
    " \n",
    "# np.random.seed(3)\n",
    "# probs2_subsample2 = []\n",
    "# for i in range(198):\n",
    "#     sample = no_hill_bikes_df.sample(n=50, replace = True)\n",
    "#     docks = sample.num_docks\n",
    "#     probs2_subsample2.append(np.mean(docks))\n",
    "\n",
    "# sns.distplot(probs2_subsample2, norm_hist= True)\n",
    "# plt.xlabel('Mean number of bike docks')\n",
    "# plt.title('Number of bikedocks in bikepoints not on hills');"
   ]
  },
  {
   "cell_type": "code",
   "execution_count": 53,
   "metadata": {
    "jupyter": {
     "source_hidden": true
    }
   },
   "outputs": [],
   "source": [
    "# sns.distplot(probs2_subsample1, hist=False, norm_hist=True, label='Bikepoints on Hills', color='red')\n",
    "# sns.distplot(probs2_subsample2, hist=False, norm_hist=True, label='Bikepoints not on hills', color='skyblue')\n",
    "# plt.axvline(x = np.mean(probs2_subsample1), color='red')\n",
    "# plt.axvline(x = np.mean(probs2_subsample2), color='skyblue')\n",
    "# plt.xlabel('Mean number of bike docks')\n",
    "# plt.legend();"
   ]
  },
  {
   "cell_type": "code",
   "execution_count": 54,
   "metadata": {
    "jupyter": {
     "source_hidden": true
    }
   },
   "outputs": [],
   "source": [
    "# # Test the relative variences\n",
    "\n",
    "# print('hill var = {}'.format(np.var(probs2_subsample1)) + '\\nno hill var = {}'.format(np.var(probs2_subsample2)))"
   ]
  },
  {
   "cell_type": "code",
   "execution_count": 55,
   "metadata": {
    "jupyter": {
     "source_hidden": true
    }
   },
   "outputs": [],
   "source": [
    "# # Need to take the ratio of the vars to see if they're close enough for a t test\n",
    "\n",
    "# np.var(probs2_subsample1)/np.var(probs2_subsample2)"
   ]
  },
  {
   "cell_type": "code",
   "execution_count": 56,
   "metadata": {
    "jupyter": {
     "source_hidden": true
    }
   },
   "outputs": [],
   "source": [
    "# scipy.stats.ttest_ind(probs2_subsample1, probs2_subsample2, equal_var=False)"
   ]
  },
  {
   "cell_type": "code",
   "execution_count": 57,
   "metadata": {},
   "outputs": [
    {
     "data": {
      "text/html": [
       "<div>\n",
       "<style scoped>\n",
       "    .dataframe tbody tr th:only-of-type {\n",
       "        vertical-align: middle;\n",
       "    }\n",
       "\n",
       "    .dataframe tbody tr th {\n",
       "        vertical-align: top;\n",
       "    }\n",
       "\n",
       "    .dataframe thead th {\n",
       "        text-align: right;\n",
       "    }\n",
       "</style>\n",
       "<table border=\"1\" class=\"dataframe\">\n",
       "  <thead>\n",
       "    <tr style=\"text-align: right;\">\n",
       "      <th></th>\n",
       "      <th>name</th>\n",
       "      <th>time</th>\n",
       "      <th>num_bikes</th>\n",
       "      <th>num_empty</th>\n",
       "      <th>num_docks</th>\n",
       "      <th>coords</th>\n",
       "      <th>faulty</th>\n",
       "      <th>elevation</th>\n",
       "      <th>pop_dens</th>\n",
       "      <th>high_pop?</th>\n",
       "      <th>hill</th>\n",
       "      <th>num_faulty_near</th>\n",
       "      <th>faulty_near</th>\n",
       "      <th>num_faulty</th>\n",
       "    </tr>\n",
       "  </thead>\n",
       "  <tbody>\n",
       "    <tr>\n",
       "      <td>2</td>\n",
       "      <td>Christopher Street, Liverpool Street</td>\n",
       "      <td>t1</td>\n",
       "      <td>25</td>\n",
       "      <td>6</td>\n",
       "      <td>32</td>\n",
       "      <td>(51.521283, -0.084605)</td>\n",
       "      <td>True</td>\n",
       "      <td>27</td>\n",
       "      <td>10010</td>\n",
       "      <td>False</td>\n",
       "      <td>False</td>\n",
       "      <td>3</td>\n",
       "      <td>True</td>\n",
       "      <td>1</td>\n",
       "    </tr>\n",
       "    <tr>\n",
       "      <td>7</td>\n",
       "      <td>Malet Street, Bloomsbury</td>\n",
       "      <td>t1</td>\n",
       "      <td>43</td>\n",
       "      <td>5</td>\n",
       "      <td>49</td>\n",
       "      <td>(51.52168, -0.130431)</td>\n",
       "      <td>True</td>\n",
       "      <td>35</td>\n",
       "      <td>9279</td>\n",
       "      <td>False</td>\n",
       "      <td>False</td>\n",
       "      <td>1</td>\n",
       "      <td>False</td>\n",
       "      <td>1</td>\n",
       "    </tr>\n",
       "    <tr>\n",
       "      <td>9</td>\n",
       "      <td>Belgrove Street , King's Cross</td>\n",
       "      <td>t1</td>\n",
       "      <td>24</td>\n",
       "      <td>16</td>\n",
       "      <td>48</td>\n",
       "      <td>(51.529943, -0.123616)</td>\n",
       "      <td>True</td>\n",
       "      <td>24</td>\n",
       "      <td>10010</td>\n",
       "      <td>False</td>\n",
       "      <td>True</td>\n",
       "      <td>2</td>\n",
       "      <td>True</td>\n",
       "      <td>8</td>\n",
       "    </tr>\n",
       "    <tr>\n",
       "      <td>15</td>\n",
       "      <td>Drummond Street , Euston</td>\n",
       "      <td>t1</td>\n",
       "      <td>16</td>\n",
       "      <td>10</td>\n",
       "      <td>28</td>\n",
       "      <td>(51.527326, -0.136052)</td>\n",
       "      <td>True</td>\n",
       "      <td>28</td>\n",
       "      <td>9279</td>\n",
       "      <td>False</td>\n",
       "      <td>False</td>\n",
       "      <td>2</td>\n",
       "      <td>True</td>\n",
       "      <td>2</td>\n",
       "    </tr>\n",
       "    <tr>\n",
       "      <td>17</td>\n",
       "      <td>Doric Way , Somers Town</td>\n",
       "      <td>t1</td>\n",
       "      <td>2</td>\n",
       "      <td>44</td>\n",
       "      <td>50</td>\n",
       "      <td>(51.528833, -0.13225)</td>\n",
       "      <td>True</td>\n",
       "      <td>30</td>\n",
       "      <td>9279</td>\n",
       "      <td>False</td>\n",
       "      <td>False</td>\n",
       "      <td>2</td>\n",
       "      <td>True</td>\n",
       "      <td>4</td>\n",
       "    </tr>\n",
       "  </tbody>\n",
       "</table>\n",
       "</div>"
      ],
      "text/plain": [
       "                                    name time  num_bikes  num_empty  \\\n",
       "2   Christopher Street, Liverpool Street   t1         25          6   \n",
       "7               Malet Street, Bloomsbury   t1         43          5   \n",
       "9         Belgrove Street , King's Cross   t1         24         16   \n",
       "15              Drummond Street , Euston   t1         16         10   \n",
       "17               Doric Way , Somers Town   t1          2         44   \n",
       "\n",
       "    num_docks                  coords  faulty  elevation  pop_dens  high_pop?  \\\n",
       "2          32  (51.521283, -0.084605)    True         27     10010      False   \n",
       "7          49   (51.52168, -0.130431)    True         35      9279      False   \n",
       "9          48  (51.529943, -0.123616)    True         24     10010      False   \n",
       "15         28  (51.527326, -0.136052)    True         28      9279      False   \n",
       "17         50   (51.528833, -0.13225)    True         30      9279      False   \n",
       "\n",
       "     hill  num_faulty_near  faulty_near  num_faulty  \n",
       "2   False                3         True           1  \n",
       "7   False                1        False           1  \n",
       "9    True                2         True           8  \n",
       "15  False                2         True           2  \n",
       "17  False                2         True           4  "
      ]
     },
     "metadata": {},
     "output_type": "display_data"
    },
    {
     "name": "stdout",
     "output_type": "stream",
     "text": [
      "\n",
      "\n"
     ]
    },
    {
     "data": {
      "text/html": [
       "<div>\n",
       "<style scoped>\n",
       "    .dataframe tbody tr th:only-of-type {\n",
       "        vertical-align: middle;\n",
       "    }\n",
       "\n",
       "    .dataframe tbody tr th {\n",
       "        vertical-align: top;\n",
       "    }\n",
       "\n",
       "    .dataframe thead th {\n",
       "        text-align: right;\n",
       "    }\n",
       "</style>\n",
       "<table border=\"1\" class=\"dataframe\">\n",
       "  <thead>\n",
       "    <tr style=\"text-align: right;\">\n",
       "      <th></th>\n",
       "      <th>name</th>\n",
       "      <th>time</th>\n",
       "      <th>num_bikes</th>\n",
       "      <th>num_empty</th>\n",
       "      <th>num_docks</th>\n",
       "      <th>coords</th>\n",
       "      <th>faulty</th>\n",
       "      <th>elevation</th>\n",
       "      <th>pop_dens</th>\n",
       "      <th>high_pop?</th>\n",
       "      <th>hill</th>\n",
       "      <th>num_faulty_near</th>\n",
       "      <th>faulty_near</th>\n",
       "      <th>num_faulty</th>\n",
       "    </tr>\n",
       "  </thead>\n",
       "  <tbody>\n",
       "    <tr>\n",
       "      <td>0</td>\n",
       "      <td>River Street , Clerkenwell</td>\n",
       "      <td>t1</td>\n",
       "      <td>4</td>\n",
       "      <td>15</td>\n",
       "      <td>19</td>\n",
       "      <td>(51.529163, -0.10997)</td>\n",
       "      <td>False</td>\n",
       "      <td>31</td>\n",
       "      <td>10010</td>\n",
       "      <td>False</td>\n",
       "      <td>False</td>\n",
       "      <td>1</td>\n",
       "      <td>False</td>\n",
       "      <td>0</td>\n",
       "    </tr>\n",
       "    <tr>\n",
       "      <td>1</td>\n",
       "      <td>Phillimore Gardens, Kensington</td>\n",
       "      <td>t1</td>\n",
       "      <td>14</td>\n",
       "      <td>23</td>\n",
       "      <td>37</td>\n",
       "      <td>(51.499606, -0.197574)</td>\n",
       "      <td>False</td>\n",
       "      <td>17</td>\n",
       "      <td>11436</td>\n",
       "      <td>True</td>\n",
       "      <td>False</td>\n",
       "      <td>1</td>\n",
       "      <td>False</td>\n",
       "      <td>0</td>\n",
       "    </tr>\n",
       "    <tr>\n",
       "      <td>3</td>\n",
       "      <td>St. Chad's Street, King's Cross</td>\n",
       "      <td>t1</td>\n",
       "      <td>20</td>\n",
       "      <td>3</td>\n",
       "      <td>23</td>\n",
       "      <td>(51.530059, -0.120973)</td>\n",
       "      <td>False</td>\n",
       "      <td>22</td>\n",
       "      <td>10010</td>\n",
       "      <td>False</td>\n",
       "      <td>True</td>\n",
       "      <td>3</td>\n",
       "      <td>True</td>\n",
       "      <td>0</td>\n",
       "    </tr>\n",
       "    <tr>\n",
       "      <td>4</td>\n",
       "      <td>New Globe Walk, Bankside</td>\n",
       "      <td>t1</td>\n",
       "      <td>7</td>\n",
       "      <td>12</td>\n",
       "      <td>19</td>\n",
       "      <td>(51.507385, -0.09644)</td>\n",
       "      <td>False</td>\n",
       "      <td>16</td>\n",
       "      <td>10010</td>\n",
       "      <td>False</td>\n",
       "      <td>False</td>\n",
       "      <td>1</td>\n",
       "      <td>False</td>\n",
       "      <td>0</td>\n",
       "    </tr>\n",
       "    <tr>\n",
       "      <td>5</td>\n",
       "      <td>Park Street, Bankside</td>\n",
       "      <td>t1</td>\n",
       "      <td>18</td>\n",
       "      <td>0</td>\n",
       "      <td>18</td>\n",
       "      <td>(51.505974, -0.092754)</td>\n",
       "      <td>False</td>\n",
       "      <td>8</td>\n",
       "      <td>10010</td>\n",
       "      <td>False</td>\n",
       "      <td>False</td>\n",
       "      <td>2</td>\n",
       "      <td>True</td>\n",
       "      <td>0</td>\n",
       "    </tr>\n",
       "  </tbody>\n",
       "</table>\n",
       "</div>"
      ],
      "text/plain": [
       "                              name time  num_bikes  num_empty  num_docks  \\\n",
       "0       River Street , Clerkenwell   t1          4         15         19   \n",
       "1   Phillimore Gardens, Kensington   t1         14         23         37   \n",
       "3  St. Chad's Street, King's Cross   t1         20          3         23   \n",
       "4         New Globe Walk, Bankside   t1          7         12         19   \n",
       "5            Park Street, Bankside   t1         18          0         18   \n",
       "\n",
       "                   coords  faulty  elevation  pop_dens  high_pop?   hill  \\\n",
       "0   (51.529163, -0.10997)   False         31     10010      False  False   \n",
       "1  (51.499606, -0.197574)   False         17     11436       True  False   \n",
       "3  (51.530059, -0.120973)   False         22     10010      False   True   \n",
       "4   (51.507385, -0.09644)   False         16     10010      False  False   \n",
       "5  (51.505974, -0.092754)   False          8     10010      False  False   \n",
       "\n",
       "   num_faulty_near  faulty_near  num_faulty  \n",
       "0                1        False           0  \n",
       "1                1        False           0  \n",
       "3                3         True           0  \n",
       "4                1        False           0  \n",
       "5                2         True           0  "
      ]
     },
     "metadata": {},
     "output_type": "display_data"
    },
    {
     "data": {
      "image/png": "[encoded data removed]",
      "text/plain": [
       "<Figure size 720x504 with 1 Axes>"
      ]
     },
     "metadata": {},
     "output_type": "display_data"
    },
    {
     "data": {
      "image/png": "[encoded data removed]",
      "text/plain": [
       "<Figure size 720x504 with 1 Axes>"
      ]
     },
     "metadata": {},
     "output_type": "display_data"
    },
    {
     "name": "stdout",
     "output_type": "stream",
     "text": [
      "faulty var = 0.004447801244770941\n",
      "Non-faulty var = 0.004943424140393838\n",
      "The ratio 0.899740972745379 is close enough to 1 to use a t-test\n",
      "Based on the p value of 4.217402024387721e-10 and our aplha of 0.05 we reject the null hypothesis.\n",
      "with an effect size, cohen's d, of -0.16882695484904997 and power of 0.8.\n"
     ]
    },
    {
     "data": {
      "image/png": "[encoded data removed]",
      "text/plain": [
       "<Figure size 720x504 with 1 Axes>"
      ]
     },
     "metadata": {},
     "output_type": "display_data"
    }
   ],
   "source": [
    "hypothesis_test_one(bikes_df, 'faulty', 'faulty_near')"
   ]
  },
  {
   "cell_type": "code",
   "execution_count": 58,
   "metadata": {},
   "outputs": [
    {
     "data": {
      "text/html": [
       "<div>\n",
       "<style scoped>\n",
       "    .dataframe tbody tr th:only-of-type {\n",
       "        vertical-align: middle;\n",
       "    }\n",
       "\n",
       "    .dataframe tbody tr th {\n",
       "        vertical-align: top;\n",
       "    }\n",
       "\n",
       "    .dataframe thead th {\n",
       "        text-align: right;\n",
       "    }\n",
       "</style>\n",
       "<table border=\"1\" class=\"dataframe\">\n",
       "  <thead>\n",
       "    <tr style=\"text-align: right;\">\n",
       "      <th></th>\n",
       "      <th>name</th>\n",
       "      <th>time</th>\n",
       "      <th>num_bikes</th>\n",
       "      <th>num_empty</th>\n",
       "      <th>num_docks</th>\n",
       "      <th>coords</th>\n",
       "      <th>faulty</th>\n",
       "      <th>elevation</th>\n",
       "      <th>pop_dens</th>\n",
       "      <th>high_pop?</th>\n",
       "      <th>hill</th>\n",
       "      <th>num_faulty_near</th>\n",
       "      <th>faulty_near</th>\n",
       "      <th>num_faulty</th>\n",
       "    </tr>\n",
       "  </thead>\n",
       "  <tbody>\n",
       "    <tr>\n",
       "      <td>3</td>\n",
       "      <td>St. Chad's Street, King's Cross</td>\n",
       "      <td>t1</td>\n",
       "      <td>20</td>\n",
       "      <td>3</td>\n",
       "      <td>23</td>\n",
       "      <td>(51.530059, -0.120973)</td>\n",
       "      <td>False</td>\n",
       "      <td>22</td>\n",
       "      <td>10010</td>\n",
       "      <td>False</td>\n",
       "      <td>True</td>\n",
       "      <td>3</td>\n",
       "      <td>True</td>\n",
       "      <td>0</td>\n",
       "    </tr>\n",
       "    <tr>\n",
       "      <td>8</td>\n",
       "      <td>Scala Street, Fitzrovia</td>\n",
       "      <td>t1</td>\n",
       "      <td>13</td>\n",
       "      <td>8</td>\n",
       "      <td>21</td>\n",
       "      <td>(51.519914, -0.136039)</td>\n",
       "      <td>False</td>\n",
       "      <td>37</td>\n",
       "      <td>9279</td>\n",
       "      <td>False</td>\n",
       "      <td>True</td>\n",
       "      <td>3</td>\n",
       "      <td>True</td>\n",
       "      <td>0</td>\n",
       "    </tr>\n",
       "    <tr>\n",
       "      <td>9</td>\n",
       "      <td>Belgrove Street , King's Cross</td>\n",
       "      <td>t1</td>\n",
       "      <td>24</td>\n",
       "      <td>16</td>\n",
       "      <td>48</td>\n",
       "      <td>(51.529943, -0.123616)</td>\n",
       "      <td>True</td>\n",
       "      <td>24</td>\n",
       "      <td>10010</td>\n",
       "      <td>False</td>\n",
       "      <td>True</td>\n",
       "      <td>2</td>\n",
       "      <td>True</td>\n",
       "      <td>8</td>\n",
       "    </tr>\n",
       "    <tr>\n",
       "      <td>10</td>\n",
       "      <td>Great Russell Street, Bloomsbury</td>\n",
       "      <td>t1</td>\n",
       "      <td>15</td>\n",
       "      <td>11</td>\n",
       "      <td>26</td>\n",
       "      <td>(51.517727, -0.127854)</td>\n",
       "      <td>False</td>\n",
       "      <td>37</td>\n",
       "      <td>9279</td>\n",
       "      <td>False</td>\n",
       "      <td>True</td>\n",
       "      <td>2</td>\n",
       "      <td>True</td>\n",
       "      <td>0</td>\n",
       "    </tr>\n",
       "    <tr>\n",
       "      <td>12</td>\n",
       "      <td>Hatton Wall, Holborn</td>\n",
       "      <td>t1</td>\n",
       "      <td>10</td>\n",
       "      <td>16</td>\n",
       "      <td>26</td>\n",
       "      <td>(51.521661, -0.109006)</td>\n",
       "      <td>False</td>\n",
       "      <td>25</td>\n",
       "      <td>10010</td>\n",
       "      <td>False</td>\n",
       "      <td>True</td>\n",
       "      <td>2</td>\n",
       "      <td>True</td>\n",
       "      <td>0</td>\n",
       "    </tr>\n",
       "  </tbody>\n",
       "</table>\n",
       "</div>"
      ],
      "text/plain": [
       "                                name time  num_bikes  num_empty  num_docks  \\\n",
       "3    St. Chad's Street, King's Cross   t1         20          3         23   \n",
       "8            Scala Street, Fitzrovia   t1         13          8         21   \n",
       "9     Belgrove Street , King's Cross   t1         24         16         48   \n",
       "10  Great Russell Street, Bloomsbury   t1         15         11         26   \n",
       "12              Hatton Wall, Holborn   t1         10         16         26   \n",
       "\n",
       "                    coords  faulty  elevation  pop_dens  high_pop?  hill  \\\n",
       "3   (51.530059, -0.120973)   False         22     10010      False  True   \n",
       "8   (51.519914, -0.136039)   False         37      9279      False  True   \n",
       "9   (51.529943, -0.123616)    True         24     10010      False  True   \n",
       "10  (51.517727, -0.127854)   False         37      9279      False  True   \n",
       "12  (51.521661, -0.109006)   False         25     10010      False  True   \n",
       "\n",
       "    num_faulty_near  faulty_near  num_faulty  \n",
       "3                 3         True           0  \n",
       "8                 3         True           0  \n",
       "9                 2         True           8  \n",
       "10                2         True           0  \n",
       "12                2         True           0  "
      ]
     },
     "metadata": {},
     "output_type": "display_data"
    },
    {
     "name": "stdout",
     "output_type": "stream",
     "text": [
      "\n",
      "\n"
     ]
    },
    {
     "data": {
      "text/html": [
       "<div>\n",
       "<style scoped>\n",
       "    .dataframe tbody tr th:only-of-type {\n",
       "        vertical-align: middle;\n",
       "    }\n",
       "\n",
       "    .dataframe tbody tr th {\n",
       "        vertical-align: top;\n",
       "    }\n",
       "\n",
       "    .dataframe thead th {\n",
       "        text-align: right;\n",
       "    }\n",
       "</style>\n",
       "<table border=\"1\" class=\"dataframe\">\n",
       "  <thead>\n",
       "    <tr style=\"text-align: right;\">\n",
       "      <th></th>\n",
       "      <th>name</th>\n",
       "      <th>time</th>\n",
       "      <th>num_bikes</th>\n",
       "      <th>num_empty</th>\n",
       "      <th>num_docks</th>\n",
       "      <th>coords</th>\n",
       "      <th>faulty</th>\n",
       "      <th>elevation</th>\n",
       "      <th>pop_dens</th>\n",
       "      <th>high_pop?</th>\n",
       "      <th>hill</th>\n",
       "      <th>num_faulty_near</th>\n",
       "      <th>faulty_near</th>\n",
       "      <th>num_faulty</th>\n",
       "    </tr>\n",
       "  </thead>\n",
       "  <tbody>\n",
       "    <tr>\n",
       "      <td>0</td>\n",
       "      <td>River Street , Clerkenwell</td>\n",
       "      <td>t1</td>\n",
       "      <td>4</td>\n",
       "      <td>15</td>\n",
       "      <td>19</td>\n",
       "      <td>(51.529163, -0.10997)</td>\n",
       "      <td>False</td>\n",
       "      <td>31</td>\n",
       "      <td>10010</td>\n",
       "      <td>False</td>\n",
       "      <td>False</td>\n",
       "      <td>1</td>\n",
       "      <td>False</td>\n",
       "      <td>0</td>\n",
       "    </tr>\n",
       "    <tr>\n",
       "      <td>1</td>\n",
       "      <td>Phillimore Gardens, Kensington</td>\n",
       "      <td>t1</td>\n",
       "      <td>14</td>\n",
       "      <td>23</td>\n",
       "      <td>37</td>\n",
       "      <td>(51.499606, -0.197574)</td>\n",
       "      <td>False</td>\n",
       "      <td>17</td>\n",
       "      <td>11436</td>\n",
       "      <td>True</td>\n",
       "      <td>False</td>\n",
       "      <td>1</td>\n",
       "      <td>False</td>\n",
       "      <td>0</td>\n",
       "    </tr>\n",
       "    <tr>\n",
       "      <td>2</td>\n",
       "      <td>Christopher Street, Liverpool Street</td>\n",
       "      <td>t1</td>\n",
       "      <td>25</td>\n",
       "      <td>6</td>\n",
       "      <td>32</td>\n",
       "      <td>(51.521283, -0.084605)</td>\n",
       "      <td>True</td>\n",
       "      <td>27</td>\n",
       "      <td>10010</td>\n",
       "      <td>False</td>\n",
       "      <td>False</td>\n",
       "      <td>3</td>\n",
       "      <td>True</td>\n",
       "      <td>1</td>\n",
       "    </tr>\n",
       "    <tr>\n",
       "      <td>4</td>\n",
       "      <td>New Globe Walk, Bankside</td>\n",
       "      <td>t1</td>\n",
       "      <td>7</td>\n",
       "      <td>12</td>\n",
       "      <td>19</td>\n",
       "      <td>(51.507385, -0.09644)</td>\n",
       "      <td>False</td>\n",
       "      <td>16</td>\n",
       "      <td>10010</td>\n",
       "      <td>False</td>\n",
       "      <td>False</td>\n",
       "      <td>1</td>\n",
       "      <td>False</td>\n",
       "      <td>0</td>\n",
       "    </tr>\n",
       "    <tr>\n",
       "      <td>5</td>\n",
       "      <td>Park Street, Bankside</td>\n",
       "      <td>t1</td>\n",
       "      <td>18</td>\n",
       "      <td>0</td>\n",
       "      <td>18</td>\n",
       "      <td>(51.505974, -0.092754)</td>\n",
       "      <td>False</td>\n",
       "      <td>8</td>\n",
       "      <td>10010</td>\n",
       "      <td>False</td>\n",
       "      <td>False</td>\n",
       "      <td>2</td>\n",
       "      <td>True</td>\n",
       "      <td>0</td>\n",
       "    </tr>\n",
       "  </tbody>\n",
       "</table>\n",
       "</div>"
      ],
      "text/plain": [
       "                                   name time  num_bikes  num_empty  num_docks  \\\n",
       "0            River Street , Clerkenwell   t1          4         15         19   \n",
       "1        Phillimore Gardens, Kensington   t1         14         23         37   \n",
       "2  Christopher Street, Liverpool Street   t1         25          6         32   \n",
       "4              New Globe Walk, Bankside   t1          7         12         19   \n",
       "5                 Park Street, Bankside   t1         18          0         18   \n",
       "\n",
       "                   coords  faulty  elevation  pop_dens  high_pop?   hill  \\\n",
       "0   (51.529163, -0.10997)   False         31     10010      False  False   \n",
       "1  (51.499606, -0.197574)   False         17     11436       True  False   \n",
       "2  (51.521283, -0.084605)    True         27     10010      False  False   \n",
       "4   (51.507385, -0.09644)   False         16     10010      False  False   \n",
       "5  (51.505974, -0.092754)   False          8     10010      False  False   \n",
       "\n",
       "   num_faulty_near  faulty_near  num_faulty  \n",
       "0                1        False           0  \n",
       "1                1        False           0  \n",
       "2                3         True           1  \n",
       "4                1        False           0  \n",
       "5                2         True           0  "
      ]
     },
     "metadata": {},
     "output_type": "display_data"
    },
    {
     "data": {
      "image/png": "[encoded data removed]",
      "text/plain": [
       "<Figure size 720x504 with 1 Axes>"
      ]
     },
     "metadata": {},
     "output_type": "display_data"
    },
    {
     "data": {
      "image/png": "[encoded data removed]",
      "text/plain": [
       "<Figure size 720x504 with 1 Axes>"
      ]
     },
     "metadata": {},
     "output_type": "display_data"
    },
    {
     "name": "stdout",
     "output_type": "stream",
     "text": [
      "hill var = 1.1002545046423833\n",
      "Non-hill var = 1.8982498214467909\n",
      "The ratio 0.5796152288342118 is not close enough to 1 to use a t-test, so we use Welch's t-test\n",
      "Based on the p value of 4.657931549223401e-12 and our aplha of 0.05 we reject the null hypothesis.\n",
      "with an effect size, cohen's d, of -0.7999906709686907 and power of 0.8.\n"
     ]
    },
    {
     "data": {
      "image/png": "[encoded data removed]",
      "text/plain": [
       "<Figure size 720x504 with 1 Axes>"
      ]
     },
     "metadata": {},
     "output_type": "display_data"
    }
   ],
   "source": [
    "hypothesis_test_one(bikes_df, 'hill', 'num_docks')"
   ]
  },
  {
   "cell_type": "code",
   "execution_count": null,
   "metadata": {},
   "outputs": [],
   "source": []
  }
 ],
 "metadata": {
  "kernelspec": {
   "display_name": "Python [conda env:learn-env] *",
   "language": "python",
   "name": "conda-env-learn-env-py"
  },
  "language_info": {
   "codemirror_mode": {
    "name": "ipython",
    "version": 3
   },
   "file_extension": ".py",
   "mimetype": "text/x-python",
   "name": "python",
   "nbconvert_exporter": "python",
   "pygments_lexer": "ipython3",
   "version": "3.6.9"
  }
 },
 "nbformat": 4,
 "nbformat_minor": 4
}
