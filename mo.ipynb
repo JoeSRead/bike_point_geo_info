{
 "cells": [
  {
   "cell_type": "code",
   "execution_count": 2,
   "metadata": {},
   "outputs": [],
   "source": [
    "import requests\n",
    "import json\n",
    "import pandas as pd\n",
    "import numpy as np"
   ]
  },
  {
   "cell_type": "code",
   "execution_count": 3,
   "metadata": {},
   "outputs": [],
   "source": [
    "# request = requests.get('https://api.tfl.gov.uk/Place/Type/BikePoint')"
   ]
  },
  {
   "cell_type": "code",
   "execution_count": 4,
   "metadata": {},
   "outputs": [],
   "source": [
    "# bikes = request.json()"
   ]
  },
  {
   "cell_type": "code",
   "execution_count": 5,
   "metadata": {},
   "outputs": [],
   "source": [
    "# len(bikes)"
   ]
  },
  {
   "cell_type": "code",
   "execution_count": 6,
   "metadata": {},
   "outputs": [],
   "source": [
    "# with open('./bike_test_friday.json', 'w+') as f:\n",
    "#     f.write(json.dumps(bikes, sort_keys=True, indent=4))"
   ]
  },
  {
   "cell_type": "code",
   "execution_count": 8,
   "metadata": {},
   "outputs": [],
   "source": [
    "f = open('./data/bike_test_friday.json')"
   ]
  },
  {
   "cell_type": "code",
   "execution_count": 9,
   "metadata": {},
   "outputs": [],
   "source": [
    "bikes = json.load(f)"
   ]
  },
  {
   "cell_type": "code",
   "execution_count": 10,
   "metadata": {},
   "outputs": [
    {
     "name": "stdout",
     "output_type": "stream",
     "text": [
      "Phillimore Gardens, Kensington\n",
      "TerminalName 001018\n",
      "Installed true\n",
      "Locked false\n",
      "InstallDate 1278585780000\n",
      "RemovalDate \n",
      "Temporary false\n",
      "NbBikes 14\n",
      "NbEmptyDocks 23\n",
      "NbDocks 37\n",
      "lat 51.499606\n",
      "long -0.197574\n"
     ]
    }
   ],
   "source": [
    "print(bikes[1]['commonName'])\n",
    "for  i in bikes[1]['additionalProperties']:\n",
    "    print(i['key'], i['value'])\n",
    "print('lat', bikes[1]['lat'])\n",
    "print('long', bikes[1]['lon'])"
   ]
  },
  {
   "cell_type": "code",
   "execution_count": 11,
   "metadata": {},
   "outputs": [],
   "source": [
    "from datetime import datetime"
   ]
  },
  {
   "cell_type": "code",
   "execution_count": 12,
   "metadata": {},
   "outputs": [
    {
     "data": {
      "text/plain": [
       "2019"
      ]
     },
     "execution_count": 12,
     "metadata": {},
     "output_type": "execute_result"
    }
   ],
   "source": [
    "datetime.now().year"
   ]
  },
  {
   "cell_type": "code",
   "execution_count": 24,
   "metadata": {},
   "outputs": [],
   "source": [
    "class BikeTimes():\n",
    "    def __init__(self):\n",
    "        self.date = datetime.now()\n",
    "        self.hour = self.date.hour\n",
    "        self.minute = self.date.minute\n",
    "        self.url = 'https://api.tfl.gov.uk/Place/Type/BikePoint'\n",
    "        self.data = requests.get(self.url).json()\n",
    "        \n",
    "    def save_data(self):\n",
    "        with open(f'./bike_data_{self.hour}_{self.minute}.json', 'w+') as f:\n",
    "            f.write(json.dumps(self.data, sort_keys = True, indent = 4))\n",
    "        \n",
    "        "
   ]
  },
  {
   "cell_type": "code",
   "execution_count": 8,
   "metadata": {},
   "outputs": [],
   "source": [
    "BikeTimes().save_data()"
   ]
  },
  {
   "cell_type": "code",
   "execution_count": 14,
   "metadata": {},
   "outputs": [
    {
     "data": {
      "text/plain": [
       "{'$type': 'Tfl.Api.Presentation.Entities.Place, Tfl.Api.Presentation.Entities',\n",
       " 'additionalProperties': [{'$type': 'Tfl.Api.Presentation.Entities.AdditionalProperties, Tfl.Api.Presentation.Entities',\n",
       "   'category': 'Description',\n",
       "   'key': 'TerminalName',\n",
       "   'modified': '2019-11-08T14:11:23.83Z',\n",
       "   'sourceSystemKey': 'BikePoints',\n",
       "   'value': '001023'},\n",
       "  {'$type': 'Tfl.Api.Presentation.Entities.AdditionalProperties, Tfl.Api.Presentation.Entities',\n",
       "   'category': 'Description',\n",
       "   'key': 'Installed',\n",
       "   'modified': '2019-11-08T14:11:23.83Z',\n",
       "   'sourceSystemKey': 'BikePoints',\n",
       "   'value': 'true'},\n",
       "  {'$type': 'Tfl.Api.Presentation.Entities.AdditionalProperties, Tfl.Api.Presentation.Entities',\n",
       "   'category': 'Description',\n",
       "   'key': 'Locked',\n",
       "   'modified': '2019-11-08T14:11:23.83Z',\n",
       "   'sourceSystemKey': 'BikePoints',\n",
       "   'value': 'false'},\n",
       "  {'$type': 'Tfl.Api.Presentation.Entities.AdditionalProperties, Tfl.Api.Presentation.Entities',\n",
       "   'category': 'Description',\n",
       "   'key': 'InstallDate',\n",
       "   'modified': '2019-11-08T14:11:23.83Z',\n",
       "   'sourceSystemKey': 'BikePoints',\n",
       "   'value': '1278947280000'},\n",
       "  {'$type': 'Tfl.Api.Presentation.Entities.AdditionalProperties, Tfl.Api.Presentation.Entities',\n",
       "   'category': 'Description',\n",
       "   'key': 'RemovalDate',\n",
       "   'modified': '2019-11-08T14:11:23.83Z',\n",
       "   'sourceSystemKey': 'BikePoints',\n",
       "   'value': ''},\n",
       "  {'$type': 'Tfl.Api.Presentation.Entities.AdditionalProperties, Tfl.Api.Presentation.Entities',\n",
       "   'category': 'Description',\n",
       "   'key': 'Temporary',\n",
       "   'modified': '2019-11-08T14:11:23.83Z',\n",
       "   'sourceSystemKey': 'BikePoints',\n",
       "   'value': 'false'},\n",
       "  {'$type': 'Tfl.Api.Presentation.Entities.AdditionalProperties, Tfl.Api.Presentation.Entities',\n",
       "   'category': 'Description',\n",
       "   'key': 'NbBikes',\n",
       "   'modified': '2019-11-08T14:11:23.83Z',\n",
       "   'sourceSystemKey': 'BikePoints',\n",
       "   'value': '4'},\n",
       "  {'$type': 'Tfl.Api.Presentation.Entities.AdditionalProperties, Tfl.Api.Presentation.Entities',\n",
       "   'category': 'Description',\n",
       "   'key': 'NbEmptyDocks',\n",
       "   'modified': '2019-11-08T14:11:23.83Z',\n",
       "   'sourceSystemKey': 'BikePoints',\n",
       "   'value': '15'},\n",
       "  {'$type': 'Tfl.Api.Presentation.Entities.AdditionalProperties, Tfl.Api.Presentation.Entities',\n",
       "   'category': 'Description',\n",
       "   'key': 'NbDocks',\n",
       "   'modified': '2019-11-08T14:11:23.83Z',\n",
       "   'sourceSystemKey': 'BikePoints',\n",
       "   'value': '19'}],\n",
       " 'children': [],\n",
       " 'childrenUrls': [],\n",
       " 'commonName': 'River Street , Clerkenwell',\n",
       " 'id': 'BikePoints_1',\n",
       " 'lat': 51.529163,\n",
       " 'lon': -0.10997,\n",
       " 'placeType': 'BikePoint',\n",
       " 'url': '/Place/BikePoints_1'}"
      ]
     },
     "execution_count": 14,
     "metadata": {},
     "output_type": "execute_result"
    }
   ],
   "source": [
    "bikes[0]"
   ]
  },
  {
   "cell_type": "code",
   "execution_count": 16,
   "metadata": {},
   "outputs": [
    {
     "data": {
      "text/plain": [
       "[{'name': 'River Street , Clerkenwell',\n",
       "  'time': 't1',\n",
       "  'num_bikes': 4,\n",
       "  'num_empty': 15,\n",
       "  'num_docks': 19,\n",
       "  'coords': (51.529163, -0.10997),\n",
       "  'faulty': False},\n",
       " {'name': 'Phillimore Gardens, Kensington',\n",
       "  'time': 't1',\n",
       "  'num_bikes': 14,\n",
       "  'num_empty': 23,\n",
       "  'num_docks': 37,\n",
       "  'coords': (51.499606, -0.197574),\n",
       "  'faulty': False},\n",
       " {'name': 'Christopher Street, Liverpool Street',\n",
       "  'time': 't1',\n",
       "  'num_bikes': 25,\n",
       "  'num_empty': 6,\n",
       "  'num_docks': 32,\n",
       "  'coords': (51.521283, -0.084605),\n",
       "  'faulty': True},\n",
       " {'name': \"St. Chad's Street, King's Cross\",\n",
       "  'time': 't1',\n",
       "  'num_bikes': 20,\n",
       "  'num_empty': 3,\n",
       "  'num_docks': 23,\n",
       "  'coords': (51.530059, -0.120973),\n",
       "  'faulty': False},\n",
       " {'name': 'New Globe Walk, Bankside',\n",
       "  'time': 't1',\n",
       "  'num_bikes': 7,\n",
       "  'num_empty': 12,\n",
       "  'num_docks': 19,\n",
       "  'coords': (51.507385, -0.09644),\n",
       "  'faulty': False}]"
      ]
     },
     "execution_count": 16,
     "metadata": {},
     "output_type": "execute_result"
    }
   ],
   "source": [
    "#cols = ['name', 'num_bikes', 'num_empty', 'num_docks', 'lat', 'lon']\n",
    "bikes_list = []\n",
    "for i in range(len(bikes)):\n",
    "    name = bikes[i]['commonName']\n",
    "    time = 't1'\n",
    "    num_bikes = int(bikes[i]['additionalProperties'][-3]['value'])\n",
    "    num_empty = int(bikes[i]['additionalProperties'][-2]['value'])\n",
    "    num_docks = int(bikes[i]['additionalProperties'][-1]['value'])\n",
    "    lat = bikes[i]['lat']\n",
    "    lon = bikes[i]['lon']\n",
    "    faulty = True if num_docks - num_empty - num_bikes > 0 else False\n",
    "    \n",
    "#     geo_test = requests.get(f\"http://www.datasciencetoolkit.org/coordinates2statistics/{lat}%2c{lon}\", params = {'statistics': 'population_density,elevation'}).json()\n",
    "#     elevation = geo_test[0]['statistics']['elevation']['value']\n",
    "#     pop_dens = geo_test[0]['statistics']['population_density']['value']\n",
    "    \n",
    "    bike_dict = {'name': name,\n",
    "                 'time': time,\n",
    "                 'num_bikes': num_bikes,\n",
    "                 'num_empty': num_empty,\n",
    "                 'num_docks': num_docks,\n",
    "                 'coords': (lat,lon),\n",
    "                 'faulty': faulty}\n",
    "    \n",
    "    bikes_list.append(bike_dict)\n",
    "\n",
    "bikes_list[:5]"
   ]
  },
  {
   "cell_type": "code",
   "execution_count": 17,
   "metadata": {},
   "outputs": [],
   "source": [
    "bikes_df = pd.DataFrame(bikes_list)"
   ]
  },
  {
   "cell_type": "code",
   "execution_count": 18,
   "metadata": {},
   "outputs": [
    {
     "data": {
      "text/html": [
       "<div>\n",
       "<style scoped>\n",
       "    .dataframe tbody tr th:only-of-type {\n",
       "        vertical-align: middle;\n",
       "    }\n",
       "\n",
       "    .dataframe tbody tr th {\n",
       "        vertical-align: top;\n",
       "    }\n",
       "\n",
       "    .dataframe thead th {\n",
       "        text-align: right;\n",
       "    }\n",
       "</style>\n",
       "<table border=\"1\" class=\"dataframe\">\n",
       "  <thead>\n",
       "    <tr style=\"text-align: right;\">\n",
       "      <th></th>\n",
       "      <th>name</th>\n",
       "      <th>time</th>\n",
       "      <th>num_bikes</th>\n",
       "      <th>num_empty</th>\n",
       "      <th>num_docks</th>\n",
       "      <th>coords</th>\n",
       "      <th>faulty</th>\n",
       "    </tr>\n",
       "  </thead>\n",
       "  <tbody>\n",
       "    <tr>\n",
       "      <td>0</td>\n",
       "      <td>River Street , Clerkenwell</td>\n",
       "      <td>t1</td>\n",
       "      <td>4</td>\n",
       "      <td>15</td>\n",
       "      <td>19</td>\n",
       "      <td>(51.529163, -0.10997)</td>\n",
       "      <td>False</td>\n",
       "    </tr>\n",
       "    <tr>\n",
       "      <td>1</td>\n",
       "      <td>Phillimore Gardens, Kensington</td>\n",
       "      <td>t1</td>\n",
       "      <td>14</td>\n",
       "      <td>23</td>\n",
       "      <td>37</td>\n",
       "      <td>(51.499606, -0.197574)</td>\n",
       "      <td>False</td>\n",
       "    </tr>\n",
       "    <tr>\n",
       "      <td>2</td>\n",
       "      <td>Christopher Street, Liverpool Street</td>\n",
       "      <td>t1</td>\n",
       "      <td>25</td>\n",
       "      <td>6</td>\n",
       "      <td>32</td>\n",
       "      <td>(51.521283, -0.084605)</td>\n",
       "      <td>True</td>\n",
       "    </tr>\n",
       "    <tr>\n",
       "      <td>3</td>\n",
       "      <td>St. Chad's Street, King's Cross</td>\n",
       "      <td>t1</td>\n",
       "      <td>20</td>\n",
       "      <td>3</td>\n",
       "      <td>23</td>\n",
       "      <td>(51.530059, -0.120973)</td>\n",
       "      <td>False</td>\n",
       "    </tr>\n",
       "    <tr>\n",
       "      <td>4</td>\n",
       "      <td>New Globe Walk, Bankside</td>\n",
       "      <td>t1</td>\n",
       "      <td>7</td>\n",
       "      <td>12</td>\n",
       "      <td>19</td>\n",
       "      <td>(51.507385, -0.09644)</td>\n",
       "      <td>False</td>\n",
       "    </tr>\n",
       "  </tbody>\n",
       "</table>\n",
       "</div>"
      ],
      "text/plain": [
       "                                   name time  num_bikes  num_empty  num_docks  \\\n",
       "0            River Street , Clerkenwell   t1          4         15         19   \n",
       "1        Phillimore Gardens, Kensington   t1         14         23         37   \n",
       "2  Christopher Street, Liverpool Street   t1         25          6         32   \n",
       "3       St. Chad's Street, King's Cross   t1         20          3         23   \n",
       "4              New Globe Walk, Bankside   t1          7         12         19   \n",
       "\n",
       "                   coords  faulty  \n",
       "0   (51.529163, -0.10997)   False  \n",
       "1  (51.499606, -0.197574)   False  \n",
       "2  (51.521283, -0.084605)    True  \n",
       "3  (51.530059, -0.120973)   False  \n",
       "4   (51.507385, -0.09644)   False  "
      ]
     },
     "execution_count": 18,
     "metadata": {},
     "output_type": "execute_result"
    }
   ],
   "source": [
    "bikes_df.head()"
   ]
  },
  {
   "cell_type": "code",
   "execution_count": 19,
   "metadata": {},
   "outputs": [
    {
     "name": "stdout",
     "output_type": "stream",
     "text": [
      "<class 'pandas.core.frame.DataFrame'>\n",
      "RangeIndex: 780 entries, 0 to 779\n",
      "Data columns (total 7 columns):\n",
      "name         780 non-null object\n",
      "time         780 non-null object\n",
      "num_bikes    780 non-null int64\n",
      "num_empty    780 non-null int64\n",
      "num_docks    780 non-null int64\n",
      "coords       780 non-null object\n",
      "faulty       780 non-null bool\n",
      "dtypes: bool(1), int64(3), object(3)\n",
      "memory usage: 37.4+ KB\n"
     ]
    }
   ],
   "source": [
    "bikes_df.info()"
   ]
  },
  {
   "cell_type": "code",
   "execution_count": 20,
   "metadata": {},
   "outputs": [],
   "source": [
    "geo_list = []\n",
    "for bike in bikes_list:\n",
    "    lat = bike['coords'][0]\n",
    "    lon = bike['coords'][1]\n",
    "    geo_test = requests.get(f\"http://www.datasciencetoolkit.org/coordinates2statistics/{lat}%2c{lon}\", params = {'statistics': 'population_density,elevation'}).json()\n",
    "    elevation = geo_test[0]['statistics']['elevation']['value']\n",
    "    pop_dens = geo_test[0]['statistics']['population_density']['value']\n",
    "    geo_dict = {'coords': bike['coords'],\n",
    "               'elevation': elevation,\n",
    "               'pop_dens': pop_dens}\n",
    "    geo_list.append(geo_dict)"
   ]
  },
  {
   "cell_type": "code",
   "execution_count": 21,
   "metadata": {},
   "outputs": [
    {
     "data": {
      "text/plain": [
       "[{'coords': (51.529163, -0.10997), 'elevation': 31, 'pop_dens': 10010},\n",
       " {'coords': (51.499606, -0.197574), 'elevation': 17, 'pop_dens': 11436},\n",
       " {'coords': (51.521283, -0.084605), 'elevation': 27, 'pop_dens': 10010},\n",
       " {'coords': (51.530059, -0.120973), 'elevation': 22, 'pop_dens': 10010},\n",
       " {'coords': (51.507385, -0.09644), 'elevation': 16, 'pop_dens': 10010}]"
      ]
     },
     "execution_count": 21,
     "metadata": {},
     "output_type": "execute_result"
    }
   ],
   "source": [
    "geo_list[:5]"
   ]
  },
  {
   "cell_type": "code",
   "execution_count": 22,
   "metadata": {},
   "outputs": [],
   "source": [
    "geo_df = pd.DataFrame(geo_list).set_index('coords')"
   ]
  },
  {
   "cell_type": "code",
   "execution_count": 23,
   "metadata": {},
   "outputs": [
    {
     "data": {
      "text/html": [
       "<div>\n",
       "<style scoped>\n",
       "    .dataframe tbody tr th:only-of-type {\n",
       "        vertical-align: middle;\n",
       "    }\n",
       "\n",
       "    .dataframe tbody tr th {\n",
       "        vertical-align: top;\n",
       "    }\n",
       "\n",
       "    .dataframe thead th {\n",
       "        text-align: right;\n",
       "    }\n",
       "</style>\n",
       "<table border=\"1\" class=\"dataframe\">\n",
       "  <thead>\n",
       "    <tr style=\"text-align: right;\">\n",
       "      <th></th>\n",
       "      <th>elevation</th>\n",
       "      <th>pop_dens</th>\n",
       "    </tr>\n",
       "    <tr>\n",
       "      <th>coords</th>\n",
       "      <th></th>\n",
       "      <th></th>\n",
       "    </tr>\n",
       "  </thead>\n",
       "  <tbody>\n",
       "    <tr>\n",
       "      <td>(51.529163, -0.10997)</td>\n",
       "      <td>31</td>\n",
       "      <td>10010</td>\n",
       "    </tr>\n",
       "    <tr>\n",
       "      <td>(51.499606, -0.197574)</td>\n",
       "      <td>17</td>\n",
       "      <td>11436</td>\n",
       "    </tr>\n",
       "    <tr>\n",
       "      <td>(51.521283, -0.084605)</td>\n",
       "      <td>27</td>\n",
       "      <td>10010</td>\n",
       "    </tr>\n",
       "    <tr>\n",
       "      <td>(51.530059, -0.120973)</td>\n",
       "      <td>22</td>\n",
       "      <td>10010</td>\n",
       "    </tr>\n",
       "    <tr>\n",
       "      <td>(51.507385, -0.09644)</td>\n",
       "      <td>16</td>\n",
       "      <td>10010</td>\n",
       "    </tr>\n",
       "  </tbody>\n",
       "</table>\n",
       "</div>"
      ],
      "text/plain": [
       "                        elevation  pop_dens\n",
       "coords                                     \n",
       "(51.529163, -0.10997)          31     10010\n",
       "(51.499606, -0.197574)         17     11436\n",
       "(51.521283, -0.084605)         27     10010\n",
       "(51.530059, -0.120973)         22     10010\n",
       "(51.507385, -0.09644)          16     10010"
      ]
     },
     "execution_count": 23,
     "metadata": {},
     "output_type": "execute_result"
    }
   ],
   "source": [
    "geo_df.head()"
   ]
  },
  {
   "cell_type": "code",
   "execution_count": 25,
   "metadata": {},
   "outputs": [],
   "source": [
    "high_pop = geo_df.pop_dens.quantile(.75)"
   ]
  },
  {
   "cell_type": "code",
   "execution_count": 26,
   "metadata": {},
   "outputs": [],
   "source": [
    "geo_df['high_pop'] = geo_df.pop_dens > high_pop"
   ]
  },
  {
   "cell_type": "code",
   "execution_count": 27,
   "metadata": {},
   "outputs": [
    {
     "data": {
      "text/html": [
       "<div>\n",
       "<style scoped>\n",
       "    .dataframe tbody tr th:only-of-type {\n",
       "        vertical-align: middle;\n",
       "    }\n",
       "\n",
       "    .dataframe tbody tr th {\n",
       "        vertical-align: top;\n",
       "    }\n",
       "\n",
       "    .dataframe thead th {\n",
       "        text-align: right;\n",
       "    }\n",
       "</style>\n",
       "<table border=\"1\" class=\"dataframe\">\n",
       "  <thead>\n",
       "    <tr style=\"text-align: right;\">\n",
       "      <th></th>\n",
       "      <th>elevation</th>\n",
       "      <th>pop_dens</th>\n",
       "      <th>high_pop</th>\n",
       "    </tr>\n",
       "    <tr>\n",
       "      <th>coords</th>\n",
       "      <th></th>\n",
       "      <th></th>\n",
       "      <th></th>\n",
       "    </tr>\n",
       "  </thead>\n",
       "  <tbody>\n",
       "    <tr>\n",
       "      <td>(51.529163, -0.10997)</td>\n",
       "      <td>31</td>\n",
       "      <td>10010</td>\n",
       "      <td>False</td>\n",
       "    </tr>\n",
       "    <tr>\n",
       "      <td>(51.499606, -0.197574)</td>\n",
       "      <td>17</td>\n",
       "      <td>11436</td>\n",
       "      <td>True</td>\n",
       "    </tr>\n",
       "    <tr>\n",
       "      <td>(51.521283, -0.084605)</td>\n",
       "      <td>27</td>\n",
       "      <td>10010</td>\n",
       "      <td>False</td>\n",
       "    </tr>\n",
       "    <tr>\n",
       "      <td>(51.530059, -0.120973)</td>\n",
       "      <td>22</td>\n",
       "      <td>10010</td>\n",
       "      <td>False</td>\n",
       "    </tr>\n",
       "    <tr>\n",
       "      <td>(51.507385, -0.09644)</td>\n",
       "      <td>16</td>\n",
       "      <td>10010</td>\n",
       "      <td>False</td>\n",
       "    </tr>\n",
       "  </tbody>\n",
       "</table>\n",
       "</div>"
      ],
      "text/plain": [
       "                        elevation  pop_dens  high_pop\n",
       "coords                                               \n",
       "(51.529163, -0.10997)          31     10010     False\n",
       "(51.499606, -0.197574)         17     11436      True\n",
       "(51.521283, -0.084605)         27     10010     False\n",
       "(51.530059, -0.120973)         22     10010     False\n",
       "(51.507385, -0.09644)          16     10010     False"
      ]
     },
     "execution_count": 27,
     "metadata": {},
     "output_type": "execute_result"
    }
   ],
   "source": [
    "geo_df.head()"
   ]
  },
  {
   "cell_type": "code",
   "execution_count": 28,
   "metadata": {},
   "outputs": [],
   "source": [
    "hill_list = []\n",
    "for n in range(len(geo_df)):\n",
    "    lat_n = geo_df.index[n][0]\n",
    "    lon_n = geo_df.index[n][1]\n",
    "#     print (lat_n,lon_n)\n",
    "    elev_list = []\n",
    "    for i in range(len(geo_df)):\n",
    "        lat_i = geo_df.index[i][0]\n",
    "        lon_i = geo_df.index[i][1]\n",
    "#         print(lat_i,lon_i)\n",
    "        bol = ((lat_n-lat_i)**2 + (lon_n - lon_i)**2 < 0.000005)\n",
    "        if bol:\n",
    "            elev_list.append(geo_df.iloc[i].elevation)\n",
    "    hill = (geo_df.iloc[n].elevation > np.mean(elev_list))\n",
    "    hill_list.append(hill)"
   ]
  },
  {
   "cell_type": "code",
   "execution_count": 29,
   "metadata": {},
   "outputs": [
    {
     "data": {
      "text/plain": [
       "[False, False, False, True, False]"
      ]
     },
     "execution_count": 29,
     "metadata": {},
     "output_type": "execute_result"
    }
   ],
   "source": [
    "hill_list[:5]"
   ]
  },
  {
   "cell_type": "code",
   "execution_count": 30,
   "metadata": {},
   "outputs": [],
   "source": [
    "geo_df['hill'] = hill_list"
   ]
  },
  {
   "cell_type": "code",
   "execution_count": 31,
   "metadata": {},
   "outputs": [
    {
     "data": {
      "text/html": [
       "<div>\n",
       "<style scoped>\n",
       "    .dataframe tbody tr th:only-of-type {\n",
       "        vertical-align: middle;\n",
       "    }\n",
       "\n",
       "    .dataframe tbody tr th {\n",
       "        vertical-align: top;\n",
       "    }\n",
       "\n",
       "    .dataframe thead th {\n",
       "        text-align: right;\n",
       "    }\n",
       "</style>\n",
       "<table border=\"1\" class=\"dataframe\">\n",
       "  <thead>\n",
       "    <tr style=\"text-align: right;\">\n",
       "      <th></th>\n",
       "      <th>elevation</th>\n",
       "      <th>pop_dens</th>\n",
       "      <th>high_pop</th>\n",
       "      <th>hill</th>\n",
       "    </tr>\n",
       "    <tr>\n",
       "      <th>coords</th>\n",
       "      <th></th>\n",
       "      <th></th>\n",
       "      <th></th>\n",
       "      <th></th>\n",
       "    </tr>\n",
       "  </thead>\n",
       "  <tbody>\n",
       "    <tr>\n",
       "      <td>(51.529163, -0.10997)</td>\n",
       "      <td>31</td>\n",
       "      <td>10010</td>\n",
       "      <td>False</td>\n",
       "      <td>False</td>\n",
       "    </tr>\n",
       "    <tr>\n",
       "      <td>(51.499606, -0.197574)</td>\n",
       "      <td>17</td>\n",
       "      <td>11436</td>\n",
       "      <td>True</td>\n",
       "      <td>False</td>\n",
       "    </tr>\n",
       "    <tr>\n",
       "      <td>(51.521283, -0.084605)</td>\n",
       "      <td>27</td>\n",
       "      <td>10010</td>\n",
       "      <td>False</td>\n",
       "      <td>False</td>\n",
       "    </tr>\n",
       "    <tr>\n",
       "      <td>(51.530059, -0.120973)</td>\n",
       "      <td>22</td>\n",
       "      <td>10010</td>\n",
       "      <td>False</td>\n",
       "      <td>True</td>\n",
       "    </tr>\n",
       "    <tr>\n",
       "      <td>(51.507385, -0.09644)</td>\n",
       "      <td>16</td>\n",
       "      <td>10010</td>\n",
       "      <td>False</td>\n",
       "      <td>False</td>\n",
       "    </tr>\n",
       "  </tbody>\n",
       "</table>\n",
       "</div>"
      ],
      "text/plain": [
       "                        elevation  pop_dens  high_pop   hill\n",
       "coords                                                      \n",
       "(51.529163, -0.10997)          31     10010     False  False\n",
       "(51.499606, -0.197574)         17     11436      True  False\n",
       "(51.521283, -0.084605)         27     10010     False  False\n",
       "(51.530059, -0.120973)         22     10010     False   True\n",
       "(51.507385, -0.09644)          16     10010     False  False"
      ]
     },
     "execution_count": 31,
     "metadata": {},
     "output_type": "execute_result"
    }
   ],
   "source": [
    "geo_df.head()"
   ]
  },
  {
   "cell_type": "code",
   "execution_count": 32,
   "metadata": {},
   "outputs": [],
   "source": [
    "bikes_df = bikes_df.join(geo_df, on = 'coords')"
   ]
  },
  {
   "cell_type": "code",
   "execution_count": 33,
   "metadata": {},
   "outputs": [
    {
     "data": {
      "text/html": [
       "<div>\n",
       "<style scoped>\n",
       "    .dataframe tbody tr th:only-of-type {\n",
       "        vertical-align: middle;\n",
       "    }\n",
       "\n",
       "    .dataframe tbody tr th {\n",
       "        vertical-align: top;\n",
       "    }\n",
       "\n",
       "    .dataframe thead th {\n",
       "        text-align: right;\n",
       "    }\n",
       "</style>\n",
       "<table border=\"1\" class=\"dataframe\">\n",
       "  <thead>\n",
       "    <tr style=\"text-align: right;\">\n",
       "      <th></th>\n",
       "      <th>name</th>\n",
       "      <th>time</th>\n",
       "      <th>num_bikes</th>\n",
       "      <th>num_empty</th>\n",
       "      <th>num_docks</th>\n",
       "      <th>coords</th>\n",
       "      <th>faulty</th>\n",
       "      <th>elevation</th>\n",
       "      <th>pop_dens</th>\n",
       "      <th>high_pop</th>\n",
       "      <th>hill</th>\n",
       "    </tr>\n",
       "  </thead>\n",
       "  <tbody>\n",
       "    <tr>\n",
       "      <td>0</td>\n",
       "      <td>River Street , Clerkenwell</td>\n",
       "      <td>t1</td>\n",
       "      <td>4</td>\n",
       "      <td>15</td>\n",
       "      <td>19</td>\n",
       "      <td>(51.529163, -0.10997)</td>\n",
       "      <td>False</td>\n",
       "      <td>31</td>\n",
       "      <td>10010</td>\n",
       "      <td>False</td>\n",
       "      <td>False</td>\n",
       "    </tr>\n",
       "    <tr>\n",
       "      <td>1</td>\n",
       "      <td>Phillimore Gardens, Kensington</td>\n",
       "      <td>t1</td>\n",
       "      <td>14</td>\n",
       "      <td>23</td>\n",
       "      <td>37</td>\n",
       "      <td>(51.499606, -0.197574)</td>\n",
       "      <td>False</td>\n",
       "      <td>17</td>\n",
       "      <td>11436</td>\n",
       "      <td>True</td>\n",
       "      <td>False</td>\n",
       "    </tr>\n",
       "    <tr>\n",
       "      <td>2</td>\n",
       "      <td>Christopher Street, Liverpool Street</td>\n",
       "      <td>t1</td>\n",
       "      <td>25</td>\n",
       "      <td>6</td>\n",
       "      <td>32</td>\n",
       "      <td>(51.521283, -0.084605)</td>\n",
       "      <td>True</td>\n",
       "      <td>27</td>\n",
       "      <td>10010</td>\n",
       "      <td>False</td>\n",
       "      <td>False</td>\n",
       "    </tr>\n",
       "    <tr>\n",
       "      <td>3</td>\n",
       "      <td>St. Chad's Street, King's Cross</td>\n",
       "      <td>t1</td>\n",
       "      <td>20</td>\n",
       "      <td>3</td>\n",
       "      <td>23</td>\n",
       "      <td>(51.530059, -0.120973)</td>\n",
       "      <td>False</td>\n",
       "      <td>22</td>\n",
       "      <td>10010</td>\n",
       "      <td>False</td>\n",
       "      <td>True</td>\n",
       "    </tr>\n",
       "    <tr>\n",
       "      <td>4</td>\n",
       "      <td>New Globe Walk, Bankside</td>\n",
       "      <td>t1</td>\n",
       "      <td>7</td>\n",
       "      <td>12</td>\n",
       "      <td>19</td>\n",
       "      <td>(51.507385, -0.09644)</td>\n",
       "      <td>False</td>\n",
       "      <td>16</td>\n",
       "      <td>10010</td>\n",
       "      <td>False</td>\n",
       "      <td>False</td>\n",
       "    </tr>\n",
       "  </tbody>\n",
       "</table>\n",
       "</div>"
      ],
      "text/plain": [
       "                                   name time  num_bikes  num_empty  num_docks  \\\n",
       "0            River Street , Clerkenwell   t1          4         15         19   \n",
       "1        Phillimore Gardens, Kensington   t1         14         23         37   \n",
       "2  Christopher Street, Liverpool Street   t1         25          6         32   \n",
       "3       St. Chad's Street, King's Cross   t1         20          3         23   \n",
       "4              New Globe Walk, Bankside   t1          7         12         19   \n",
       "\n",
       "                   coords  faulty  elevation  pop_dens  high_pop   hill  \n",
       "0   (51.529163, -0.10997)   False         31     10010     False  False  \n",
       "1  (51.499606, -0.197574)   False         17     11436      True  False  \n",
       "2  (51.521283, -0.084605)    True         27     10010     False  False  \n",
       "3  (51.530059, -0.120973)   False         22     10010     False   True  \n",
       "4   (51.507385, -0.09644)   False         16     10010     False  False  "
      ]
     },
     "execution_count": 33,
     "metadata": {},
     "output_type": "execute_result"
    }
   ],
   "source": [
    "bikes_df.head()"
   ]
  },
  {
   "cell_type": "code",
   "execution_count": 34,
   "metadata": {},
   "outputs": [],
   "source": [
    "bikes_df['num_faulty'] = bikes_df.num_docks - (bikes_df.num_empty + bikes_df.num_bikes)"
   ]
  },
  {
   "cell_type": "code",
   "execution_count": 35,
   "metadata": {},
   "outputs": [
    {
     "data": {
      "text/html": [
       "<div>\n",
       "<style scoped>\n",
       "    .dataframe tbody tr th:only-of-type {\n",
       "        vertical-align: middle;\n",
       "    }\n",
       "\n",
       "    .dataframe tbody tr th {\n",
       "        vertical-align: top;\n",
       "    }\n",
       "\n",
       "    .dataframe thead th {\n",
       "        text-align: right;\n",
       "    }\n",
       "</style>\n",
       "<table border=\"1\" class=\"dataframe\">\n",
       "  <thead>\n",
       "    <tr style=\"text-align: right;\">\n",
       "      <th></th>\n",
       "      <th>name</th>\n",
       "      <th>time</th>\n",
       "      <th>num_bikes</th>\n",
       "      <th>num_empty</th>\n",
       "      <th>num_docks</th>\n",
       "      <th>coords</th>\n",
       "      <th>faulty</th>\n",
       "      <th>elevation</th>\n",
       "      <th>pop_dens</th>\n",
       "      <th>high_pop</th>\n",
       "      <th>hill</th>\n",
       "      <th>num_faulty</th>\n",
       "    </tr>\n",
       "  </thead>\n",
       "  <tbody>\n",
       "    <tr>\n",
       "      <td>0</td>\n",
       "      <td>River Street , Clerkenwell</td>\n",
       "      <td>t1</td>\n",
       "      <td>4</td>\n",
       "      <td>15</td>\n",
       "      <td>19</td>\n",
       "      <td>(51.529163, -0.10997)</td>\n",
       "      <td>False</td>\n",
       "      <td>31</td>\n",
       "      <td>10010</td>\n",
       "      <td>False</td>\n",
       "      <td>False</td>\n",
       "      <td>0</td>\n",
       "    </tr>\n",
       "    <tr>\n",
       "      <td>1</td>\n",
       "      <td>Phillimore Gardens, Kensington</td>\n",
       "      <td>t1</td>\n",
       "      <td>14</td>\n",
       "      <td>23</td>\n",
       "      <td>37</td>\n",
       "      <td>(51.499606, -0.197574)</td>\n",
       "      <td>False</td>\n",
       "      <td>17</td>\n",
       "      <td>11436</td>\n",
       "      <td>True</td>\n",
       "      <td>False</td>\n",
       "      <td>0</td>\n",
       "    </tr>\n",
       "    <tr>\n",
       "      <td>2</td>\n",
       "      <td>Christopher Street, Liverpool Street</td>\n",
       "      <td>t1</td>\n",
       "      <td>25</td>\n",
       "      <td>6</td>\n",
       "      <td>32</td>\n",
       "      <td>(51.521283, -0.084605)</td>\n",
       "      <td>True</td>\n",
       "      <td>27</td>\n",
       "      <td>10010</td>\n",
       "      <td>False</td>\n",
       "      <td>False</td>\n",
       "      <td>1</td>\n",
       "    </tr>\n",
       "    <tr>\n",
       "      <td>3</td>\n",
       "      <td>St. Chad's Street, King's Cross</td>\n",
       "      <td>t1</td>\n",
       "      <td>20</td>\n",
       "      <td>3</td>\n",
       "      <td>23</td>\n",
       "      <td>(51.530059, -0.120973)</td>\n",
       "      <td>False</td>\n",
       "      <td>22</td>\n",
       "      <td>10010</td>\n",
       "      <td>False</td>\n",
       "      <td>True</td>\n",
       "      <td>0</td>\n",
       "    </tr>\n",
       "    <tr>\n",
       "      <td>4</td>\n",
       "      <td>New Globe Walk, Bankside</td>\n",
       "      <td>t1</td>\n",
       "      <td>7</td>\n",
       "      <td>12</td>\n",
       "      <td>19</td>\n",
       "      <td>(51.507385, -0.09644)</td>\n",
       "      <td>False</td>\n",
       "      <td>16</td>\n",
       "      <td>10010</td>\n",
       "      <td>False</td>\n",
       "      <td>False</td>\n",
       "      <td>0</td>\n",
       "    </tr>\n",
       "  </tbody>\n",
       "</table>\n",
       "</div>"
      ],
      "text/plain": [
       "                                   name time  num_bikes  num_empty  num_docks  \\\n",
       "0            River Street , Clerkenwell   t1          4         15         19   \n",
       "1        Phillimore Gardens, Kensington   t1         14         23         37   \n",
       "2  Christopher Street, Liverpool Street   t1         25          6         32   \n",
       "3       St. Chad's Street, King's Cross   t1         20          3         23   \n",
       "4              New Globe Walk, Bankside   t1          7         12         19   \n",
       "\n",
       "                   coords  faulty  elevation  pop_dens  high_pop   hill  \\\n",
       "0   (51.529163, -0.10997)   False         31     10010     False  False   \n",
       "1  (51.499606, -0.197574)   False         17     11436      True  False   \n",
       "2  (51.521283, -0.084605)    True         27     10010     False  False   \n",
       "3  (51.530059, -0.120973)   False         22     10010     False   True   \n",
       "4   (51.507385, -0.09644)   False         16     10010     False  False   \n",
       "\n",
       "   num_faulty  \n",
       "0           0  \n",
       "1           0  \n",
       "2           1  \n",
       "3           0  \n",
       "4           0  "
      ]
     },
     "execution_count": 35,
     "metadata": {},
     "output_type": "execute_result"
    }
   ],
   "source": [
    "bikes_df.head()"
   ]
  },
  {
   "cell_type": "code",
   "execution_count": 36,
   "metadata": {},
   "outputs": [
    {
     "data": {
      "text/plain": [
       "0    513\n",
       "1    194\n",
       "2     45\n",
       "3     20\n",
       "4      5\n",
       "8      1\n",
       "6      1\n",
       "5      1\n",
       "Name: num_faulty, dtype: int64"
      ]
     },
     "execution_count": 36,
     "metadata": {},
     "output_type": "execute_result"
    }
   ],
   "source": [
    "bikes_df.num_faulty.value_counts().sort"
   ]
  },
  {
   "cell_type": "code",
   "execution_count": 38,
   "metadata": {},
   "outputs": [],
   "source": [
    "import seaborn as sns"
   ]
  },
  {
   "cell_type": "code",
   "execution_count": 41,
   "metadata": {},
   "outputs": [
    {
     "data": {
      "text/plain": [
       "<matplotlib.axes._subplots.AxesSubplot at 0x1a20a94550>"
      ]
     },
     "execution_count": 41,
     "metadata": {},
     "output_type": "execute_result"
    },
    {
     "data": {
      "image/png": "[encoded data removed]",
      "text/plain": [
       "<Figure size 432x288 with 1 Axes>"
      ]
     },
     "metadata": {
      "needs_background": "light"
     },
     "output_type": "display_data"
    }
   ],
   "source": [
    "sns.distplot(bikes_df[bikes_df['high_pop'] == True].num_docks)\n",
    "sns.distplot(bikes_df.num_docks)"
   ]
  },
  {
   "cell_type": "code",
   "execution_count": 42,
   "metadata": {},
   "outputs": [],
   "source": [
    "def compare_dists(dataframe, subset_col, col):\n",
    "    sns.distplot(dataframe[dataframe[subset_col] == True][col])\n",
    "    sns.distplot(dataframe[col])"
   ]
  },
  {
   "cell_type": "code",
   "execution_count": 43,
   "metadata": {},
   "outputs": [
    {
     "data": {
      "image/png": "[encoded data removed]",
      "text/plain": [
       "<Figure size 432x288 with 1 Axes>"
      ]
     },
     "metadata": {
      "needs_background": "light"
     },
     "output_type": "display_data"
    }
   ],
   "source": [
    "compare_dists(bikes_df, 'faulty', 'num_docks')"
   ]
  },
  {
   "cell_type": "code",
   "execution_count": 44,
   "metadata": {},
   "outputs": [],
   "source": [
    "def compare_dists_logged(dataframe, subset_col, col):\n",
    "    set_1 = dataframe[dataframe[subset_col] == True][col]\n",
    "    set_2 = dataframe[col]\n",
    "    sns.distplot(set_1.value_counts().apply(lambda x: np.log(x)))\n",
    "    sns.distplot(set_2.value_counts().apply(lambda x: np.log(x)))"
   ]
  },
  {
   "cell_type": "code",
   "execution_count": 45,
   "metadata": {},
   "outputs": [
    {
     "data": {
      "image/png": "[encoded data removed]",
      "text/plain": [
       "<Figure size 432x288 with 1 Axes>"
      ]
     },
     "metadata": {
      "needs_background": "light"
     },
     "output_type": "display_data"
    }
   ],
   "source": [
    "compare_dists_logged(bikes_df, 'faulty', 'num_faulty')"
   ]
  },
  {
   "cell_type": "code",
   "execution_count": null,
   "metadata": {},
   "outputs": [],
   "source": []
  },
  {
   "cell_type": "code",
   "execution_count": null,
   "metadata": {},
   "outputs": [],
   "source": []
  },
  {
   "cell_type": "code",
   "execution_count": 1,
   "metadata": {},
   "outputs": [
    {
     "ename": "NameError",
     "evalue": "name 'bikes_df' is not defined",
     "output_type": "error",
     "traceback": [
      "\u001b[0;31m---------------------------------------------------------------------------\u001b[0m",
      "\u001b[0;31mNameError\u001b[0m                                 Traceback (most recent call last)",
      "\u001b[0;32m<ipython-input-1-23fe74cdff31>\u001b[0m in \u001b[0;36m<module>\u001b[0;34m\u001b[0m\n\u001b[0;32m----> 1\u001b[0;31m \u001b[0;32mfor\u001b[0m \u001b[0mn\u001b[0m \u001b[0;32min\u001b[0m \u001b[0mrange\u001b[0m\u001b[0;34m(\u001b[0m\u001b[0mlen\u001b[0m\u001b[0;34m(\u001b[0m\u001b[0mbikes_df\u001b[0m\u001b[0;34m.\u001b[0m\u001b[0mhead\u001b[0m\u001b[0;34m(\u001b[0m\u001b[0;34m)\u001b[0m\u001b[0;34m)\u001b[0m\u001b[0;34m)\u001b[0m\u001b[0;34m:\u001b[0m\u001b[0;34m\u001b[0m\u001b[0;34m\u001b[0m\u001b[0m\n\u001b[0m\u001b[1;32m      2\u001b[0m     \u001b[0mlat_n\u001b[0m \u001b[0;34m=\u001b[0m \u001b[0mbikes_df\u001b[0m\u001b[0;34m.\u001b[0m\u001b[0mcoords\u001b[0m\u001b[0;34m[\u001b[0m\u001b[0mn\u001b[0m\u001b[0;34m]\u001b[0m\u001b[0;34m[\u001b[0m\u001b[0;36m0\u001b[0m\u001b[0;34m]\u001b[0m\u001b[0;34m\u001b[0m\u001b[0;34m\u001b[0m\u001b[0m\n\u001b[1;32m      3\u001b[0m     \u001b[0mlon_n\u001b[0m \u001b[0;34m=\u001b[0m \u001b[0mgeo_df\u001b[0m\u001b[0;34m.\u001b[0m\u001b[0mcoords\u001b[0m\u001b[0;34m[\u001b[0m\u001b[0mn\u001b[0m\u001b[0;34m]\u001b[0m\u001b[0;34m[\u001b[0m\u001b[0;36m1\u001b[0m\u001b[0;34m]\u001b[0m\u001b[0;34m\u001b[0m\u001b[0;34m\u001b[0m\u001b[0m\n\u001b[1;32m      4\u001b[0m     \u001b[0mprint\u001b[0m \u001b[0;34m(\u001b[0m\u001b[0mlat_n\u001b[0m\u001b[0;34m,\u001b[0m\u001b[0mlon_n\u001b[0m\u001b[0;34m)\u001b[0m\u001b[0;34m\u001b[0m\u001b[0;34m\u001b[0m\u001b[0m\n\u001b[1;32m      5\u001b[0m \u001b[0;31m#     elev_list = []\u001b[0m\u001b[0;34m\u001b[0m\u001b[0;34m\u001b[0m\u001b[0;34m\u001b[0m\u001b[0m\n",
      "\u001b[0;31mNameError\u001b[0m: name 'bikes_df' is not defined"
     ]
    }
   ],
   "source": [
    "for n in range(len(bikes_df.head())):\n",
    "    lat_n = bikes_df.coords[n][0]\n",
    "    lon_n = geo_df.coords[n][1]\n",
    "    print (lat_n,lon_n)\n",
    "#     elev_list = []\n",
    "#     for i in range(len(geo_df)):\n",
    "#         lat_i = geo_df.index[i][0]\n",
    "#         lon_i = geo_df.index[i][1]\n",
    "# #         print(lat_i,lon_i)\n",
    "#         bol = ((lat_n-lat_i)**2 + (lon_n - lon_i)**2 < 0.000005)\n",
    "#         if bol:\n",
    "#             elev_list.append(geo_df.iloc[i].elevation)\n",
    "#     hill = (geo_df.iloc[n].elevation > np.mean(elev_list))\n",
    "#     hill_list.append(hill)"
   ]
  },
  {
   "cell_type": "code",
   "execution_count": null,
   "metadata": {},
   "outputs": [],
   "source": []
  }
 ],
 "metadata": {
  "kernelspec": {
   "display_name": "Python [conda env:learn-env] *",
   "language": "python",
   "name": "conda-env-learn-env-py"
  },
  "language_info": {
   "codemirror_mode": {
    "name": "ipython",
    "version": 3
   },
   "file_extension": ".py",
   "mimetype": "text/x-python",
   "name": "python",
   "nbconvert_exporter": "python",
   "pygments_lexer": "ipython3",
   "version": "3.6.9"
  }
 },
 "nbformat": 4,
 "nbformat_minor": 4
}
