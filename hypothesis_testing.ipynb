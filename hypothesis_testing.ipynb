{
 "cells": [
  {
   "cell_type": "markdown",
   "metadata": {},
   "source": [
    "<img src=\"./img/DC_Gray _Logo.png\">"
   ]
  },
  {
   "cell_type": "markdown",
   "metadata": {},
   "source": [
    "<center><h2> Module 3 Project</h2></center>\n",
    "<center><h2> Hypothesis Testing</h2></center>\n",
    "\n",
    "**Authors:** Joe Read and Mohammed Hannan\n"
   ]
  },
  {
   "cell_type": "markdown",
   "metadata": {},
   "source": [
    "#### Business Problem"
   ]
  },
  {
   "cell_type": "markdown",
   "metadata": {},
   "source": [
    "#### Analysis"
   ]
  },
  {
   "cell_type": "code",
   "execution_count": 1,
   "metadata": {},
   "outputs": [],
   "source": [
    "# import data_cleaning as dc\n",
    "# dirty_data = pd.read_csv('./data/dirty_data.csv')\n",
    "# cleaned_data = dc.full_clean(dirty_data)\n",
    "\n",
    "import requests\n",
    "import json\n",
    "import pandas as pd\n",
    "import numpy as np\n",
    "import seaborn as sns\n",
    "import matplotlib.pyplot as plt\n",
    "\n",
    "from hypothesis_tests import *\n",
    "\n",
    "sns.set_style('whitegrid')\n",
    "%matplotlib inline"
   ]
  },
  {
   "cell_type": "code",
   "execution_count": 2,
   "metadata": {},
   "outputs": [],
   "source": [
    "# Load our clean bikes dataframe\n",
    "\n",
    "bikes_df = pd.read_pickle('bikes_dataframe')"
   ]
  },
  {
   "cell_type": "code",
   "execution_count": 3,
   "metadata": {},
   "outputs": [
    {
     "data": {
      "text/html": [
       "<div>\n",
       "<style scoped>\n",
       "    .dataframe tbody tr th:only-of-type {\n",
       "        vertical-align: middle;\n",
       "    }\n",
       "\n",
       "    .dataframe tbody tr th {\n",
       "        vertical-align: top;\n",
       "    }\n",
       "\n",
       "    .dataframe thead th {\n",
       "        text-align: right;\n",
       "    }\n",
       "</style>\n",
       "<table border=\"1\" class=\"dataframe\">\n",
       "  <thead>\n",
       "    <tr style=\"text-align: right;\">\n",
       "      <th></th>\n",
       "      <th>name</th>\n",
       "      <th>time</th>\n",
       "      <th>num_bikes</th>\n",
       "      <th>num_empty</th>\n",
       "      <th>num_docks</th>\n",
       "      <th>coords</th>\n",
       "      <th>faulty</th>\n",
       "      <th>elevation</th>\n",
       "      <th>pop_dens</th>\n",
       "      <th>high_pop?</th>\n",
       "      <th>hill</th>\n",
       "      <th>num_faulty_near</th>\n",
       "      <th>faulty_near</th>\n",
       "      <th>num_faulty</th>\n",
       "    </tr>\n",
       "  </thead>\n",
       "  <tbody>\n",
       "    <tr>\n",
       "      <td>0</td>\n",
       "      <td>River Street , Clerkenwell</td>\n",
       "      <td>t1</td>\n",
       "      <td>4</td>\n",
       "      <td>15</td>\n",
       "      <td>19</td>\n",
       "      <td>(51.529163, -0.10997)</td>\n",
       "      <td>False</td>\n",
       "      <td>31</td>\n",
       "      <td>10010</td>\n",
       "      <td>False</td>\n",
       "      <td>False</td>\n",
       "      <td>1</td>\n",
       "      <td>False</td>\n",
       "      <td>0</td>\n",
       "    </tr>\n",
       "    <tr>\n",
       "      <td>1</td>\n",
       "      <td>Phillimore Gardens, Kensington</td>\n",
       "      <td>t1</td>\n",
       "      <td>14</td>\n",
       "      <td>23</td>\n",
       "      <td>37</td>\n",
       "      <td>(51.499606, -0.197574)</td>\n",
       "      <td>False</td>\n",
       "      <td>17</td>\n",
       "      <td>11436</td>\n",
       "      <td>True</td>\n",
       "      <td>False</td>\n",
       "      <td>1</td>\n",
       "      <td>False</td>\n",
       "      <td>0</td>\n",
       "    </tr>\n",
       "    <tr>\n",
       "      <td>2</td>\n",
       "      <td>Christopher Street, Liverpool Street</td>\n",
       "      <td>t1</td>\n",
       "      <td>25</td>\n",
       "      <td>6</td>\n",
       "      <td>32</td>\n",
       "      <td>(51.521283, -0.084605)</td>\n",
       "      <td>True</td>\n",
       "      <td>27</td>\n",
       "      <td>10010</td>\n",
       "      <td>False</td>\n",
       "      <td>False</td>\n",
       "      <td>3</td>\n",
       "      <td>True</td>\n",
       "      <td>1</td>\n",
       "    </tr>\n",
       "    <tr>\n",
       "      <td>3</td>\n",
       "      <td>St. Chad's Street, King's Cross</td>\n",
       "      <td>t1</td>\n",
       "      <td>20</td>\n",
       "      <td>3</td>\n",
       "      <td>23</td>\n",
       "      <td>(51.530059, -0.120973)</td>\n",
       "      <td>False</td>\n",
       "      <td>22</td>\n",
       "      <td>10010</td>\n",
       "      <td>False</td>\n",
       "      <td>True</td>\n",
       "      <td>3</td>\n",
       "      <td>True</td>\n",
       "      <td>0</td>\n",
       "    </tr>\n",
       "    <tr>\n",
       "      <td>4</td>\n",
       "      <td>New Globe Walk, Bankside</td>\n",
       "      <td>t1</td>\n",
       "      <td>7</td>\n",
       "      <td>12</td>\n",
       "      <td>19</td>\n",
       "      <td>(51.507385, -0.09644)</td>\n",
       "      <td>False</td>\n",
       "      <td>16</td>\n",
       "      <td>10010</td>\n",
       "      <td>False</td>\n",
       "      <td>False</td>\n",
       "      <td>1</td>\n",
       "      <td>False</td>\n",
       "      <td>0</td>\n",
       "    </tr>\n",
       "  </tbody>\n",
       "</table>\n",
       "</div>"
      ],
      "text/plain": [
       "                                   name time  num_bikes  num_empty  num_docks  \\\n",
       "0            River Street , Clerkenwell   t1          4         15         19   \n",
       "1        Phillimore Gardens, Kensington   t1         14         23         37   \n",
       "2  Christopher Street, Liverpool Street   t1         25          6         32   \n",
       "3       St. Chad's Street, King's Cross   t1         20          3         23   \n",
       "4              New Globe Walk, Bankside   t1          7         12         19   \n",
       "\n",
       "                   coords  faulty  elevation  pop_dens  high_pop?   hill  \\\n",
       "0   (51.529163, -0.10997)   False         31     10010      False  False   \n",
       "1  (51.499606, -0.197574)   False         17     11436       True  False   \n",
       "2  (51.521283, -0.084605)    True         27     10010      False  False   \n",
       "3  (51.530059, -0.120973)   False         22     10010      False   True   \n",
       "4   (51.507385, -0.09644)   False         16     10010      False  False   \n",
       "\n",
       "   num_faulty_near  faulty_near  num_faulty  \n",
       "0                1        False           0  \n",
       "1                1        False           0  \n",
       "2                3         True           1  \n",
       "3                3         True           0  \n",
       "4                1        False           0  "
      ]
     },
     "execution_count": 3,
     "metadata": {},
     "output_type": "execute_result"
    }
   ],
   "source": [
    "bikes_df.head()"
   ]
  },
  {
   "cell_type": "code",
   "execution_count": 4,
   "metadata": {},
   "outputs": [
    {
     "name": "stdout",
     "output_type": "stream",
     "text": [
      "For an effect size of 0.1 we need to sample 786 times\n",
      "For an effect size of 0.15 we need to sample 350 times\n",
      "For an effect size of 0.2 we need to sample 198 times\n",
      "For an effect size of 0.25 we need to sample 127 times\n",
      "For an effect size of 0.3 we need to sample 89 times\n",
      "For an effect size of 0.35 we need to sample 66 times\n",
      "For an effect size of 0.4 we need to sample 51 times\n",
      "For an effect size of 0.45 we need to sample 40 times\n",
      "For an effect size of 0.5 we need to sample 33 times\n"
     ]
    }
   ],
   "source": [
    "# We think we'll only get a small effect sizes so we explore what it a good number of times to take samples\n",
    "\n",
    "from statsmodels.stats.power import tt_solve_power\n",
    "for i in [0.10, 0.15, 0.20, 0.25, 0.3, 0.35, 0.4, 0.45, 0.5]:\n",
    "    n = int(tt_solve_power(alpha=0.05, effect_size= i, power=0.8))\n",
    "    print(\"For an effect size of {} we need to sample {} times\".format(i,n))"
   ]
  },
  {
   "cell_type": "markdown",
   "metadata": {},
   "source": [
    "## 1) A Faulty bikepoints will be more likely to have more than one other faulty bikepoints near it. \n",
    "## H0 = Faulty bikepoints have the same probabilty of having other faulty bikepoints near-by as non-faulty bikepoints\n",
    "## H1 = Faulty bikepoints are more likely to have more than 1 faulty bikepoints near them than non-faulty bikepoints"
   ]
  },
  {
   "cell_type": "code",
   "execution_count": 5,
   "metadata": {},
   "outputs": [
    {
     "data": {
      "text/html": [
       "<div>\n",
       "<style scoped>\n",
       "    .dataframe tbody tr th:only-of-type {\n",
       "        vertical-align: middle;\n",
       "    }\n",
       "\n",
       "    .dataframe tbody tr th {\n",
       "        vertical-align: top;\n",
       "    }\n",
       "\n",
       "    .dataframe thead th {\n",
       "        text-align: right;\n",
       "    }\n",
       "</style>\n",
       "<table border=\"1\" class=\"dataframe\">\n",
       "  <thead>\n",
       "    <tr style=\"text-align: right;\">\n",
       "      <th></th>\n",
       "      <th>name</th>\n",
       "      <th>time</th>\n",
       "      <th>num_bikes</th>\n",
       "      <th>num_empty</th>\n",
       "      <th>num_docks</th>\n",
       "      <th>coords</th>\n",
       "      <th>faulty</th>\n",
       "      <th>elevation</th>\n",
       "      <th>pop_dens</th>\n",
       "      <th>high_pop?</th>\n",
       "      <th>hill</th>\n",
       "      <th>num_faulty_near</th>\n",
       "      <th>faulty_near</th>\n",
       "      <th>num_faulty</th>\n",
       "    </tr>\n",
       "  </thead>\n",
       "  <tbody>\n",
       "    <tr>\n",
       "      <td>2</td>\n",
       "      <td>Christopher Street, Liverpool Street</td>\n",
       "      <td>t1</td>\n",
       "      <td>25</td>\n",
       "      <td>6</td>\n",
       "      <td>32</td>\n",
       "      <td>(51.521283, -0.084605)</td>\n",
       "      <td>True</td>\n",
       "      <td>27</td>\n",
       "      <td>10010</td>\n",
       "      <td>False</td>\n",
       "      <td>False</td>\n",
       "      <td>3</td>\n",
       "      <td>True</td>\n",
       "      <td>1</td>\n",
       "    </tr>\n",
       "    <tr>\n",
       "      <td>7</td>\n",
       "      <td>Malet Street, Bloomsbury</td>\n",
       "      <td>t1</td>\n",
       "      <td>43</td>\n",
       "      <td>5</td>\n",
       "      <td>49</td>\n",
       "      <td>(51.52168, -0.130431)</td>\n",
       "      <td>True</td>\n",
       "      <td>35</td>\n",
       "      <td>9279</td>\n",
       "      <td>False</td>\n",
       "      <td>False</td>\n",
       "      <td>1</td>\n",
       "      <td>False</td>\n",
       "      <td>1</td>\n",
       "    </tr>\n",
       "    <tr>\n",
       "      <td>9</td>\n",
       "      <td>Belgrove Street , King's Cross</td>\n",
       "      <td>t1</td>\n",
       "      <td>24</td>\n",
       "      <td>16</td>\n",
       "      <td>48</td>\n",
       "      <td>(51.529943, -0.123616)</td>\n",
       "      <td>True</td>\n",
       "      <td>24</td>\n",
       "      <td>10010</td>\n",
       "      <td>False</td>\n",
       "      <td>True</td>\n",
       "      <td>2</td>\n",
       "      <td>True</td>\n",
       "      <td>8</td>\n",
       "    </tr>\n",
       "    <tr>\n",
       "      <td>15</td>\n",
       "      <td>Drummond Street , Euston</td>\n",
       "      <td>t1</td>\n",
       "      <td>16</td>\n",
       "      <td>10</td>\n",
       "      <td>28</td>\n",
       "      <td>(51.527326, -0.136052)</td>\n",
       "      <td>True</td>\n",
       "      <td>28</td>\n",
       "      <td>9279</td>\n",
       "      <td>False</td>\n",
       "      <td>False</td>\n",
       "      <td>2</td>\n",
       "      <td>True</td>\n",
       "      <td>2</td>\n",
       "    </tr>\n",
       "    <tr>\n",
       "      <td>17</td>\n",
       "      <td>Doric Way , Somers Town</td>\n",
       "      <td>t1</td>\n",
       "      <td>2</td>\n",
       "      <td>44</td>\n",
       "      <td>50</td>\n",
       "      <td>(51.528833, -0.13225)</td>\n",
       "      <td>True</td>\n",
       "      <td>30</td>\n",
       "      <td>9279</td>\n",
       "      <td>False</td>\n",
       "      <td>False</td>\n",
       "      <td>2</td>\n",
       "      <td>True</td>\n",
       "      <td>4</td>\n",
       "    </tr>\n",
       "  </tbody>\n",
       "</table>\n",
       "</div>"
      ],
      "text/plain": [
       "                                    name time  num_bikes  num_empty  \\\n",
       "2   Christopher Street, Liverpool Street   t1         25          6   \n",
       "7               Malet Street, Bloomsbury   t1         43          5   \n",
       "9         Belgrove Street , King's Cross   t1         24         16   \n",
       "15              Drummond Street , Euston   t1         16         10   \n",
       "17               Doric Way , Somers Town   t1          2         44   \n",
       "\n",
       "    num_docks                  coords  faulty  elevation  pop_dens  high_pop?  \\\n",
       "2          32  (51.521283, -0.084605)    True         27     10010      False   \n",
       "7          49   (51.52168, -0.130431)    True         35      9279      False   \n",
       "9          48  (51.529943, -0.123616)    True         24     10010      False   \n",
       "15         28  (51.527326, -0.136052)    True         28      9279      False   \n",
       "17         50   (51.528833, -0.13225)    True         30      9279      False   \n",
       "\n",
       "     hill  num_faulty_near  faulty_near  num_faulty  \n",
       "2   False                3         True           1  \n",
       "7   False                1        False           1  \n",
       "9    True                2         True           8  \n",
       "15  False                2         True           2  \n",
       "17  False                2         True           4  "
      ]
     },
     "metadata": {},
     "output_type": "display_data"
    },
    {
     "name": "stdout",
     "output_type": "stream",
     "text": [
      "\n",
      "\n"
     ]
    },
    {
     "data": {
      "text/html": [
       "<div>\n",
       "<style scoped>\n",
       "    .dataframe tbody tr th:only-of-type {\n",
       "        vertical-align: middle;\n",
       "    }\n",
       "\n",
       "    .dataframe tbody tr th {\n",
       "        vertical-align: top;\n",
       "    }\n",
       "\n",
       "    .dataframe thead th {\n",
       "        text-align: right;\n",
       "    }\n",
       "</style>\n",
       "<table border=\"1\" class=\"dataframe\">\n",
       "  <thead>\n",
       "    <tr style=\"text-align: right;\">\n",
       "      <th></th>\n",
       "      <th>name</th>\n",
       "      <th>time</th>\n",
       "      <th>num_bikes</th>\n",
       "      <th>num_empty</th>\n",
       "      <th>num_docks</th>\n",
       "      <th>coords</th>\n",
       "      <th>faulty</th>\n",
       "      <th>elevation</th>\n",
       "      <th>pop_dens</th>\n",
       "      <th>high_pop?</th>\n",
       "      <th>hill</th>\n",
       "      <th>num_faulty_near</th>\n",
       "      <th>faulty_near</th>\n",
       "      <th>num_faulty</th>\n",
       "    </tr>\n",
       "  </thead>\n",
       "  <tbody>\n",
       "    <tr>\n",
       "      <td>0</td>\n",
       "      <td>River Street , Clerkenwell</td>\n",
       "      <td>t1</td>\n",
       "      <td>4</td>\n",
       "      <td>15</td>\n",
       "      <td>19</td>\n",
       "      <td>(51.529163, -0.10997)</td>\n",
       "      <td>False</td>\n",
       "      <td>31</td>\n",
       "      <td>10010</td>\n",
       "      <td>False</td>\n",
       "      <td>False</td>\n",
       "      <td>1</td>\n",
       "      <td>False</td>\n",
       "      <td>0</td>\n",
       "    </tr>\n",
       "    <tr>\n",
       "      <td>1</td>\n",
       "      <td>Phillimore Gardens, Kensington</td>\n",
       "      <td>t1</td>\n",
       "      <td>14</td>\n",
       "      <td>23</td>\n",
       "      <td>37</td>\n",
       "      <td>(51.499606, -0.197574)</td>\n",
       "      <td>False</td>\n",
       "      <td>17</td>\n",
       "      <td>11436</td>\n",
       "      <td>True</td>\n",
       "      <td>False</td>\n",
       "      <td>1</td>\n",
       "      <td>False</td>\n",
       "      <td>0</td>\n",
       "    </tr>\n",
       "    <tr>\n",
       "      <td>3</td>\n",
       "      <td>St. Chad's Street, King's Cross</td>\n",
       "      <td>t1</td>\n",
       "      <td>20</td>\n",
       "      <td>3</td>\n",
       "      <td>23</td>\n",
       "      <td>(51.530059, -0.120973)</td>\n",
       "      <td>False</td>\n",
       "      <td>22</td>\n",
       "      <td>10010</td>\n",
       "      <td>False</td>\n",
       "      <td>True</td>\n",
       "      <td>3</td>\n",
       "      <td>True</td>\n",
       "      <td>0</td>\n",
       "    </tr>\n",
       "    <tr>\n",
       "      <td>4</td>\n",
       "      <td>New Globe Walk, Bankside</td>\n",
       "      <td>t1</td>\n",
       "      <td>7</td>\n",
       "      <td>12</td>\n",
       "      <td>19</td>\n",
       "      <td>(51.507385, -0.09644)</td>\n",
       "      <td>False</td>\n",
       "      <td>16</td>\n",
       "      <td>10010</td>\n",
       "      <td>False</td>\n",
       "      <td>False</td>\n",
       "      <td>1</td>\n",
       "      <td>False</td>\n",
       "      <td>0</td>\n",
       "    </tr>\n",
       "    <tr>\n",
       "      <td>5</td>\n",
       "      <td>Park Street, Bankside</td>\n",
       "      <td>t1</td>\n",
       "      <td>18</td>\n",
       "      <td>0</td>\n",
       "      <td>18</td>\n",
       "      <td>(51.505974, -0.092754)</td>\n",
       "      <td>False</td>\n",
       "      <td>8</td>\n",
       "      <td>10010</td>\n",
       "      <td>False</td>\n",
       "      <td>False</td>\n",
       "      <td>2</td>\n",
       "      <td>True</td>\n",
       "      <td>0</td>\n",
       "    </tr>\n",
       "  </tbody>\n",
       "</table>\n",
       "</div>"
      ],
      "text/plain": [
       "                              name time  num_bikes  num_empty  num_docks  \\\n",
       "0       River Street , Clerkenwell   t1          4         15         19   \n",
       "1   Phillimore Gardens, Kensington   t1         14         23         37   \n",
       "3  St. Chad's Street, King's Cross   t1         20          3         23   \n",
       "4         New Globe Walk, Bankside   t1          7         12         19   \n",
       "5            Park Street, Bankside   t1         18          0         18   \n",
       "\n",
       "                   coords  faulty  elevation  pop_dens  high_pop?   hill  \\\n",
       "0   (51.529163, -0.10997)   False         31     10010      False  False   \n",
       "1  (51.499606, -0.197574)   False         17     11436       True  False   \n",
       "3  (51.530059, -0.120973)   False         22     10010      False   True   \n",
       "4   (51.507385, -0.09644)   False         16     10010      False  False   \n",
       "5  (51.505974, -0.092754)   False          8     10010      False  False   \n",
       "\n",
       "   num_faulty_near  faulty_near  num_faulty  \n",
       "0                1        False           0  \n",
       "1                1        False           0  \n",
       "3                3         True           0  \n",
       "4                1        False           0  \n",
       "5                2         True           0  "
      ]
     },
<<<<<<< HEAD
=======
     "execution_count": 9,
     "metadata": {},
     "output_type": "execute_result"
    }
   ],
   "source": [
    "non_faulty_bikes_df.head()"
   ]
  },
  {
   "cell_type": "code",
   "execution_count": 10,
   "metadata": {},
   "outputs": [],
   "source": [
    "# Taking our effect size to be 0.2 we need to sample 198 times"
   ]
  },
  {
   "cell_type": "code",
   "execution_count": 11,
   "metadata": {},
   "outputs": [
    {
     "data": {
      "text/plain": [
       "<matplotlib.axes._subplots.AxesSubplot at 0x1a1c027240>"
      ]
     },
     "execution_count": 11,
>>>>>>> 34c58ddebfedf43c1164c9ac081c59c7ad9afd72
     "metadata": {},
     "output_type": "display_data"
<<<<<<< HEAD
=======
    }
   ],
   "source": [
    "# Sample the bikespoints that are faulty\n",
    " \n",
    "import scipy.stats\n",
    "np.random.seed(3)\n",
    "probs1_subsample1 = []\n",
    "for i in range(198):\n",
    "    sample = faulty_bikes_df.sample(n=50, replace = True)\n",
    "    p = np.sum(sample.faulty_near)/50\n",
    "    probs1_subsample1.append(p)\n",
    "\n",
    "sns.distplot(probs1_subsample1, norm_hist= True)"
   ]
  },
  {
   "cell_type": "code",
   "execution_count": 12,
   "metadata": {},
   "outputs": [
    {
     "data": {
      "text/plain": [
       "<matplotlib.axes._subplots.AxesSubplot at 0x1a1c358b70>"
      ]
     },
     "execution_count": 12,
     "metadata": {},
     "output_type": "execute_result"
>>>>>>> 34c58ddebfedf43c1164c9ac081c59c7ad9afd72
    },
    {
     "data": {
      "image/png": "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\n",
      "text/plain": [
       "<Figure size 720x504 with 1 Axes>"
      ]
     },
     "metadata": {
      "needs_background": "light"
     },
     "output_type": "display_data"
    },
    {
     "data": {
      "image/png": "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\n",
      "text/plain": [
       "<Figure size 720x504 with 1 Axes>"
      ]
     },
     "metadata": {
      "needs_background": "light"
     },
     "output_type": "display_data"
<<<<<<< HEAD
    },
=======
    }
   ],
   "source": [
    "sns.distplot(probs1_subsample1, hist=False, norm_hist=True, label='Faulty bikepoints', color='red')\n",
    "sns.distplot(probs1_subsample2, hist=False, norm_hist=True, label='Non-faulty bikepoints', color='skyblue')\n",
    "plt.axvline(x = np.mean(probs1_subsample1), color='red')\n",
    "plt.axvline(x = np.mean(probs1_subsample2), color='skyblue')\n",
    "plt.xlabel('Probability of having more than 1 faulty neighbour')\n",
    "plt.legend();"
   ]
  },
  {
   "cell_type": "code",
   "execution_count": 14,
   "metadata": {},
   "outputs": [
    {
     "data": {
      "text/plain": [
       "NormaltestResult(statistic=0.09751538061318213, pvalue=0.9524118803715452)"
      ]
     },
     "execution_count": 14,
     "metadata": {},
     "output_type": "execute_result"
    }
   ],
   "source": [
    "scipy.stats.normaltest(probs1_subsample1)"
   ]
  },
  {
   "cell_type": "code",
   "execution_count": 15,
   "metadata": {},
   "outputs": [
>>>>>>> 34c58ddebfedf43c1164c9ac081c59c7ad9afd72
    {
     "name": "stdout",
     "output_type": "stream",
     "text": [
      "faulty var = 0.004\n",
      "Non-faulty var = 0.005\n",
      "The ratio 0.9 is close enough to 1 to use a t-test\n",
      "Based on the p value of 4.217402024387721e-10 and our aplha of 0.05 we reject the null hypothesis.\n",
      "with an effect size, cohen's d, of -0.644 and power of 0.8.\n"
     ]
<<<<<<< HEAD
    },
=======
    }
   ],
   "source": [
    "# As we have taken two samples from an unknown population we will use a 2 sample t-test\n",
    "# We need to check if the variances of both samples are the same, if they aren't we'll have to use Welch's t-test\n",
    "\n",
    "v11 = np.var(probs1_subsample1)\n",
    "v12 = np.var(probs1_subsample2)\n",
    "\n",
    "print('Faulty var = {}'.format(v11) + '\\nNon-faulty var = {}'.format(v12))"
   ]
  },
  {
   "cell_type": "code",
   "execution_count": 16,
   "metadata": {},
   "outputs": [
>>>>>>> 34c58ddebfedf43c1164c9ac081c59c7ad9afd72
    {
     "data": {
      "image/png": "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\n",
      "text/plain": [
       "<Figure size 720x504 with 1 Axes>"
      ]
     },
<<<<<<< HEAD
     "metadata": {
      "needs_background": "light"
     },
     "output_type": "display_data"
=======
     "execution_count": 16,
     "metadata": {},
     "output_type": "execute_result"
    }
   ],
   "source": [
    "math.sqrt(v11)"
   ]
  },
  {
   "cell_type": "code",
   "execution_count": 17,
   "metadata": {},
   "outputs": [
    {
     "data": {
      "text/plain": [
       "0.899740972745379"
      ]
     },
     "execution_count": 17,
     "metadata": {},
     "output_type": "execute_result"
    }
   ],
   "source": [
    "# Need to take the ratio of the vars to see if they're close enough for a t test\n",
    "# They are close enough so we go ahead with the t-test\n",
    "\n",
    "v11/v12"
   ]
  },
  {
   "cell_type": "code",
   "execution_count": 18,
   "metadata": {},
   "outputs": [
    {
     "name": "stdout",
     "output_type": "stream",
     "text": [
      "Ttest_indResult(statistic=-6.407828758218733, pvalue=4.217402024387721e-10)\n"
     ]
    }
   ],
   "source": [
    "results1 = scipy.stats.ttest_ind(probs1_subsample1, probs1_subsample2)\n",
    "print(results1)"
   ]
  },
  {
   "cell_type": "code",
   "execution_count": 19,
   "metadata": {},
   "outputs": [
    {
     "name": "stdout",
     "output_type": "stream",
     "text": [
      "0.0685245408053377 -0.645643498263004 -0.044242424242424194\n"
     ]
>>>>>>> 34c58ddebfedf43c1164c9ac081c59c7ad9afd72
    }
   ],
   "source": [
    "hypothesis_test(bikes_df, 'faulty', 'faulty_near')"
   ]
  },
  {
   "cell_type": "markdown",
   "metadata": {},
   "source": [
    "## 2) Bikepoints at a high elevation are smaller.\n",
    "## H0 = Bikepoints on hills have the same number of docks as bikepoints that are not on hills\n",
    "## H1= Bikepoints on hills have fewer docks than bikepoints that are not on hills"
   ]
  },
  {
   "cell_type": "code",
<<<<<<< HEAD
   "execution_count": 6,
=======
   "execution_count": 20,
   "metadata": {},
   "outputs": [],
   "source": [
    "hill_bikes_df, no_hill_bikes_df = split_by_bool(bikes_df, 'hill')"
   ]
  },
  {
   "cell_type": "code",
   "execution_count": 21,
>>>>>>> 34c58ddebfedf43c1164c9ac081c59c7ad9afd72
   "metadata": {},
   "outputs": [
    {
     "data": {
      "text/html": [
       "<div>\n",
       "<style scoped>\n",
       "    .dataframe tbody tr th:only-of-type {\n",
       "        vertical-align: middle;\n",
       "    }\n",
       "\n",
       "    .dataframe tbody tr th {\n",
       "        vertical-align: top;\n",
       "    }\n",
       "\n",
       "    .dataframe thead th {\n",
       "        text-align: right;\n",
       "    }\n",
       "</style>\n",
       "<table border=\"1\" class=\"dataframe\">\n",
       "  <thead>\n",
       "    <tr style=\"text-align: right;\">\n",
       "      <th></th>\n",
       "      <th>name</th>\n",
       "      <th>time</th>\n",
       "      <th>num_bikes</th>\n",
       "      <th>num_empty</th>\n",
       "      <th>num_docks</th>\n",
       "      <th>coords</th>\n",
       "      <th>faulty</th>\n",
       "      <th>elevation</th>\n",
       "      <th>pop_dens</th>\n",
       "      <th>high_pop?</th>\n",
       "      <th>hill</th>\n",
       "      <th>num_faulty_near</th>\n",
       "      <th>faulty_near</th>\n",
       "      <th>num_faulty</th>\n",
       "    </tr>\n",
       "  </thead>\n",
       "  <tbody>\n",
       "    <tr>\n",
       "      <td>3</td>\n",
       "      <td>St. Chad's Street, King's Cross</td>\n",
       "      <td>t1</td>\n",
       "      <td>20</td>\n",
       "      <td>3</td>\n",
       "      <td>23</td>\n",
       "      <td>(51.530059, -0.120973)</td>\n",
       "      <td>False</td>\n",
       "      <td>22</td>\n",
       "      <td>10010</td>\n",
       "      <td>False</td>\n",
       "      <td>True</td>\n",
       "      <td>3</td>\n",
       "      <td>True</td>\n",
       "      <td>0</td>\n",
       "    </tr>\n",
       "    <tr>\n",
       "      <td>8</td>\n",
       "      <td>Scala Street, Fitzrovia</td>\n",
       "      <td>t1</td>\n",
       "      <td>13</td>\n",
       "      <td>8</td>\n",
       "      <td>21</td>\n",
       "      <td>(51.519914, -0.136039)</td>\n",
       "      <td>False</td>\n",
       "      <td>37</td>\n",
       "      <td>9279</td>\n",
       "      <td>False</td>\n",
       "      <td>True</td>\n",
       "      <td>3</td>\n",
       "      <td>True</td>\n",
       "      <td>0</td>\n",
       "    </tr>\n",
       "    <tr>\n",
       "      <td>9</td>\n",
       "      <td>Belgrove Street , King's Cross</td>\n",
       "      <td>t1</td>\n",
       "      <td>24</td>\n",
       "      <td>16</td>\n",
       "      <td>48</td>\n",
       "      <td>(51.529943, -0.123616)</td>\n",
       "      <td>True</td>\n",
       "      <td>24</td>\n",
       "      <td>10010</td>\n",
       "      <td>False</td>\n",
       "      <td>True</td>\n",
       "      <td>2</td>\n",
       "      <td>True</td>\n",
       "      <td>8</td>\n",
       "    </tr>\n",
       "    <tr>\n",
       "      <td>10</td>\n",
       "      <td>Great Russell Street, Bloomsbury</td>\n",
       "      <td>t1</td>\n",
       "      <td>15</td>\n",
       "      <td>11</td>\n",
       "      <td>26</td>\n",
       "      <td>(51.517727, -0.127854)</td>\n",
       "      <td>False</td>\n",
       "      <td>37</td>\n",
       "      <td>9279</td>\n",
       "      <td>False</td>\n",
       "      <td>True</td>\n",
       "      <td>2</td>\n",
       "      <td>True</td>\n",
       "      <td>0</td>\n",
       "    </tr>\n",
       "    <tr>\n",
       "      <td>12</td>\n",
       "      <td>Hatton Wall, Holborn</td>\n",
       "      <td>t1</td>\n",
       "      <td>10</td>\n",
       "      <td>16</td>\n",
       "      <td>26</td>\n",
       "      <td>(51.521661, -0.109006)</td>\n",
       "      <td>False</td>\n",
       "      <td>25</td>\n",
       "      <td>10010</td>\n",
       "      <td>False</td>\n",
       "      <td>True</td>\n",
       "      <td>2</td>\n",
       "      <td>True</td>\n",
       "      <td>0</td>\n",
       "    </tr>\n",
       "  </tbody>\n",
       "</table>\n",
       "</div>"
      ],
      "text/plain": [
       "                                name time  num_bikes  num_empty  num_docks  \\\n",
       "3    St. Chad's Street, King's Cross   t1         20          3         23   \n",
       "8            Scala Street, Fitzrovia   t1         13          8         21   \n",
       "9     Belgrove Street , King's Cross   t1         24         16         48   \n",
       "10  Great Russell Street, Bloomsbury   t1         15         11         26   \n",
       "12              Hatton Wall, Holborn   t1         10         16         26   \n",
       "\n",
       "                    coords  faulty  elevation  pop_dens  high_pop?  hill  \\\n",
       "3   (51.530059, -0.120973)   False         22     10010      False  True   \n",
       "8   (51.519914, -0.136039)   False         37      9279      False  True   \n",
       "9   (51.529943, -0.123616)    True         24     10010      False  True   \n",
       "10  (51.517727, -0.127854)   False         37      9279      False  True   \n",
       "12  (51.521661, -0.109006)   False         25     10010      False  True   \n",
       "\n",
       "    num_faulty_near  faulty_near  num_faulty  \n",
       "3                 3         True           0  \n",
       "8                 3         True           0  \n",
       "9                 2         True           8  \n",
       "10                2         True           0  \n",
       "12                2         True           0  "
      ]
     },
<<<<<<< HEAD
     "metadata": {},
     "output_type": "display_data"
    },
    {
     "name": "stdout",
     "output_type": "stream",
     "text": [
      "\n",
      "\n"
     ]
    },
=======
     "execution_count": 21,
     "metadata": {},
     "output_type": "execute_result"
    }
   ],
   "source": [
    "hill_bikes_df.head()"
   ]
  },
  {
   "cell_type": "code",
   "execution_count": 22,
   "metadata": {},
   "outputs": [
>>>>>>> 34c58ddebfedf43c1164c9ac081c59c7ad9afd72
    {
     "data": {
      "text/html": [
       "<div>\n",
       "<style scoped>\n",
       "    .dataframe tbody tr th:only-of-type {\n",
       "        vertical-align: middle;\n",
       "    }\n",
       "\n",
       "    .dataframe tbody tr th {\n",
       "        vertical-align: top;\n",
       "    }\n",
       "\n",
       "    .dataframe thead th {\n",
       "        text-align: right;\n",
       "    }\n",
       "</style>\n",
       "<table border=\"1\" class=\"dataframe\">\n",
       "  <thead>\n",
       "    <tr style=\"text-align: right;\">\n",
       "      <th></th>\n",
       "      <th>name</th>\n",
       "      <th>time</th>\n",
       "      <th>num_bikes</th>\n",
       "      <th>num_empty</th>\n",
       "      <th>num_docks</th>\n",
       "      <th>coords</th>\n",
       "      <th>faulty</th>\n",
       "      <th>elevation</th>\n",
       "      <th>pop_dens</th>\n",
       "      <th>high_pop?</th>\n",
       "      <th>hill</th>\n",
       "      <th>num_faulty_near</th>\n",
       "      <th>faulty_near</th>\n",
       "      <th>num_faulty</th>\n",
       "    </tr>\n",
       "  </thead>\n",
       "  <tbody>\n",
       "    <tr>\n",
       "      <td>0</td>\n",
       "      <td>River Street , Clerkenwell</td>\n",
       "      <td>t1</td>\n",
       "      <td>4</td>\n",
       "      <td>15</td>\n",
       "      <td>19</td>\n",
       "      <td>(51.529163, -0.10997)</td>\n",
       "      <td>False</td>\n",
       "      <td>31</td>\n",
       "      <td>10010</td>\n",
       "      <td>False</td>\n",
       "      <td>False</td>\n",
       "      <td>1</td>\n",
       "      <td>False</td>\n",
       "      <td>0</td>\n",
       "    </tr>\n",
       "    <tr>\n",
       "      <td>1</td>\n",
       "      <td>Phillimore Gardens, Kensington</td>\n",
       "      <td>t1</td>\n",
       "      <td>14</td>\n",
       "      <td>23</td>\n",
       "      <td>37</td>\n",
       "      <td>(51.499606, -0.197574)</td>\n",
       "      <td>False</td>\n",
       "      <td>17</td>\n",
       "      <td>11436</td>\n",
       "      <td>True</td>\n",
       "      <td>False</td>\n",
       "      <td>1</td>\n",
       "      <td>False</td>\n",
       "      <td>0</td>\n",
       "    </tr>\n",
       "    <tr>\n",
       "      <td>2</td>\n",
       "      <td>Christopher Street, Liverpool Street</td>\n",
       "      <td>t1</td>\n",
       "      <td>25</td>\n",
       "      <td>6</td>\n",
       "      <td>32</td>\n",
       "      <td>(51.521283, -0.084605)</td>\n",
       "      <td>True</td>\n",
       "      <td>27</td>\n",
       "      <td>10010</td>\n",
       "      <td>False</td>\n",
       "      <td>False</td>\n",
       "      <td>3</td>\n",
       "      <td>True</td>\n",
       "      <td>1</td>\n",
       "    </tr>\n",
       "    <tr>\n",
       "      <td>4</td>\n",
       "      <td>New Globe Walk, Bankside</td>\n",
       "      <td>t1</td>\n",
       "      <td>7</td>\n",
       "      <td>12</td>\n",
       "      <td>19</td>\n",
       "      <td>(51.507385, -0.09644)</td>\n",
       "      <td>False</td>\n",
       "      <td>16</td>\n",
       "      <td>10010</td>\n",
       "      <td>False</td>\n",
       "      <td>False</td>\n",
       "      <td>1</td>\n",
       "      <td>False</td>\n",
       "      <td>0</td>\n",
       "    </tr>\n",
       "    <tr>\n",
       "      <td>5</td>\n",
       "      <td>Park Street, Bankside</td>\n",
       "      <td>t1</td>\n",
       "      <td>18</td>\n",
       "      <td>0</td>\n",
       "      <td>18</td>\n",
       "      <td>(51.505974, -0.092754)</td>\n",
       "      <td>False</td>\n",
       "      <td>8</td>\n",
       "      <td>10010</td>\n",
       "      <td>False</td>\n",
       "      <td>False</td>\n",
       "      <td>2</td>\n",
       "      <td>True</td>\n",
       "      <td>0</td>\n",
       "    </tr>\n",
       "  </tbody>\n",
       "</table>\n",
       "</div>"
      ],
      "text/plain": [
       "                                   name time  num_bikes  num_empty  num_docks  \\\n",
       "0            River Street , Clerkenwell   t1          4         15         19   \n",
       "1        Phillimore Gardens, Kensington   t1         14         23         37   \n",
       "2  Christopher Street, Liverpool Street   t1         25          6         32   \n",
       "4              New Globe Walk, Bankside   t1          7         12         19   \n",
       "5                 Park Street, Bankside   t1         18          0         18   \n",
       "\n",
       "                   coords  faulty  elevation  pop_dens  high_pop?   hill  \\\n",
       "0   (51.529163, -0.10997)   False         31     10010      False  False   \n",
       "1  (51.499606, -0.197574)   False         17     11436       True  False   \n",
       "2  (51.521283, -0.084605)    True         27     10010      False  False   \n",
       "4   (51.507385, -0.09644)   False         16     10010      False  False   \n",
       "5  (51.505974, -0.092754)   False          8     10010      False  False   \n",
       "\n",
       "   num_faulty_near  faulty_near  num_faulty  \n",
       "0                1        False           0  \n",
       "1                1        False           0  \n",
       "2                3         True           1  \n",
       "4                1        False           0  \n",
       "5                2         True           0  "
      ]
     },
<<<<<<< HEAD
     "metadata": {},
     "output_type": "display_data"
    },
=======
     "execution_count": 22,
     "metadata": {},
     "output_type": "execute_result"
    }
   ],
   "source": [
    "no_hill_bikes_df.head()"
   ]
  },
  {
   "cell_type": "code",
   "execution_count": 23,
   "metadata": {},
   "outputs": [
    {
     "data": {
      "image/png": "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\n",
      "text/plain": [
       "<Figure size 432x288 with 1 Axes>"
      ]
     },
     "metadata": {
      "needs_background": "light"
     },
     "output_type": "display_data"
    }
   ],
   "source": [
    "# Sample the mean number of docks from bikespoints that are on a hill\n",
    " \n",
    "np.random.seed(3)\n",
    "probs2_subsample1 = []\n",
    "for i in range(198):\n",
    "    sample = hill_bikes_df.sample(n=50, replace = True)\n",
    "    docks = sample.num_docks\n",
    "    probs2_subsample1.append(np.mean(docks))\n",
    "\n",
    "sns.distplot(probs2_subsample1, norm_hist= True)\n",
    "plt.xlabel('Mean number of bike docks')\n",
    "plt.title('Number of bikedocks in bikepoints on hills');"
   ]
  },
  {
   "cell_type": "code",
   "execution_count": 24,
   "metadata": {},
   "outputs": [
>>>>>>> 34c58ddebfedf43c1164c9ac081c59c7ad9afd72
    {
     "data": {
      "image/png": "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\n",
      "text/plain": [
       "<Figure size 720x504 with 1 Axes>"
      ]
     },
     "metadata": {
      "needs_background": "light"
     },
     "output_type": "display_data"
<<<<<<< HEAD
    },
=======
    }
   ],
   "source": [
    "# Sample the mean number of docks from bikespoints that are not on a hill\n",
    " \n",
    "np.random.seed(3)\n",
    "probs2_subsample2 = []\n",
    "for i in range(198):\n",
    "    sample = no_hill_bikes_df.sample(n=50, replace = True)\n",
    "    docks = sample.num_docks\n",
    "    probs2_subsample2.append(np.mean(docks))\n",
    "\n",
    "sns.distplot(probs2_subsample2, norm_hist= True)\n",
    "plt.xlabel('Mean number of bike docks')\n",
    "plt.title('Number of bikedocks in bikepoints not on hills');"
   ]
  },
  {
   "cell_type": "code",
   "execution_count": 25,
   "metadata": {},
   "outputs": [
>>>>>>> 34c58ddebfedf43c1164c9ac081c59c7ad9afd72
    {
     "data": {
      "image/png": "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\n",
      "text/plain": [
       "<Figure size 720x504 with 1 Axes>"
      ]
     },
     "metadata": {
      "needs_background": "light"
     },
     "output_type": "display_data"
<<<<<<< HEAD
    },
=======
    }
   ],
   "source": [
    "sns.distplot(probs2_subsample1, hist=False, norm_hist=True, label='Bikepoints on Hills', color='red')\n",
    "sns.distplot(probs2_subsample2, hist=False, norm_hist=True, label='Bikepoints not on hills', color='skyblue')\n",
    "plt.axvline(x = np.mean(probs2_subsample1), color='red')\n",
    "plt.axvline(x = np.mean(probs2_subsample2), color='skyblue')\n",
    "plt.xlabel('Mean number of bike docks')\n",
    "plt.legend();"
   ]
  },
  {
   "cell_type": "code",
   "execution_count": 26,
   "metadata": {},
   "outputs": [
>>>>>>> 34c58ddebfedf43c1164c9ac081c59c7ad9afd72
    {
     "name": "stdout",
     "output_type": "stream",
     "text": [
      "hill var = 1.1\n",
      "Non-hill var = 1.898\n",
      "The ratio 0.58 is not close enough to 1 to use a t-test, so we use Welch's t-test\n",
      "Based on the p value of 4.657931549223401e-12 and our aplha of 0.05 we reject the null hypothesis.\n",
      "with an effect size, cohen's d, of -0.719 and power of 0.8.\n"
     ]
<<<<<<< HEAD
    },
=======
    }
   ],
   "source": [
    "# As we have taken two samples from an unknown population we will use a 2 sample t-test\n",
    "# We need to check if the variances of both samples are the same, if they aren't we'll have to use Welch's t-test\n",
    "\n",
    "v21 = np.var(probs2_subsample1)\n",
    "v22 = np.var(probs2_subsample2)\n",
    "\n",
    "print('Faulty var = {}'.format(v21) + '\\nNon-faulty var = {}'.format(v22))"
   ]
  },
  {
   "cell_type": "code",
   "execution_count": 27,
   "metadata": {},
   "outputs": [
>>>>>>> 34c58ddebfedf43c1164c9ac081c59c7ad9afd72
    {
     "data": {
      "image/png": "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\n",
      "text/plain": [
       "<Figure size 720x504 with 1 Axes>"
      ]
     },
<<<<<<< HEAD
     "metadata": {
      "needs_background": "light"
     },
     "output_type": "display_data"
=======
     "execution_count": 27,
     "metadata": {},
     "output_type": "execute_result"
    }
   ],
   "source": [
    "# Need to take the ratio of the vars to see if they're close enough for a t test\n",
    "# They are not close enough so we use a Welch t-test\n",
    "\n",
    "v21/v22"
   ]
  },
  {
   "cell_type": "code",
   "execution_count": 28,
   "metadata": {},
   "outputs": [
    {
     "name": "stdout",
     "output_type": "stream",
     "text": [
      "Ttest_indResult(statistic=-7.151686819024998, pvalue=4.657931549223401e-12)\n"
     ]
    }
   ],
   "source": [
    "results2 = scipy.stats.ttest_ind(probs2_subsample1, probs2_subsample2, equal_var=False)\n",
    "print(results2)"
   ]
  },
  {
   "cell_type": "code",
   "execution_count": 29,
   "metadata": {},
   "outputs": [
    {
     "data": {
      "text/plain": [
       "-0.7205935536892039"
      ]
     },
     "execution_count": 29,
     "metadata": {},
     "output_type": "execute_result"
>>>>>>> 34c58ddebfedf43c1164c9ac081c59c7ad9afd72
    }
   ],
   "source": [
    "hypothesis_test(bikes_df, 'hill', 'num_docks')"
   ]
  },
  {
   "cell_type": "markdown",
   "metadata": {},
   "source": [
    "## 3) Bikepoints in high populated areas are more likely to be faulty.\n",
    "## H0 = Bikepoints in highly populated areas have the same probability of having a faulty dock as general bikepoints\n",
    "## H1 = Bikepoints in highly populated areas have a higher probability of having a faulty dock\n"
   ]
  },
  {
   "cell_type": "code",
<<<<<<< HEAD
   "execution_count": 7,
=======
   "execution_count": 31,
   "metadata": {},
   "outputs": [],
   "source": [
    "high_pop_bikes_df, low_pop_bikes_df = split_by_bool(bikes_df, 'high_pop?')"
   ]
  },
  {
   "cell_type": "code",
   "execution_count": 32,
>>>>>>> 34c58ddebfedf43c1164c9ac081c59c7ad9afd72
   "metadata": {},
   "outputs": [
    {
     "data": {
      "text/html": [
       "<div>\n",
       "<style scoped>\n",
       "    .dataframe tbody tr th:only-of-type {\n",
       "        vertical-align: middle;\n",
       "    }\n",
       "\n",
       "    .dataframe tbody tr th {\n",
       "        vertical-align: top;\n",
       "    }\n",
       "\n",
       "    .dataframe thead th {\n",
       "        text-align: right;\n",
       "    }\n",
       "</style>\n",
       "<table border=\"1\" class=\"dataframe\">\n",
       "  <thead>\n",
       "    <tr style=\"text-align: right;\">\n",
       "      <th></th>\n",
       "      <th>name</th>\n",
       "      <th>time</th>\n",
       "      <th>num_bikes</th>\n",
       "      <th>num_empty</th>\n",
       "      <th>num_docks</th>\n",
       "      <th>coords</th>\n",
       "      <th>faulty</th>\n",
       "      <th>elevation</th>\n",
       "      <th>pop_dens</th>\n",
       "      <th>high_pop?</th>\n",
       "      <th>hill</th>\n",
       "      <th>num_faulty_near</th>\n",
       "      <th>faulty_near</th>\n",
       "      <th>num_faulty</th>\n",
       "    </tr>\n",
       "  </thead>\n",
       "  <tbody>\n",
       "    <tr>\n",
       "      <td>1</td>\n",
       "      <td>Phillimore Gardens, Kensington</td>\n",
       "      <td>t1</td>\n",
       "      <td>14</td>\n",
       "      <td>23</td>\n",
       "      <td>37</td>\n",
       "      <td>(51.499606, -0.197574)</td>\n",
       "      <td>False</td>\n",
       "      <td>17</td>\n",
       "      <td>11436</td>\n",
       "      <td>True</td>\n",
       "      <td>False</td>\n",
       "      <td>1</td>\n",
       "      <td>False</td>\n",
       "      <td>0</td>\n",
       "    </tr>\n",
       "    <tr>\n",
       "      <td>24</td>\n",
       "      <td>Commercial Street, Shoreditch</td>\n",
       "      <td>t1</td>\n",
       "      <td>15</td>\n",
       "      <td>1</td>\n",
       "      <td>16</td>\n",
       "      <td>(51.52127, -0.075578)</td>\n",
       "      <td>False</td>\n",
       "      <td>21</td>\n",
       "      <td>11050</td>\n",
       "      <td>True</td>\n",
       "      <td>False</td>\n",
       "      <td>2</td>\n",
       "      <td>True</td>\n",
       "      <td>0</td>\n",
       "    </tr>\n",
       "    <tr>\n",
       "      <td>30</td>\n",
       "      <td>Nesham Street, Wapping</td>\n",
       "      <td>t1</td>\n",
       "      <td>14</td>\n",
       "      <td>2</td>\n",
       "      <td>16</td>\n",
       "      <td>(51.507131, -0.06691)</td>\n",
       "      <td>False</td>\n",
       "      <td>16</td>\n",
       "      <td>11050</td>\n",
       "      <td>True</td>\n",
       "      <td>False</td>\n",
       "      <td>1</td>\n",
       "      <td>False</td>\n",
       "      <td>0</td>\n",
       "    </tr>\n",
       "    <tr>\n",
       "      <td>39</td>\n",
       "      <td>New Inn Yard, Shoreditch</td>\n",
       "      <td>t1</td>\n",
       "      <td>11</td>\n",
       "      <td>8</td>\n",
       "      <td>20</td>\n",
       "      <td>(51.524526, -0.079248)</td>\n",
       "      <td>True</td>\n",
       "      <td>23</td>\n",
       "      <td>11050</td>\n",
       "      <td>True</td>\n",
       "      <td>True</td>\n",
       "      <td>2</td>\n",
       "      <td>True</td>\n",
       "      <td>1</td>\n",
       "    </tr>\n",
       "    <tr>\n",
       "      <td>57</td>\n",
       "      <td>Tanner Street, Bermondsey</td>\n",
       "      <td>t1</td>\n",
       "      <td>15</td>\n",
       "      <td>23</td>\n",
       "      <td>40</td>\n",
       "      <td>(51.500647, -0.0786)</td>\n",
       "      <td>True</td>\n",
       "      <td>9</td>\n",
       "      <td>11050</td>\n",
       "      <td>True</td>\n",
       "      <td>False</td>\n",
       "      <td>1</td>\n",
       "      <td>False</td>\n",
       "      <td>2</td>\n",
       "    </tr>\n",
       "  </tbody>\n",
       "</table>\n",
       "</div>"
      ],
      "text/plain": [
       "                              name time  num_bikes  num_empty  num_docks  \\\n",
       "1   Phillimore Gardens, Kensington   t1         14         23         37   \n",
       "24   Commercial Street, Shoreditch   t1         15          1         16   \n",
       "30          Nesham Street, Wapping   t1         14          2         16   \n",
       "39        New Inn Yard, Shoreditch   t1         11          8         20   \n",
       "57       Tanner Street, Bermondsey   t1         15         23         40   \n",
       "\n",
       "                    coords  faulty  elevation  pop_dens  high_pop?   hill  \\\n",
       "1   (51.499606, -0.197574)   False         17     11436       True  False   \n",
       "24   (51.52127, -0.075578)   False         21     11050       True  False   \n",
       "30   (51.507131, -0.06691)   False         16     11050       True  False   \n",
       "39  (51.524526, -0.079248)    True         23     11050       True   True   \n",
       "57    (51.500647, -0.0786)    True          9     11050       True  False   \n",
       "\n",
       "    num_faulty_near  faulty_near  num_faulty  \n",
       "1                 1        False           0  \n",
       "24                2         True           0  \n",
       "30                1        False           0  \n",
       "39                2         True           1  \n",
       "57                1        False           2  "
      ]
     },
<<<<<<< HEAD
     "metadata": {},
     "output_type": "display_data"
    },
    {
     "name": "stdout",
     "output_type": "stream",
     "text": [
      "\n",
      "\n"
     ]
    },
=======
     "execution_count": 32,
     "metadata": {},
     "output_type": "execute_result"
    }
   ],
   "source": [
    "high_pop_bikes_df.head()"
   ]
  },
  {
   "cell_type": "code",
   "execution_count": 33,
   "metadata": {},
   "outputs": [
>>>>>>> 34c58ddebfedf43c1164c9ac081c59c7ad9afd72
    {
     "data": {
      "text/html": [
       "<div>\n",
       "<style scoped>\n",
       "    .dataframe tbody tr th:only-of-type {\n",
       "        vertical-align: middle;\n",
       "    }\n",
       "\n",
       "    .dataframe tbody tr th {\n",
       "        vertical-align: top;\n",
       "    }\n",
       "\n",
       "    .dataframe thead th {\n",
       "        text-align: right;\n",
       "    }\n",
       "</style>\n",
       "<table border=\"1\" class=\"dataframe\">\n",
       "  <thead>\n",
       "    <tr style=\"text-align: right;\">\n",
       "      <th></th>\n",
       "      <th>name</th>\n",
       "      <th>time</th>\n",
       "      <th>num_bikes</th>\n",
       "      <th>num_empty</th>\n",
       "      <th>num_docks</th>\n",
       "      <th>coords</th>\n",
       "      <th>faulty</th>\n",
       "      <th>elevation</th>\n",
       "      <th>pop_dens</th>\n",
       "      <th>high_pop?</th>\n",
       "      <th>hill</th>\n",
       "      <th>num_faulty_near</th>\n",
       "      <th>faulty_near</th>\n",
       "      <th>num_faulty</th>\n",
       "    </tr>\n",
       "  </thead>\n",
       "  <tbody>\n",
       "    <tr>\n",
       "      <td>0</td>\n",
       "      <td>River Street , Clerkenwell</td>\n",
       "      <td>t1</td>\n",
       "      <td>4</td>\n",
       "      <td>15</td>\n",
       "      <td>19</td>\n",
       "      <td>(51.529163, -0.10997)</td>\n",
       "      <td>False</td>\n",
       "      <td>31</td>\n",
       "      <td>10010</td>\n",
       "      <td>False</td>\n",
       "      <td>False</td>\n",
       "      <td>1</td>\n",
       "      <td>False</td>\n",
       "      <td>0</td>\n",
       "    </tr>\n",
       "    <tr>\n",
       "      <td>2</td>\n",
       "      <td>Christopher Street, Liverpool Street</td>\n",
       "      <td>t1</td>\n",
       "      <td>25</td>\n",
       "      <td>6</td>\n",
       "      <td>32</td>\n",
       "      <td>(51.521283, -0.084605)</td>\n",
       "      <td>True</td>\n",
       "      <td>27</td>\n",
       "      <td>10010</td>\n",
       "      <td>False</td>\n",
       "      <td>False</td>\n",
       "      <td>3</td>\n",
       "      <td>True</td>\n",
       "      <td>1</td>\n",
       "    </tr>\n",
       "    <tr>\n",
       "      <td>3</td>\n",
       "      <td>St. Chad's Street, King's Cross</td>\n",
       "      <td>t1</td>\n",
       "      <td>20</td>\n",
       "      <td>3</td>\n",
       "      <td>23</td>\n",
       "      <td>(51.530059, -0.120973)</td>\n",
       "      <td>False</td>\n",
       "      <td>22</td>\n",
       "      <td>10010</td>\n",
       "      <td>False</td>\n",
       "      <td>True</td>\n",
       "      <td>3</td>\n",
       "      <td>True</td>\n",
       "      <td>0</td>\n",
       "    </tr>\n",
       "    <tr>\n",
       "      <td>4</td>\n",
       "      <td>New Globe Walk, Bankside</td>\n",
       "      <td>t1</td>\n",
       "      <td>7</td>\n",
       "      <td>12</td>\n",
       "      <td>19</td>\n",
       "      <td>(51.507385, -0.09644)</td>\n",
       "      <td>False</td>\n",
       "      <td>16</td>\n",
       "      <td>10010</td>\n",
       "      <td>False</td>\n",
       "      <td>False</td>\n",
       "      <td>1</td>\n",
       "      <td>False</td>\n",
       "      <td>0</td>\n",
       "    </tr>\n",
       "    <tr>\n",
       "      <td>5</td>\n",
       "      <td>Park Street, Bankside</td>\n",
       "      <td>t1</td>\n",
       "      <td>18</td>\n",
       "      <td>0</td>\n",
       "      <td>18</td>\n",
       "      <td>(51.505974, -0.092754)</td>\n",
       "      <td>False</td>\n",
       "      <td>8</td>\n",
       "      <td>10010</td>\n",
       "      <td>False</td>\n",
       "      <td>False</td>\n",
       "      <td>2</td>\n",
       "      <td>True</td>\n",
       "      <td>0</td>\n",
       "    </tr>\n",
       "  </tbody>\n",
       "</table>\n",
       "</div>"
      ],
      "text/plain": [
       "                                   name time  num_bikes  num_empty  num_docks  \\\n",
       "0            River Street , Clerkenwell   t1          4         15         19   \n",
       "2  Christopher Street, Liverpool Street   t1         25          6         32   \n",
       "3       St. Chad's Street, King's Cross   t1         20          3         23   \n",
       "4              New Globe Walk, Bankside   t1          7         12         19   \n",
       "5                 Park Street, Bankside   t1         18          0         18   \n",
       "\n",
       "                   coords  faulty  elevation  pop_dens  high_pop?   hill  \\\n",
       "0   (51.529163, -0.10997)   False         31     10010      False  False   \n",
       "2  (51.521283, -0.084605)    True         27     10010      False  False   \n",
       "3  (51.530059, -0.120973)   False         22     10010      False   True   \n",
       "4   (51.507385, -0.09644)   False         16     10010      False  False   \n",
       "5  (51.505974, -0.092754)   False          8     10010      False  False   \n",
       "\n",
       "   num_faulty_near  faulty_near  num_faulty  \n",
       "0                1        False           0  \n",
       "2                3         True           1  \n",
       "3                3         True           0  \n",
       "4                1        False           0  \n",
       "5                2         True           0  "
      ]
     },
<<<<<<< HEAD
     "metadata": {},
     "output_type": "display_data"
    },
=======
     "execution_count": 33,
     "metadata": {},
     "output_type": "execute_result"
    }
   ],
   "source": [
    "low_pop_bikes_df.head()"
   ]
  },
  {
   "cell_type": "code",
   "execution_count": 34,
   "metadata": {},
   "outputs": [
    {
     "data": {
      "image/png": "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\n",
      "text/plain": [
       "<Figure size 432x288 with 1 Axes>"
      ]
     },
     "metadata": {
      "needs_background": "light"
     },
     "output_type": "display_data"
    }
   ],
   "source": [
    "np.random.seed(3)\n",
    "probs3_subsample1 = []\n",
    "for i in range(198):\n",
    "    sample = high_pop_bikes_df.sample(n=50, replace = True)\n",
    "    p = np.sum(sample['faulty'])/50\n",
    "    probs3_subsample1.append(p)\n",
    "\n",
    "sns.distplot(probs3_subsample1, norm_hist= True);"
   ]
  },
  {
   "cell_type": "code",
   "execution_count": 35,
   "metadata": {},
   "outputs": [
>>>>>>> 34c58ddebfedf43c1164c9ac081c59c7ad9afd72
    {
     "data": {
      "image/png": "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\n",
      "text/plain": [
       "<Figure size 720x504 with 1 Axes>"
      ]
     },
     "metadata": {
      "needs_background": "light"
     },
     "output_type": "display_data"
<<<<<<< HEAD
    },
=======
    }
   ],
   "source": [
    "np.random.seed(3)\n",
    "probs3_subsample2 = []\n",
    "for i in range(198):\n",
    "    sample = low_pop_bikes_df.sample(n=50, replace = True)\n",
    "    p = np.sum(sample.faulty)/50\n",
    "    probs3_subsample2.append(p)\n",
    "\n",
    "\n",
    "sns.distplot(probs3_subsample2, norm_hist = True);"
   ]
  },
  {
   "cell_type": "code",
   "execution_count": 36,
   "metadata": {},
   "outputs": [
>>>>>>> 34c58ddebfedf43c1164c9ac081c59c7ad9afd72
    {
     "data": {
      "image/png": "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\n",
      "text/plain": [
       "<Figure size 720x504 with 1 Axes>"
      ]
     },
     "metadata": {
      "needs_background": "light"
     },
     "output_type": "display_data"
<<<<<<< HEAD
    },
=======
    }
   ],
   "source": [
    "sns.distplot(probs3_subsample1, hist=False, norm_hist=True, label='Bikepoints in higher populated areas', color='red')\n",
    "sns.distplot(probs3_subsample2, hist=False, norm_hist=True, label='Bikepoints not in higher populated areas', color='skyblue')\n",
    "plt.axvline(x = np.mean(probs3_subsample1), color='red')\n",
    "plt.axvline(x = np.mean(probs3_subsample2), color='skyblue')\n",
    "plt.xlabel('Probability a bikepoint is faulty')\n",
    "plt.legend(loc = 3);"
   ]
  },
  {
   "cell_type": "code",
   "execution_count": 37,
   "metadata": {},
   "outputs": [
>>>>>>> 34c58ddebfedf43c1164c9ac081c59c7ad9afd72
    {
     "name": "stdout",
     "output_type": "stream",
     "text": [
      "high_pop? var = 0.005\n",
      "Non-high_pop? var = 0.005\n",
      "The ratio 0.939 is close enough to 1 to use a t-test\n",
      "Based on the p value of 0.021386186208782073 and our aplha of 0.05 we reject the null hypothesis.\n",
      "with an effect size, cohen's d, of 0.232 and power of 0.8.\n"
     ]
<<<<<<< HEAD
    },
=======
    }
   ],
   "source": [
    "# As we have taken two samples from an unknown population we will use a 2 sample t-test\n",
    "# We need to check if the variances of both samples are the same, if they aren't we'll have to use Welch's t-test\n",
    "\n",
    "v31 = np.var(probs3_subsample1)\n",
    "v32 = np.var(probs3_subsample2)\n",
    "\n",
    "print('Faulty var = {}'.format(v31) + '\\nNon-faulty var = {}'.format(v32))"
   ]
  },
  {
   "cell_type": "code",
   "execution_count": 38,
   "metadata": {},
   "outputs": [
>>>>>>> 34c58ddebfedf43c1164c9ac081c59c7ad9afd72
    {
     "data": {
      "image/png": "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\n",
      "text/plain": [
       "<Figure size 720x504 with 1 Axes>"
      ]
     },
<<<<<<< HEAD
     "metadata": {
      "needs_background": "light"
     },
     "output_type": "display_data"
=======
     "execution_count": 38,
     "metadata": {},
     "output_type": "execute_result"
    }
   ],
   "source": [
    "# Need to take the ratio of the vars to see if they're close enough for a t test\n",
    "# They are close enough so we can use a 2 sample t-test\n",
    "\n",
    "v31/v32"
   ]
  },
  {
   "cell_type": "code",
   "execution_count": 39,
   "metadata": {},
   "outputs": [
    {
     "name": "stdout",
     "output_type": "stream",
     "text": [
      "Ttest_indResult(statistic=2.310322943037043, pvalue=0.021386186208782073)\n"
     ]
    }
   ],
   "source": [
    "results3 = stats.ttest_ind(probs3_subsample1, probs3_subsample2)\n",
    "print(results3)"
   ]
  },
  {
   "cell_type": "code",
   "execution_count": 40,
   "metadata": {},
   "outputs": [
    {
     "data": {
      "text/plain": [
       "0.23278477676959133"
      ]
     },
     "execution_count": 40,
     "metadata": {},
     "output_type": "execute_result"
>>>>>>> 34c58ddebfedf43c1164c9ac081c59c7ad9afd72
    }
   ],
   "source": [
    "hypothesis_test(bikes_df, 'high_pop?', 'faulty')"
   ]
  },
  {
   "cell_type": "markdown",
   "metadata": {},
   "source": [
    "## 4) Higher populated areas have larger bikepoints\n",
    "## H0 = Bikepoints in highly populated areas have the same number of docks as non-highly populated bikepoints\n",
    "## H1 = Bikepoints in highly populated areas have more docks than non-highly populated bikepoints"
   ]
  },
  {
   "cell_type": "code",
<<<<<<< HEAD
   "execution_count": 9,
=======
   "execution_count": 41,
>>>>>>> 34c58ddebfedf43c1164c9ac081c59c7ad9afd72
   "metadata": {},
   "outputs": [
    {
     "data": {
<<<<<<< HEAD
      "text/html": [
       "<div>\n",
       "<style scoped>\n",
       "    .dataframe tbody tr th:only-of-type {\n",
       "        vertical-align: middle;\n",
       "    }\n",
       "\n",
       "    .dataframe tbody tr th {\n",
       "        vertical-align: top;\n",
       "    }\n",
       "\n",
       "    .dataframe thead th {\n",
       "        text-align: right;\n",
       "    }\n",
       "</style>\n",
       "<table border=\"1\" class=\"dataframe\">\n",
       "  <thead>\n",
       "    <tr style=\"text-align: right;\">\n",
       "      <th></th>\n",
       "      <th>name</th>\n",
       "      <th>time</th>\n",
       "      <th>num_bikes</th>\n",
       "      <th>num_empty</th>\n",
       "      <th>num_docks</th>\n",
       "      <th>coords</th>\n",
       "      <th>faulty</th>\n",
       "      <th>elevation</th>\n",
       "      <th>pop_dens</th>\n",
       "      <th>high_pop?</th>\n",
       "      <th>hill</th>\n",
       "      <th>num_faulty_near</th>\n",
       "      <th>faulty_near</th>\n",
       "      <th>num_faulty</th>\n",
       "    </tr>\n",
       "  </thead>\n",
       "  <tbody>\n",
       "    <tr>\n",
       "      <td>1</td>\n",
       "      <td>Phillimore Gardens, Kensington</td>\n",
       "      <td>t1</td>\n",
       "      <td>14</td>\n",
       "      <td>23</td>\n",
       "      <td>37</td>\n",
       "      <td>(51.499606, -0.197574)</td>\n",
       "      <td>False</td>\n",
       "      <td>17</td>\n",
       "      <td>11436</td>\n",
       "      <td>True</td>\n",
       "      <td>False</td>\n",
       "      <td>1</td>\n",
       "      <td>False</td>\n",
       "      <td>0</td>\n",
       "    </tr>\n",
       "    <tr>\n",
       "      <td>24</td>\n",
       "      <td>Commercial Street, Shoreditch</td>\n",
       "      <td>t1</td>\n",
       "      <td>15</td>\n",
       "      <td>1</td>\n",
       "      <td>16</td>\n",
       "      <td>(51.52127, -0.075578)</td>\n",
       "      <td>False</td>\n",
       "      <td>21</td>\n",
       "      <td>11050</td>\n",
       "      <td>True</td>\n",
       "      <td>False</td>\n",
       "      <td>2</td>\n",
       "      <td>True</td>\n",
       "      <td>0</td>\n",
       "    </tr>\n",
       "    <tr>\n",
       "      <td>30</td>\n",
       "      <td>Nesham Street, Wapping</td>\n",
       "      <td>t1</td>\n",
       "      <td>14</td>\n",
       "      <td>2</td>\n",
       "      <td>16</td>\n",
       "      <td>(51.507131, -0.06691)</td>\n",
       "      <td>False</td>\n",
       "      <td>16</td>\n",
       "      <td>11050</td>\n",
       "      <td>True</td>\n",
       "      <td>False</td>\n",
       "      <td>1</td>\n",
       "      <td>False</td>\n",
       "      <td>0</td>\n",
       "    </tr>\n",
       "    <tr>\n",
       "      <td>39</td>\n",
       "      <td>New Inn Yard, Shoreditch</td>\n",
       "      <td>t1</td>\n",
       "      <td>11</td>\n",
       "      <td>8</td>\n",
       "      <td>20</td>\n",
       "      <td>(51.524526, -0.079248)</td>\n",
       "      <td>True</td>\n",
       "      <td>23</td>\n",
       "      <td>11050</td>\n",
       "      <td>True</td>\n",
       "      <td>True</td>\n",
       "      <td>2</td>\n",
       "      <td>True</td>\n",
       "      <td>1</td>\n",
       "    </tr>\n",
       "    <tr>\n",
       "      <td>57</td>\n",
       "      <td>Tanner Street, Bermondsey</td>\n",
       "      <td>t1</td>\n",
       "      <td>15</td>\n",
       "      <td>23</td>\n",
       "      <td>40</td>\n",
       "      <td>(51.500647, -0.0786)</td>\n",
       "      <td>True</td>\n",
       "      <td>9</td>\n",
       "      <td>11050</td>\n",
       "      <td>True</td>\n",
       "      <td>False</td>\n",
       "      <td>1</td>\n",
       "      <td>False</td>\n",
       "      <td>2</td>\n",
       "    </tr>\n",
       "  </tbody>\n",
       "</table>\n",
       "</div>"
      ],
      "text/plain": [
       "                              name time  num_bikes  num_empty  num_docks  \\\n",
       "1   Phillimore Gardens, Kensington   t1         14         23         37   \n",
       "24   Commercial Street, Shoreditch   t1         15          1         16   \n",
       "30          Nesham Street, Wapping   t1         14          2         16   \n",
       "39        New Inn Yard, Shoreditch   t1         11          8         20   \n",
       "57       Tanner Street, Bermondsey   t1         15         23         40   \n",
       "\n",
       "                    coords  faulty  elevation  pop_dens  high_pop?   hill  \\\n",
       "1   (51.499606, -0.197574)   False         17     11436       True  False   \n",
       "24   (51.52127, -0.075578)   False         21     11050       True  False   \n",
       "30   (51.507131, -0.06691)   False         16     11050       True  False   \n",
       "39  (51.524526, -0.079248)    True         23     11050       True   True   \n",
       "57    (51.500647, -0.0786)    True          9     11050       True  False   \n",
       "\n",
       "    num_faulty_near  faulty_near  num_faulty  \n",
       "1                 1        False           0  \n",
       "24                2         True           0  \n",
       "30                1        False           0  \n",
       "39                2         True           1  \n",
       "57                1        False           2  "
      ]
     },
     "metadata": {},
     "output_type": "display_data"
    },
    {
     "name": "stdout",
     "output_type": "stream",
     "text": [
      "\n",
      "\n"
     ]
    },
=======
      "image/png": "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\n",
      "text/plain": [
       "<Figure size 432x288 with 1 Axes>"
      ]
     },
     "metadata": {
      "needs_background": "light"
     },
     "output_type": "display_data"
    }
   ],
   "source": [
    "np.random.seed(3)\n",
    "probs4_subsample1 = []\n",
    "for i in range(198):\n",
    "    sample = high_pop_bikes_df.sample(n=50, replace = True)\n",
    "    p = np.sum(sample.num_docks)/50\n",
    "    probs4_subsample1.append(p)\n",
    "\n",
    "sns.distplot(probs4_subsample1, norm_hist= True);"
   ]
  },
  {
   "cell_type": "code",
   "execution_count": 42,
   "metadata": {},
   "outputs": [
>>>>>>> 34c58ddebfedf43c1164c9ac081c59c7ad9afd72
    {
     "data": {
      "text/html": [
       "<div>\n",
       "<style scoped>\n",
       "    .dataframe tbody tr th:only-of-type {\n",
       "        vertical-align: middle;\n",
       "    }\n",
       "\n",
       "    .dataframe tbody tr th {\n",
       "        vertical-align: top;\n",
       "    }\n",
       "\n",
       "    .dataframe thead th {\n",
       "        text-align: right;\n",
       "    }\n",
       "</style>\n",
       "<table border=\"1\" class=\"dataframe\">\n",
       "  <thead>\n",
       "    <tr style=\"text-align: right;\">\n",
       "      <th></th>\n",
       "      <th>name</th>\n",
       "      <th>time</th>\n",
       "      <th>num_bikes</th>\n",
       "      <th>num_empty</th>\n",
       "      <th>num_docks</th>\n",
       "      <th>coords</th>\n",
       "      <th>faulty</th>\n",
       "      <th>elevation</th>\n",
       "      <th>pop_dens</th>\n",
       "      <th>high_pop?</th>\n",
       "      <th>hill</th>\n",
       "      <th>num_faulty_near</th>\n",
       "      <th>faulty_near</th>\n",
       "      <th>num_faulty</th>\n",
       "    </tr>\n",
       "  </thead>\n",
       "  <tbody>\n",
       "    <tr>\n",
       "      <td>0</td>\n",
       "      <td>River Street , Clerkenwell</td>\n",
       "      <td>t1</td>\n",
       "      <td>4</td>\n",
       "      <td>15</td>\n",
       "      <td>19</td>\n",
       "      <td>(51.529163, -0.10997)</td>\n",
       "      <td>False</td>\n",
       "      <td>31</td>\n",
       "      <td>10010</td>\n",
       "      <td>False</td>\n",
       "      <td>False</td>\n",
       "      <td>1</td>\n",
       "      <td>False</td>\n",
       "      <td>0</td>\n",
       "    </tr>\n",
       "    <tr>\n",
       "      <td>2</td>\n",
       "      <td>Christopher Street, Liverpool Street</td>\n",
       "      <td>t1</td>\n",
       "      <td>25</td>\n",
       "      <td>6</td>\n",
       "      <td>32</td>\n",
       "      <td>(51.521283, -0.084605)</td>\n",
       "      <td>True</td>\n",
       "      <td>27</td>\n",
       "      <td>10010</td>\n",
       "      <td>False</td>\n",
       "      <td>False</td>\n",
       "      <td>3</td>\n",
       "      <td>True</td>\n",
       "      <td>1</td>\n",
       "    </tr>\n",
       "    <tr>\n",
       "      <td>3</td>\n",
       "      <td>St. Chad's Street, King's Cross</td>\n",
       "      <td>t1</td>\n",
       "      <td>20</td>\n",
       "      <td>3</td>\n",
       "      <td>23</td>\n",
       "      <td>(51.530059, -0.120973)</td>\n",
       "      <td>False</td>\n",
       "      <td>22</td>\n",
       "      <td>10010</td>\n",
       "      <td>False</td>\n",
       "      <td>True</td>\n",
       "      <td>3</td>\n",
       "      <td>True</td>\n",
       "      <td>0</td>\n",
       "    </tr>\n",
       "    <tr>\n",
       "      <td>4</td>\n",
       "      <td>New Globe Walk, Bankside</td>\n",
       "      <td>t1</td>\n",
       "      <td>7</td>\n",
       "      <td>12</td>\n",
       "      <td>19</td>\n",
       "      <td>(51.507385, -0.09644)</td>\n",
       "      <td>False</td>\n",
       "      <td>16</td>\n",
       "      <td>10010</td>\n",
       "      <td>False</td>\n",
       "      <td>False</td>\n",
       "      <td>1</td>\n",
       "      <td>False</td>\n",
       "      <td>0</td>\n",
       "    </tr>\n",
       "    <tr>\n",
       "      <td>5</td>\n",
       "      <td>Park Street, Bankside</td>\n",
       "      <td>t1</td>\n",
       "      <td>18</td>\n",
       "      <td>0</td>\n",
       "      <td>18</td>\n",
       "      <td>(51.505974, -0.092754)</td>\n",
       "      <td>False</td>\n",
       "      <td>8</td>\n",
       "      <td>10010</td>\n",
       "      <td>False</td>\n",
       "      <td>False</td>\n",
       "      <td>2</td>\n",
       "      <td>True</td>\n",
       "      <td>0</td>\n",
       "    </tr>\n",
       "  </tbody>\n",
       "</table>\n",
       "</div>"
      ],
      "text/plain": [
       "                                   name time  num_bikes  num_empty  num_docks  \\\n",
       "0            River Street , Clerkenwell   t1          4         15         19   \n",
       "2  Christopher Street, Liverpool Street   t1         25          6         32   \n",
       "3       St. Chad's Street, King's Cross   t1         20          3         23   \n",
       "4              New Globe Walk, Bankside   t1          7         12         19   \n",
       "5                 Park Street, Bankside   t1         18          0         18   \n",
       "\n",
       "                   coords  faulty  elevation  pop_dens  high_pop?   hill  \\\n",
       "0   (51.529163, -0.10997)   False         31     10010      False  False   \n",
       "2  (51.521283, -0.084605)    True         27     10010      False  False   \n",
       "3  (51.530059, -0.120973)   False         22     10010      False   True   \n",
       "4   (51.507385, -0.09644)   False         16     10010      False  False   \n",
       "5  (51.505974, -0.092754)   False          8     10010      False  False   \n",
       "\n",
       "   num_faulty_near  faulty_near  num_faulty  \n",
       "0                1        False           0  \n",
       "2                3         True           1  \n",
       "3                3         True           0  \n",
       "4                1        False           0  \n",
       "5                2         True           0  "
      ]
     },
     "metadata": {},
     "output_type": "display_data"
<<<<<<< HEAD
    },
=======
    }
   ],
   "source": [
    "np.random.seed(3)\n",
    "probs4_subsample2 = []\n",
    "for i in range(198):\n",
    "    sample = low_pop_bikes_df.sample(n=50, replace = True)\n",
    "    p = np.sum(sample.num_docks)/50\n",
    "    probs4_subsample2.append(p)\n",
    "\n",
    "sns.distplot(probs4_subsample2, norm_hist= True);"
   ]
  },
  {
   "cell_type": "code",
   "execution_count": 43,
   "metadata": {},
   "outputs": [
>>>>>>> 34c58ddebfedf43c1164c9ac081c59c7ad9afd72
    {
     "data": {
      "image/png": "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\n",
      "text/plain": [
       "<Figure size 720x504 with 1 Axes>"
      ]
     },
     "metadata": {
      "needs_background": "light"
     },
     "output_type": "display_data"
<<<<<<< HEAD
    },
=======
    }
   ],
   "source": [
    "sns.distplot(probs4_subsample1, hist=False, norm_hist=True, label='Bikepoints in higher populated areas', color='red')\n",
    "sns.distplot(probs4_subsample2, hist=False, norm_hist=True, label='Bikepoints not in higher populated areas', color='skyblue')\n",
    "plt.axvline(x = np.mean(probs4_subsample1), color='red')\n",
    "plt.axvline(x = np.mean(probs4_subsample2), color='skyblue')\n",
    "plt.xlabel('Mean number of docks')\n",
    "plt.legend(loc = 3);"
   ]
  },
  {
   "cell_type": "code",
   "execution_count": 44,
   "metadata": {},
   "outputs": [
    {
     "name": "stdout",
     "output_type": "stream",
     "text": [
      "Faulty var = 1.225336271808999\n",
      "Non-faulty var = 1.7942611570247933\n"
     ]
    }
   ],
   "source": [
    "# As we have taken two samples from an unknown population we will use a 2 sample t-test\n",
    "# We need to check if the variances of both samples are the same, if they aren't we'll have to use Welch's t-test\n",
    "\n",
    "v41 = np.var(probs4_subsample1)\n",
    "v42 = np.var(probs4_subsample2)\n",
    "\n",
    "print('Faulty var = {}'.format(v41) + '\\nNon-faulty var = {}'.format(v42))"
   ]
  },
  {
   "cell_type": "code",
   "execution_count": 45,
   "metadata": {},
   "outputs": [
>>>>>>> 34c58ddebfedf43c1164c9ac081c59c7ad9afd72
    {
     "data": {
      "image/png": "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\n",
      "text/plain": [
       "<Figure size 720x504 with 1 Axes>"
      ]
     },
<<<<<<< HEAD
     "metadata": {
      "needs_background": "light"
     },
     "output_type": "display_data"
    },
=======
     "execution_count": 45,
     "metadata": {},
     "output_type": "execute_result"
    }
   ],
   "source": [
    "# Need to take the ratio of the vars to see if they're close enough for a t test\n",
    "# They are not close enough so we use a Welch t-test\n",
    "\n",
    "v41/v42"
   ]
  },
  {
   "cell_type": "code",
   "execution_count": 46,
   "metadata": {},
   "outputs": [
>>>>>>> 34c58ddebfedf43c1164c9ac081c59c7ad9afd72
    {
     "name": "stdout",
     "output_type": "stream",
     "text": [
      "high_pop? var = 1.225\n",
      "Non-high_pop? var = 1.794\n",
      "The ratio 0.683 is not close enough to 1 to use a t-test, so we use Welch's t-test\n",
      "Based on the p value of 0.00021638510396394984 and our aplha of 0.05 we reject the null hypothesis.\n",
      "with an effect size, cohen's d, of 0.375 and power of 0.8.\n"
     ]
<<<<<<< HEAD
    },
=======
    }
   ],
   "source": [
    "results4 = stats.ttest_ind(probs4_subsample1, probs4_subsample2, equal_var=False)\n",
    "print(results4)"
   ]
  },
  {
   "cell_type": "code",
   "execution_count": 47,
   "metadata": {},
   "outputs": [
>>>>>>> 34c58ddebfedf43c1164c9ac081c59c7ad9afd72
    {
     "data": {
      "image/png": "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\n",
      "text/plain": [
       "<Figure size 720x504 with 1 Axes>"
      ]
     },
<<<<<<< HEAD
     "metadata": {
      "needs_background": "light"
     },
     "output_type": "display_data"
=======
     "execution_count": 47,
     "metadata": {},
     "output_type": "execute_result"
>>>>>>> 34c58ddebfedf43c1164c9ac081c59c7ad9afd72
    }
   ],
   "source": [
    "hypothesis_test(bikes_df, 'high_pop?', 'num_docks')"
   ]
  },
  {
   "cell_type": "markdown",
   "metadata": {},
   "source": [
    "#### Findings & Application"
   ]
  },
  {
   "cell_type": "markdown",
   "metadata": {},
   "source": [
    "#### Limitations"
   ]
  },
  {
   "cell_type": "markdown",
   "metadata": {},
   "source": [
    "#### Next Steps"
   ]
  },
  {
   "cell_type": "code",
   "execution_count": null,
   "metadata": {},
   "outputs": [],
   "source": []
  }
 ],
 "metadata": {
  "kernelspec": {
   "display_name": "Python 3",
   "language": "python",
   "name": "python3"
  },
  "language_info": {
   "codemirror_mode": {
    "name": "ipython",
    "version": 3
   },
   "file_extension": ".py",
   "mimetype": "text/x-python",
   "name": "python",
   "nbconvert_exporter": "python",
   "pygments_lexer": "ipython3",
   "version": "3.6.9"
  }
 },
 "nbformat": 4,
 "nbformat_minor": 4
}
