{
 "cells": [
  {
   "cell_type": "markdown",
   "metadata": {},
   "source": [
    "<img src=\"./img/DC_Gray _Logo.png\">"
   ]
  },
  {
   "cell_type": "markdown",
   "metadata": {},
   "source": [
    "<center><h2> Module 3 Project</h2></center>\n",
    "<center><h2> Hypothesis Testing</h2></center>\n",
    "\n",
    "**Authors:** Joe Read and Mohammed Hannan\n"
   ]
  },
  {
   "cell_type": "markdown",
   "metadata": {},
   "source": [
    "#### Business Problem"
   ]
  },
  {
   "cell_type": "markdown",
   "metadata": {},
   "source": [
    "#### Analysis"
   ]
  },
  {
   "cell_type": "code",
   "execution_count": 1,
   "metadata": {},
   "outputs": [],
   "source": [
    "# import data_cleaning as dc\n",
    "# dirty_data = pd.read_csv('./data/dirty_data.csv')\n",
    "# cleaned_data = dc.full_clean(dirty_data)\n",
    "\n",
    "import requests\n",
    "import json\n",
    "import pandas as pd\n",
    "import numpy as np\n",
    "import seaborn as sns\n",
    "import matplotlib.pyplot as plt\n",
    "\n",
    "from hypothesis_tests import *\n",
    "\n",
    "sns.set_style('whitegrid')\n",
    "%matplotlib inline"
   ]
  },
  {
   "cell_type": "code",
   "execution_count": 2,
   "metadata": {},
   "outputs": [],
   "source": [
    "# Load our clean bikes dataframe\n",
    "\n",
    "bikes_df = pd.read_pickle('bikes_dataframe')"
   ]
  },
  {
   "cell_type": "code",
   "execution_count": 3,
   "metadata": {},
   "outputs": [
    {
     "data": {
      "text/html": [
       "<div>\n",
       "<style scoped>\n",
       "    .dataframe tbody tr th:only-of-type {\n",
       "        vertical-align: middle;\n",
       "    }\n",
       "\n",
       "    .dataframe tbody tr th {\n",
       "        vertical-align: top;\n",
       "    }\n",
       "\n",
       "    .dataframe thead th {\n",
       "        text-align: right;\n",
       "    }\n",
       "</style>\n",
       "<table border=\"1\" class=\"dataframe\">\n",
       "  <thead>\n",
       "    <tr style=\"text-align: right;\">\n",
       "      <th></th>\n",
       "      <th>name</th>\n",
       "      <th>time</th>\n",
       "      <th>num_bikes</th>\n",
       "      <th>num_empty</th>\n",
       "      <th>num_docks</th>\n",
       "      <th>coords</th>\n",
       "      <th>faulty</th>\n",
       "      <th>elevation</th>\n",
       "      <th>pop_dens</th>\n",
       "      <th>high_pop?</th>\n",
       "      <th>hill</th>\n",
       "      <th>num_faulty_near</th>\n",
       "      <th>faulty_near</th>\n",
       "      <th>num_faulty</th>\n",
       "    </tr>\n",
       "  </thead>\n",
       "  <tbody>\n",
       "    <tr>\n",
       "      <td>0</td>\n",
       "      <td>River Street , Clerkenwell</td>\n",
       "      <td>t1</td>\n",
       "      <td>4</td>\n",
       "      <td>15</td>\n",
       "      <td>19</td>\n",
       "      <td>(51.529163, -0.10997)</td>\n",
       "      <td>False</td>\n",
       "      <td>31</td>\n",
       "      <td>10010</td>\n",
       "      <td>False</td>\n",
       "      <td>False</td>\n",
       "      <td>1</td>\n",
       "      <td>False</td>\n",
       "      <td>0</td>\n",
       "    </tr>\n",
       "    <tr>\n",
       "      <td>1</td>\n",
       "      <td>Phillimore Gardens, Kensington</td>\n",
       "      <td>t1</td>\n",
       "      <td>14</td>\n",
       "      <td>23</td>\n",
       "      <td>37</td>\n",
       "      <td>(51.499606, -0.197574)</td>\n",
       "      <td>False</td>\n",
       "      <td>17</td>\n",
       "      <td>11436</td>\n",
       "      <td>True</td>\n",
       "      <td>False</td>\n",
       "      <td>1</td>\n",
       "      <td>False</td>\n",
       "      <td>0</td>\n",
       "    </tr>\n",
       "    <tr>\n",
       "      <td>2</td>\n",
       "      <td>Christopher Street, Liverpool Street</td>\n",
       "      <td>t1</td>\n",
       "      <td>25</td>\n",
       "      <td>6</td>\n",
       "      <td>32</td>\n",
       "      <td>(51.521283, -0.084605)</td>\n",
       "      <td>True</td>\n",
       "      <td>27</td>\n",
       "      <td>10010</td>\n",
       "      <td>False</td>\n",
       "      <td>False</td>\n",
       "      <td>3</td>\n",
       "      <td>True</td>\n",
       "      <td>1</td>\n",
       "    </tr>\n",
       "    <tr>\n",
       "      <td>3</td>\n",
       "      <td>St. Chad's Street, King's Cross</td>\n",
       "      <td>t1</td>\n",
       "      <td>20</td>\n",
       "      <td>3</td>\n",
       "      <td>23</td>\n",
       "      <td>(51.530059, -0.120973)</td>\n",
       "      <td>False</td>\n",
       "      <td>22</td>\n",
       "      <td>10010</td>\n",
       "      <td>False</td>\n",
       "      <td>True</td>\n",
       "      <td>3</td>\n",
       "      <td>True</td>\n",
       "      <td>0</td>\n",
       "    </tr>\n",
       "    <tr>\n",
       "      <td>4</td>\n",
       "      <td>New Globe Walk, Bankside</td>\n",
       "      <td>t1</td>\n",
       "      <td>7</td>\n",
       "      <td>12</td>\n",
       "      <td>19</td>\n",
       "      <td>(51.507385, -0.09644)</td>\n",
       "      <td>False</td>\n",
       "      <td>16</td>\n",
       "      <td>10010</td>\n",
       "      <td>False</td>\n",
       "      <td>False</td>\n",
       "      <td>1</td>\n",
       "      <td>False</td>\n",
       "      <td>0</td>\n",
       "    </tr>\n",
       "  </tbody>\n",
       "</table>\n",
       "</div>"
      ],
      "text/plain": [
       "                                   name time  num_bikes  num_empty  num_docks  \\\n",
       "0            River Street , Clerkenwell   t1          4         15         19   \n",
       "1        Phillimore Gardens, Kensington   t1         14         23         37   \n",
       "2  Christopher Street, Liverpool Street   t1         25          6         32   \n",
       "3       St. Chad's Street, King's Cross   t1         20          3         23   \n",
       "4              New Globe Walk, Bankside   t1          7         12         19   \n",
       "\n",
       "                   coords  faulty  elevation  pop_dens  high_pop?   hill  \\\n",
       "0   (51.529163, -0.10997)   False         31     10010      False  False   \n",
       "1  (51.499606, -0.197574)   False         17     11436       True  False   \n",
       "2  (51.521283, -0.084605)    True         27     10010      False  False   \n",
       "3  (51.530059, -0.120973)   False         22     10010      False   True   \n",
       "4   (51.507385, -0.09644)   False         16     10010      False  False   \n",
       "\n",
       "   num_faulty_near  faulty_near  num_faulty  \n",
       "0                1        False           0  \n",
       "1                1        False           0  \n",
       "2                3         True           1  \n",
       "3                3         True           0  \n",
       "4                1        False           0  "
      ]
     },
     "execution_count": 3,
     "metadata": {},
     "output_type": "execute_result"
    }
   ],
   "source": [
    "bikes_df.head()"
   ]
  },
  {
   "cell_type": "code",
   "execution_count": 4,
   "metadata": {},
   "outputs": [
    {
     "name": "stdout",
     "output_type": "stream",
     "text": [
      "For an effect size of 0.1 we need to sample 786 times\n",
      "For an effect size of 0.15 we need to sample 350 times\n",
      "For an effect size of 0.2 we need to sample 198 times\n",
      "For an effect size of 0.25 we need to sample 127 times\n",
      "For an effect size of 0.3 we need to sample 89 times\n",
      "For an effect size of 0.35 we need to sample 66 times\n",
      "For an effect size of 0.4 we need to sample 51 times\n",
      "For an effect size of 0.45 we need to sample 40 times\n",
      "For an effect size of 0.5 we need to sample 33 times\n"
     ]
    }
   ],
   "source": [
    "# We think we'll only get a small effect sizes so we explore what it a good number of times to take samples\n",
    "\n",
    "from statsmodels.stats.power import tt_solve_power\n",
    "for i in [0.10, 0.15, 0.20, 0.25, 0.3, 0.35, 0.4, 0.45, 0.5]:\n",
    "    n = int(tt_solve_power(alpha=0.05, effect_size= i, power=0.8))\n",
    "    print(\"For an effect size of {} we need to sample {} times\".format(i,n))"
   ]
  },
  {
   "cell_type": "markdown",
   "metadata": {},
   "source": [
    "## 1) A Faulty bikepoints will be more likely to have more than one other faulty bikepoints near it. \n",
    "## H0 = Faulty bikepoints have the same probabilty of having other faulty bikepoints near-by as non-faulty bikepoints\n",
    "## H1 = Faulty bikepoints are more likely to have more than 1 faulty bikepoints near them than non-faulty bikepoints"
   ]
  },
  {
   "cell_type": "code",
   "execution_count": 5,
   "metadata": {},
   "outputs": [
    {
     "data": {
      "text/plain": [
       "False    270\n",
       "True     243\n",
       "Name: faulty_near, dtype: int64"
      ]
     },
     "execution_count": 5,
     "metadata": {},
     "output_type": "execute_result"
    }
   ],
   "source": [
    "# Non-faulty counts\n",
    "\n",
    "(bikes_df.loc[bikes_df['faulty'] == False].faulty_near).value_counts()"
   ]
  },
  {
   "cell_type": "code",
   "execution_count": 6,
   "metadata": {},
   "outputs": [
    {
     "data": {
      "text/plain": [
       "False    151\n",
       "True     116\n",
       "Name: faulty_near, dtype: int64"
      ]
     },
     "execution_count": 6,
     "metadata": {},
     "output_type": "execute_result"
    }
   ],
   "source": [
    "# Faulty counts\n",
    "\n",
    "(bikes_df.loc[bikes_df['faulty'] == True].faulty_near).value_counts()"
   ]
  },
  {
   "cell_type": "code",
   "execution_count": 7,
   "metadata": {},
   "outputs": [],
   "source": [
    "# Split the dataframe\n",
    "\n",
    "faulty_bikes_df, non_faulty_bikes_df = split_by_bool(bikes_df, 'faulty')"
   ]
  },
  {
   "cell_type": "code",
   "execution_count": 8,
   "metadata": {},
   "outputs": [
    {
     "data": {
      "text/html": [
       "<div>\n",
       "<style scoped>\n",
       "    .dataframe tbody tr th:only-of-type {\n",
       "        vertical-align: middle;\n",
       "    }\n",
       "\n",
       "    .dataframe tbody tr th {\n",
       "        vertical-align: top;\n",
       "    }\n",
       "\n",
       "    .dataframe thead th {\n",
       "        text-align: right;\n",
       "    }\n",
       "</style>\n",
       "<table border=\"1\" class=\"dataframe\">\n",
       "  <thead>\n",
       "    <tr style=\"text-align: right;\">\n",
       "      <th></th>\n",
       "      <th>name</th>\n",
       "      <th>time</th>\n",
       "      <th>num_bikes</th>\n",
       "      <th>num_empty</th>\n",
       "      <th>num_docks</th>\n",
       "      <th>coords</th>\n",
       "      <th>faulty</th>\n",
       "      <th>elevation</th>\n",
       "      <th>pop_dens</th>\n",
       "      <th>high_pop?</th>\n",
       "      <th>hill</th>\n",
       "      <th>num_faulty_near</th>\n",
       "      <th>faulty_near</th>\n",
       "      <th>num_faulty</th>\n",
       "    </tr>\n",
       "  </thead>\n",
       "  <tbody>\n",
       "    <tr>\n",
       "      <td>2</td>\n",
       "      <td>Christopher Street, Liverpool Street</td>\n",
       "      <td>t1</td>\n",
       "      <td>25</td>\n",
       "      <td>6</td>\n",
       "      <td>32</td>\n",
       "      <td>(51.521283, -0.084605)</td>\n",
       "      <td>True</td>\n",
       "      <td>27</td>\n",
       "      <td>10010</td>\n",
       "      <td>False</td>\n",
       "      <td>False</td>\n",
       "      <td>3</td>\n",
       "      <td>True</td>\n",
       "      <td>1</td>\n",
       "    </tr>\n",
       "    <tr>\n",
       "      <td>7</td>\n",
       "      <td>Malet Street, Bloomsbury</td>\n",
       "      <td>t1</td>\n",
       "      <td>43</td>\n",
       "      <td>5</td>\n",
       "      <td>49</td>\n",
       "      <td>(51.52168, -0.130431)</td>\n",
       "      <td>True</td>\n",
       "      <td>35</td>\n",
       "      <td>9279</td>\n",
       "      <td>False</td>\n",
       "      <td>False</td>\n",
       "      <td>1</td>\n",
       "      <td>False</td>\n",
       "      <td>1</td>\n",
       "    </tr>\n",
       "    <tr>\n",
       "      <td>9</td>\n",
       "      <td>Belgrove Street , King's Cross</td>\n",
       "      <td>t1</td>\n",
       "      <td>24</td>\n",
       "      <td>16</td>\n",
       "      <td>48</td>\n",
       "      <td>(51.529943, -0.123616)</td>\n",
       "      <td>True</td>\n",
       "      <td>24</td>\n",
       "      <td>10010</td>\n",
       "      <td>False</td>\n",
       "      <td>True</td>\n",
       "      <td>2</td>\n",
       "      <td>True</td>\n",
       "      <td>8</td>\n",
       "    </tr>\n",
       "    <tr>\n",
       "      <td>15</td>\n",
       "      <td>Drummond Street , Euston</td>\n",
       "      <td>t1</td>\n",
       "      <td>16</td>\n",
       "      <td>10</td>\n",
       "      <td>28</td>\n",
       "      <td>(51.527326, -0.136052)</td>\n",
       "      <td>True</td>\n",
       "      <td>28</td>\n",
       "      <td>9279</td>\n",
       "      <td>False</td>\n",
       "      <td>False</td>\n",
       "      <td>2</td>\n",
       "      <td>True</td>\n",
       "      <td>2</td>\n",
       "    </tr>\n",
       "    <tr>\n",
       "      <td>17</td>\n",
       "      <td>Doric Way , Somers Town</td>\n",
       "      <td>t1</td>\n",
       "      <td>2</td>\n",
       "      <td>44</td>\n",
       "      <td>50</td>\n",
       "      <td>(51.528833, -0.13225)</td>\n",
       "      <td>True</td>\n",
       "      <td>30</td>\n",
       "      <td>9279</td>\n",
       "      <td>False</td>\n",
       "      <td>False</td>\n",
       "      <td>2</td>\n",
       "      <td>True</td>\n",
       "      <td>4</td>\n",
       "    </tr>\n",
       "  </tbody>\n",
       "</table>\n",
       "</div>"
      ],
      "text/plain": [
       "                                    name time  num_bikes  num_empty  \\\n",
       "2   Christopher Street, Liverpool Street   t1         25          6   \n",
       "7               Malet Street, Bloomsbury   t1         43          5   \n",
       "9         Belgrove Street , King's Cross   t1         24         16   \n",
       "15              Drummond Street , Euston   t1         16         10   \n",
       "17               Doric Way , Somers Town   t1          2         44   \n",
       "\n",
       "    num_docks                  coords  faulty  elevation  pop_dens  high_pop?  \\\n",
       "2          32  (51.521283, -0.084605)    True         27     10010      False   \n",
       "7          49   (51.52168, -0.130431)    True         35      9279      False   \n",
       "9          48  (51.529943, -0.123616)    True         24     10010      False   \n",
       "15         28  (51.527326, -0.136052)    True         28      9279      False   \n",
       "17         50   (51.528833, -0.13225)    True         30      9279      False   \n",
       "\n",
       "     hill  num_faulty_near  faulty_near  num_faulty  \n",
       "2   False                3         True           1  \n",
       "7   False                1        False           1  \n",
       "9    True                2         True           8  \n",
       "15  False                2         True           2  \n",
       "17  False                2         True           4  "
      ]
     },
     "execution_count": 8,
     "metadata": {},
     "output_type": "execute_result"
    }
   ],
   "source": [
    "faulty_bikes_df.head()"
   ]
  },
  {
   "cell_type": "code",
   "execution_count": 9,
   "metadata": {},
   "outputs": [
    {
     "data": {
      "text/html": [
       "<div>\n",
       "<style scoped>\n",
       "    .dataframe tbody tr th:only-of-type {\n",
       "        vertical-align: middle;\n",
       "    }\n",
       "\n",
       "    .dataframe tbody tr th {\n",
       "        vertical-align: top;\n",
       "    }\n",
       "\n",
       "    .dataframe thead th {\n",
       "        text-align: right;\n",
       "    }\n",
       "</style>\n",
       "<table border=\"1\" class=\"dataframe\">\n",
       "  <thead>\n",
       "    <tr style=\"text-align: right;\">\n",
       "      <th></th>\n",
       "      <th>name</th>\n",
       "      <th>time</th>\n",
       "      <th>num_bikes</th>\n",
       "      <th>num_empty</th>\n",
       "      <th>num_docks</th>\n",
       "      <th>coords</th>\n",
       "      <th>faulty</th>\n",
       "      <th>elevation</th>\n",
       "      <th>pop_dens</th>\n",
       "      <th>high_pop?</th>\n",
       "      <th>hill</th>\n",
       "      <th>num_faulty_near</th>\n",
       "      <th>faulty_near</th>\n",
       "      <th>num_faulty</th>\n",
       "    </tr>\n",
       "  </thead>\n",
       "  <tbody>\n",
       "    <tr>\n",
       "      <td>0</td>\n",
       "      <td>River Street , Clerkenwell</td>\n",
       "      <td>t1</td>\n",
       "      <td>4</td>\n",
       "      <td>15</td>\n",
       "      <td>19</td>\n",
       "      <td>(51.529163, -0.10997)</td>\n",
       "      <td>False</td>\n",
       "      <td>31</td>\n",
       "      <td>10010</td>\n",
       "      <td>False</td>\n",
       "      <td>False</td>\n",
       "      <td>1</td>\n",
       "      <td>False</td>\n",
       "      <td>0</td>\n",
       "    </tr>\n",
       "    <tr>\n",
       "      <td>1</td>\n",
       "      <td>Phillimore Gardens, Kensington</td>\n",
       "      <td>t1</td>\n",
       "      <td>14</td>\n",
       "      <td>23</td>\n",
       "      <td>37</td>\n",
       "      <td>(51.499606, -0.197574)</td>\n",
       "      <td>False</td>\n",
       "      <td>17</td>\n",
       "      <td>11436</td>\n",
       "      <td>True</td>\n",
       "      <td>False</td>\n",
       "      <td>1</td>\n",
       "      <td>False</td>\n",
       "      <td>0</td>\n",
       "    </tr>\n",
       "    <tr>\n",
       "      <td>3</td>\n",
       "      <td>St. Chad's Street, King's Cross</td>\n",
       "      <td>t1</td>\n",
       "      <td>20</td>\n",
       "      <td>3</td>\n",
       "      <td>23</td>\n",
       "      <td>(51.530059, -0.120973)</td>\n",
       "      <td>False</td>\n",
       "      <td>22</td>\n",
       "      <td>10010</td>\n",
       "      <td>False</td>\n",
       "      <td>True</td>\n",
       "      <td>3</td>\n",
       "      <td>True</td>\n",
       "      <td>0</td>\n",
       "    </tr>\n",
       "    <tr>\n",
       "      <td>4</td>\n",
       "      <td>New Globe Walk, Bankside</td>\n",
       "      <td>t1</td>\n",
       "      <td>7</td>\n",
       "      <td>12</td>\n",
       "      <td>19</td>\n",
       "      <td>(51.507385, -0.09644)</td>\n",
       "      <td>False</td>\n",
       "      <td>16</td>\n",
       "      <td>10010</td>\n",
       "      <td>False</td>\n",
       "      <td>False</td>\n",
       "      <td>1</td>\n",
       "      <td>False</td>\n",
       "      <td>0</td>\n",
       "    </tr>\n",
       "    <tr>\n",
       "      <td>5</td>\n",
       "      <td>Park Street, Bankside</td>\n",
       "      <td>t1</td>\n",
       "      <td>18</td>\n",
       "      <td>0</td>\n",
       "      <td>18</td>\n",
       "      <td>(51.505974, -0.092754)</td>\n",
       "      <td>False</td>\n",
       "      <td>8</td>\n",
       "      <td>10010</td>\n",
       "      <td>False</td>\n",
       "      <td>False</td>\n",
       "      <td>2</td>\n",
       "      <td>True</td>\n",
       "      <td>0</td>\n",
       "    </tr>\n",
       "  </tbody>\n",
       "</table>\n",
       "</div>"
      ],
      "text/plain": [
       "                              name time  num_bikes  num_empty  num_docks  \\\n",
       "0       River Street , Clerkenwell   t1          4         15         19   \n",
       "1   Phillimore Gardens, Kensington   t1         14         23         37   \n",
       "3  St. Chad's Street, King's Cross   t1         20          3         23   \n",
       "4         New Globe Walk, Bankside   t1          7         12         19   \n",
       "5            Park Street, Bankside   t1         18          0         18   \n",
       "\n",
       "                   coords  faulty  elevation  pop_dens  high_pop?   hill  \\\n",
       "0   (51.529163, -0.10997)   False         31     10010      False  False   \n",
       "1  (51.499606, -0.197574)   False         17     11436       True  False   \n",
       "3  (51.530059, -0.120973)   False         22     10010      False   True   \n",
       "4   (51.507385, -0.09644)   False         16     10010      False  False   \n",
       "5  (51.505974, -0.092754)   False          8     10010      False  False   \n",
       "\n",
       "   num_faulty_near  faulty_near  num_faulty  \n",
       "0                1        False           0  \n",
       "1                1        False           0  \n",
       "3                3         True           0  \n",
       "4                1        False           0  \n",
       "5                2         True           0  "
      ]
     },
     "execution_count": 9,
     "metadata": {},
     "output_type": "execute_result"
    }
   ],
   "source": [
    "non_faulty_bikes_df.head()"
   ]
  },
  {
   "cell_type": "code",
   "execution_count": 10,
   "metadata": {},
   "outputs": [],
   "source": [
    "# Taking our effect size to be 0.2 we need to sample 198 times"
   ]
  },
  {
   "cell_type": "code",
   "execution_count": 11,
   "metadata": {},
   "outputs": [
    {
     "data": {
      "text/plain": [
       "<matplotlib.axes._subplots.AxesSubplot at 0x1a1f486cf8>"
      ]
     },
     "execution_count": 11,
     "metadata": {},
     "output_type": "execute_result"
    },
    {
     "data": {
      "image/png": "[encoded data removed]",
      "text/plain": [
       "<Figure size 432x288 with 1 Axes>"
      ]
     },
     "metadata": {
      "needs_background": "light"
     },
     "output_type": "display_data"
    }
   ],
   "source": [
    "# Sample the bikespoints that are faulty\n",
    " \n",
    "import scipy.stats\n",
    "np.random.seed(3)\n",
    "probs1_subsample1 = []\n",
    "for i in range(198):\n",
    "    sample = faulty_bikes_df.sample(n=50, replace = True)\n",
    "    p = np.sum(sample.faulty_near)/50\n",
    "    probs1_subsample1.append(p)\n",
    "\n",
    "sns.distplot(probs1_subsample1, norm_hist= True)"
   ]
  },
  {
   "cell_type": "code",
   "execution_count": 12,
   "metadata": {},
   "outputs": [
    {
     "data": {
      "text/plain": [
       "<matplotlib.axes._subplots.AxesSubplot at 0x1a1f4562b0>"
      ]
     },
     "execution_count": 12,
     "metadata": {},
     "output_type": "execute_result"
    },
    {
     "data": {
      "image/png": "[encoded data removed]",
      "text/plain": [
       "<Figure size 432x288 with 1 Axes>"
      ]
     },
     "metadata": {
      "needs_background": "light"
     },
     "output_type": "display_data"
    }
   ],
   "source": [
    "# Sample the non-faulty bikepoints\n",
    "\n",
    "np.random.seed(3)\n",
    "probs1_subsample2 = []\n",
    "for i in range(198):\n",
    "    sample = non_faulty_bikes_df.sample(n=50, replace = True)\n",
    "    p = np.sum(sample.faulty_near)/50\n",
    "    probs1_subsample2.append(p)\n",
    "\n",
    "\n",
    "sns.distplot(probs1_subsample2, norm_hist= True)"
   ]
  },
  {
   "cell_type": "code",
   "execution_count": 13,
   "metadata": {},
   "outputs": [
    {
     "data": {
      "image/png": "[encoded data removed]",
      "text/plain": [
       "<Figure size 432x288 with 1 Axes>"
      ]
     },
     "metadata": {
      "needs_background": "light"
     },
     "output_type": "display_data"
    }
   ],
   "source": [
    "sns.distplot(probs1_subsample1, hist=False, norm_hist=True, label='Faulty bikepoints', color='red')\n",
    "sns.distplot(probs1_subsample2, hist=False, norm_hist=True, label='Non-faulty bikepoints', color='skyblue')\n",
    "plt.axvline(x = np.mean(probs1_subsample1), color='red')\n",
    "plt.axvline(x = np.mean(probs1_subsample2), color='skyblue')\n",
    "plt.xlabel('Probability of having more than 1 faulty neighbour')\n",
    "plt.legend();"
   ]
  },
  {
   "cell_type": "code",
   "execution_count": 67,
   "metadata": {},
   "outputs": [
    {
     "data": {
      "text/plain": [
       "NormaltestResult(statistic=0.09751538061318213, pvalue=0.9524118803715452)"
      ]
     },
     "execution_count": 67,
     "metadata": {},
     "output_type": "execute_result"
    }
   ],
   "source": [
    "scipy.stats.normaltest(probs1_subsample1)"
   ]
  },
  {
   "cell_type": "code",
   "execution_count": 50,
   "metadata": {},
   "outputs": [
    {
     "name": "stdout",
     "output_type": "stream",
     "text": [
      "Faulty var = 0.004447801244770941\n",
      "Non-faulty var = 0.004943424140393838\n"
     ]
    }
   ],
   "source": [
    "# As we have taken two samples from an unknown population we will use a 2 sample t-test\n",
    "# We need to check if the variances of both samples are the same, if they aren't we'll have to use Welch's t-test\n",
    "\n",
    "v11 = np.var(probs1_subsample1)\n",
    "v12 = np.var(probs1_subsample2)\n",
    "\n",
    "print('Faulty var = {}'.format(v11) + '\\nNon-faulty var = {}'.format(v12))"
   ]
  },
  {
   "cell_type": "code",
   "execution_count": 62,
   "metadata": {},
   "outputs": [
    {
     "data": {
      "text/plain": [
       "0.06669183791717649"
      ]
     },
     "execution_count": 62,
     "metadata": {},
     "output_type": "execute_result"
    }
   ],
   "source": [
    "math.sqrt(v11)"
   ]
  },
  {
   "cell_type": "code",
   "execution_count": 51,
   "metadata": {},
   "outputs": [
    {
     "data": {
      "text/plain": [
       "0.899740972745379"
      ]
     },
     "execution_count": 51,
     "metadata": {},
     "output_type": "execute_result"
    }
   ],
   "source": [
    "# Need to take the ratio of the vars to see if they're close enough for a t test\n",
    "# They are close enough so we go ahead with the t-test\n",
    "\n",
    "v11/v12"
   ]
  },
  {
   "cell_type": "code",
   "execution_count": 16,
   "metadata": {},
   "outputs": [
    {
     "name": "stdout",
     "output_type": "stream",
     "text": [
      "Ttest_indResult(statistic=-6.407828758218733, pvalue=4.217402024387721e-10)\n"
     ]
    }
   ],
   "source": [
    "results1 = scipy.stats.ttest_ind(probs1_subsample1, probs1_subsample2)\n",
    "print(results1)"
   ]
  },
  {
   "cell_type": "code",
   "execution_count": 66,
   "metadata": {},
   "outputs": [
    {
     "name": "stdout",
     "output_type": "stream",
     "text": [
      "0.0685245408053377 -0.645643498263004 -0.044242424242424194\n"
     ]
    }
   ],
   "source": [
    "# calculate Cohen's d\n",
    "\n",
    "m11 = np.mean(probs1_subsample1)\n",
    "m12 = np.mean(probs1_subsample2)\n",
    "\n",
    "n11 = len(probs1_subsample1)\n",
    "n12 = len(probs1_subsample2)\n",
    "\n",
    "s1 = np.sqrt(((n11 - 1)*v11 + (n12 - 1)*v12) / (n11 + n12 - 2))\n",
    "\n",
    "\n",
    "d1 = (m11 - m12)/(s1)\n",
    "print(s1, d1, m11-m12)"
   ]
  },
  {
   "cell_type": "markdown",
   "metadata": {},
   "source": [
    "We have a pvalue smaller than our alpha so we have enough data to reject the null hypothesis.\n",
    "Our effect size is 0.65 which is higher than expected"
   ]
  },
  {
   "cell_type": "markdown",
   "metadata": {},
   "source": [
    "## 2) Bikepoints at a high elevation are smaller.\n",
    "## H0 = Bikepoints on hills have the same number of docks as bikepoints that are not on hills\n",
    "## H1= Bikepoints on hills have fewer docks than bikepoints that are not on hills"
   ]
  },
  {
   "cell_type": "code",
   "execution_count": 17,
   "metadata": {},
   "outputs": [],
   "source": [
    "hill_bikes_df, no_hill_bikes_df = split_by_bool(bikes_df, 'hill')"
   ]
  },
  {
   "cell_type": "code",
   "execution_count": 18,
   "metadata": {},
   "outputs": [
    {
     "data": {
      "text/html": [
       "<div>\n",
       "<style scoped>\n",
       "    .dataframe tbody tr th:only-of-type {\n",
       "        vertical-align: middle;\n",
       "    }\n",
       "\n",
       "    .dataframe tbody tr th {\n",
       "        vertical-align: top;\n",
       "    }\n",
       "\n",
       "    .dataframe thead th {\n",
       "        text-align: right;\n",
       "    }\n",
       "</style>\n",
       "<table border=\"1\" class=\"dataframe\">\n",
       "  <thead>\n",
       "    <tr style=\"text-align: right;\">\n",
       "      <th></th>\n",
       "      <th>name</th>\n",
       "      <th>time</th>\n",
       "      <th>num_bikes</th>\n",
       "      <th>num_empty</th>\n",
       "      <th>num_docks</th>\n",
       "      <th>coords</th>\n",
       "      <th>faulty</th>\n",
       "      <th>elevation</th>\n",
       "      <th>pop_dens</th>\n",
       "      <th>high_pop?</th>\n",
       "      <th>hill</th>\n",
       "      <th>num_faulty_near</th>\n",
       "      <th>faulty_near</th>\n",
       "      <th>num_faulty</th>\n",
       "    </tr>\n",
       "  </thead>\n",
       "  <tbody>\n",
       "    <tr>\n",
       "      <td>3</td>\n",
       "      <td>St. Chad's Street, King's Cross</td>\n",
       "      <td>t1</td>\n",
       "      <td>20</td>\n",
       "      <td>3</td>\n",
       "      <td>23</td>\n",
       "      <td>(51.530059, -0.120973)</td>\n",
       "      <td>False</td>\n",
       "      <td>22</td>\n",
       "      <td>10010</td>\n",
       "      <td>False</td>\n",
       "      <td>True</td>\n",
       "      <td>3</td>\n",
       "      <td>True</td>\n",
       "      <td>0</td>\n",
       "    </tr>\n",
       "    <tr>\n",
       "      <td>8</td>\n",
       "      <td>Scala Street, Fitzrovia</td>\n",
       "      <td>t1</td>\n",
       "      <td>13</td>\n",
       "      <td>8</td>\n",
       "      <td>21</td>\n",
       "      <td>(51.519914, -0.136039)</td>\n",
       "      <td>False</td>\n",
       "      <td>37</td>\n",
       "      <td>9279</td>\n",
       "      <td>False</td>\n",
       "      <td>True</td>\n",
       "      <td>3</td>\n",
       "      <td>True</td>\n",
       "      <td>0</td>\n",
       "    </tr>\n",
       "    <tr>\n",
       "      <td>9</td>\n",
       "      <td>Belgrove Street , King's Cross</td>\n",
       "      <td>t1</td>\n",
       "      <td>24</td>\n",
       "      <td>16</td>\n",
       "      <td>48</td>\n",
       "      <td>(51.529943, -0.123616)</td>\n",
       "      <td>True</td>\n",
       "      <td>24</td>\n",
       "      <td>10010</td>\n",
       "      <td>False</td>\n",
       "      <td>True</td>\n",
       "      <td>2</td>\n",
       "      <td>True</td>\n",
       "      <td>8</td>\n",
       "    </tr>\n",
       "    <tr>\n",
       "      <td>10</td>\n",
       "      <td>Great Russell Street, Bloomsbury</td>\n",
       "      <td>t1</td>\n",
       "      <td>15</td>\n",
       "      <td>11</td>\n",
       "      <td>26</td>\n",
       "      <td>(51.517727, -0.127854)</td>\n",
       "      <td>False</td>\n",
       "      <td>37</td>\n",
       "      <td>9279</td>\n",
       "      <td>False</td>\n",
       "      <td>True</td>\n",
       "      <td>2</td>\n",
       "      <td>True</td>\n",
       "      <td>0</td>\n",
       "    </tr>\n",
       "    <tr>\n",
       "      <td>12</td>\n",
       "      <td>Hatton Wall, Holborn</td>\n",
       "      <td>t1</td>\n",
       "      <td>10</td>\n",
       "      <td>16</td>\n",
       "      <td>26</td>\n",
       "      <td>(51.521661, -0.109006)</td>\n",
       "      <td>False</td>\n",
       "      <td>25</td>\n",
       "      <td>10010</td>\n",
       "      <td>False</td>\n",
       "      <td>True</td>\n",
       "      <td>2</td>\n",
       "      <td>True</td>\n",
       "      <td>0</td>\n",
       "    </tr>\n",
       "  </tbody>\n",
       "</table>\n",
       "</div>"
      ],
      "text/plain": [
       "                                name time  num_bikes  num_empty  num_docks  \\\n",
       "3    St. Chad's Street, King's Cross   t1         20          3         23   \n",
       "8            Scala Street, Fitzrovia   t1         13          8         21   \n",
       "9     Belgrove Street , King's Cross   t1         24         16         48   \n",
       "10  Great Russell Street, Bloomsbury   t1         15         11         26   \n",
       "12              Hatton Wall, Holborn   t1         10         16         26   \n",
       "\n",
       "                    coords  faulty  elevation  pop_dens  high_pop?  hill  \\\n",
       "3   (51.530059, -0.120973)   False         22     10010      False  True   \n",
       "8   (51.519914, -0.136039)   False         37      9279      False  True   \n",
       "9   (51.529943, -0.123616)    True         24     10010      False  True   \n",
       "10  (51.517727, -0.127854)   False         37      9279      False  True   \n",
       "12  (51.521661, -0.109006)   False         25     10010      False  True   \n",
       "\n",
       "    num_faulty_near  faulty_near  num_faulty  \n",
       "3                 3         True           0  \n",
       "8                 3         True           0  \n",
       "9                 2         True           8  \n",
       "10                2         True           0  \n",
       "12                2         True           0  "
      ]
     },
     "execution_count": 18,
     "metadata": {},
     "output_type": "execute_result"
    }
   ],
   "source": [
    "hill_bikes_df.head()"
   ]
  },
  {
   "cell_type": "code",
   "execution_count": 19,
   "metadata": {},
   "outputs": [
    {
     "data": {
      "text/html": [
       "<div>\n",
       "<style scoped>\n",
       "    .dataframe tbody tr th:only-of-type {\n",
       "        vertical-align: middle;\n",
       "    }\n",
       "\n",
       "    .dataframe tbody tr th {\n",
       "        vertical-align: top;\n",
       "    }\n",
       "\n",
       "    .dataframe thead th {\n",
       "        text-align: right;\n",
       "    }\n",
       "</style>\n",
       "<table border=\"1\" class=\"dataframe\">\n",
       "  <thead>\n",
       "    <tr style=\"text-align: right;\">\n",
       "      <th></th>\n",
       "      <th>name</th>\n",
       "      <th>time</th>\n",
       "      <th>num_bikes</th>\n",
       "      <th>num_empty</th>\n",
       "      <th>num_docks</th>\n",
       "      <th>coords</th>\n",
       "      <th>faulty</th>\n",
       "      <th>elevation</th>\n",
       "      <th>pop_dens</th>\n",
       "      <th>high_pop?</th>\n",
       "      <th>hill</th>\n",
       "      <th>num_faulty_near</th>\n",
       "      <th>faulty_near</th>\n",
       "      <th>num_faulty</th>\n",
       "    </tr>\n",
       "  </thead>\n",
       "  <tbody>\n",
       "    <tr>\n",
       "      <td>0</td>\n",
       "      <td>River Street , Clerkenwell</td>\n",
       "      <td>t1</td>\n",
       "      <td>4</td>\n",
       "      <td>15</td>\n",
       "      <td>19</td>\n",
       "      <td>(51.529163, -0.10997)</td>\n",
       "      <td>False</td>\n",
       "      <td>31</td>\n",
       "      <td>10010</td>\n",
       "      <td>False</td>\n",
       "      <td>False</td>\n",
       "      <td>1</td>\n",
       "      <td>False</td>\n",
       "      <td>0</td>\n",
       "    </tr>\n",
       "    <tr>\n",
       "      <td>1</td>\n",
       "      <td>Phillimore Gardens, Kensington</td>\n",
       "      <td>t1</td>\n",
       "      <td>14</td>\n",
       "      <td>23</td>\n",
       "      <td>37</td>\n",
       "      <td>(51.499606, -0.197574)</td>\n",
       "      <td>False</td>\n",
       "      <td>17</td>\n",
       "      <td>11436</td>\n",
       "      <td>True</td>\n",
       "      <td>False</td>\n",
       "      <td>1</td>\n",
       "      <td>False</td>\n",
       "      <td>0</td>\n",
       "    </tr>\n",
       "    <tr>\n",
       "      <td>2</td>\n",
       "      <td>Christopher Street, Liverpool Street</td>\n",
       "      <td>t1</td>\n",
       "      <td>25</td>\n",
       "      <td>6</td>\n",
       "      <td>32</td>\n",
       "      <td>(51.521283, -0.084605)</td>\n",
       "      <td>True</td>\n",
       "      <td>27</td>\n",
       "      <td>10010</td>\n",
       "      <td>False</td>\n",
       "      <td>False</td>\n",
       "      <td>3</td>\n",
       "      <td>True</td>\n",
       "      <td>1</td>\n",
       "    </tr>\n",
       "    <tr>\n",
       "      <td>4</td>\n",
       "      <td>New Globe Walk, Bankside</td>\n",
       "      <td>t1</td>\n",
       "      <td>7</td>\n",
       "      <td>12</td>\n",
       "      <td>19</td>\n",
       "      <td>(51.507385, -0.09644)</td>\n",
       "      <td>False</td>\n",
       "      <td>16</td>\n",
       "      <td>10010</td>\n",
       "      <td>False</td>\n",
       "      <td>False</td>\n",
       "      <td>1</td>\n",
       "      <td>False</td>\n",
       "      <td>0</td>\n",
       "    </tr>\n",
       "    <tr>\n",
       "      <td>5</td>\n",
       "      <td>Park Street, Bankside</td>\n",
       "      <td>t1</td>\n",
       "      <td>18</td>\n",
       "      <td>0</td>\n",
       "      <td>18</td>\n",
       "      <td>(51.505974, -0.092754)</td>\n",
       "      <td>False</td>\n",
       "      <td>8</td>\n",
       "      <td>10010</td>\n",
       "      <td>False</td>\n",
       "      <td>False</td>\n",
       "      <td>2</td>\n",
       "      <td>True</td>\n",
       "      <td>0</td>\n",
       "    </tr>\n",
       "  </tbody>\n",
       "</table>\n",
       "</div>"
      ],
      "text/plain": [
       "                                   name time  num_bikes  num_empty  num_docks  \\\n",
       "0            River Street , Clerkenwell   t1          4         15         19   \n",
       "1        Phillimore Gardens, Kensington   t1         14         23         37   \n",
       "2  Christopher Street, Liverpool Street   t1         25          6         32   \n",
       "4              New Globe Walk, Bankside   t1          7         12         19   \n",
       "5                 Park Street, Bankside   t1         18          0         18   \n",
       "\n",
       "                   coords  faulty  elevation  pop_dens  high_pop?   hill  \\\n",
       "0   (51.529163, -0.10997)   False         31     10010      False  False   \n",
       "1  (51.499606, -0.197574)   False         17     11436       True  False   \n",
       "2  (51.521283, -0.084605)    True         27     10010      False  False   \n",
       "4   (51.507385, -0.09644)   False         16     10010      False  False   \n",
       "5  (51.505974, -0.092754)   False          8     10010      False  False   \n",
       "\n",
       "   num_faulty_near  faulty_near  num_faulty  \n",
       "0                1        False           0  \n",
       "1                1        False           0  \n",
       "2                3         True           1  \n",
       "4                1        False           0  \n",
       "5                2         True           0  "
      ]
     },
     "execution_count": 19,
     "metadata": {},
     "output_type": "execute_result"
    }
   ],
   "source": [
    "no_hill_bikes_df.head()"
   ]
  },
  {
   "cell_type": "code",
   "execution_count": 20,
   "metadata": {},
   "outputs": [
    {
     "data": {
      "image/png": "[encoded data removed]",
      "text/plain": [
       "<Figure size 432x288 with 1 Axes>"
      ]
     },
     "metadata": {
      "needs_background": "light"
     },
     "output_type": "display_data"
    }
   ],
   "source": [
    "# Sample the mean number of docks from bikespoints that are on a hill\n",
    " \n",
    "np.random.seed(3)\n",
    "probs2_subsample1 = []\n",
    "for i in range(198):\n",
    "    sample = hill_bikes_df.sample(n=50, replace = True)\n",
    "    docks = sample.num_docks\n",
    "    probs2_subsample1.append(np.mean(docks))\n",
    "\n",
    "sns.distplot(probs2_subsample1, norm_hist= True)\n",
    "plt.xlabel('Mean number of bike docks')\n",
    "plt.title('Number of bikedocks in bikepoints on hills');"
   ]
  },
  {
   "cell_type": "code",
   "execution_count": 21,
   "metadata": {},
   "outputs": [
    {
     "data": {
      "image/png": "[encoded data removed]",
      "text/plain": [
       "<Figure size 432x288 with 1 Axes>"
      ]
     },
     "metadata": {
      "needs_background": "light"
     },
     "output_type": "display_data"
    }
   ],
   "source": [
    "# Sample the mean number of docks from bikespoints that are not on a hill\n",
    " \n",
    "np.random.seed(3)\n",
    "probs2_subsample2 = []\n",
    "for i in range(198):\n",
    "    sample = no_hill_bikes_df.sample(n=50, replace = True)\n",
    "    docks = sample.num_docks\n",
    "    probs2_subsample2.append(np.mean(docks))\n",
    "\n",
    "sns.distplot(probs2_subsample2, norm_hist= True)\n",
    "plt.xlabel('Mean number of bike docks')\n",
    "plt.title('Number of bikedocks in bikepoints not on hills');"
   ]
  },
  {
   "cell_type": "code",
   "execution_count": 22,
   "metadata": {},
   "outputs": [
    {
     "data": {
      "image/png": "[encoded data removed]",
      "text/plain": [
       "<Figure size 432x288 with 1 Axes>"
      ]
     },
     "metadata": {
      "needs_background": "light"
     },
     "output_type": "display_data"
    }
   ],
   "source": [
    "sns.distplot(probs2_subsample1, hist=False, norm_hist=True, label='Bikepoints on Hills', color='red')\n",
    "sns.distplot(probs2_subsample2, hist=False, norm_hist=True, label='Bikepoints not on hills', color='skyblue')\n",
    "plt.axvline(x = np.mean(probs2_subsample1), color='red')\n",
    "plt.axvline(x = np.mean(probs2_subsample2), color='skyblue')\n",
    "plt.xlabel('Mean number of bike docks')\n",
    "plt.legend();"
   ]
  },
  {
   "cell_type": "code",
   "execution_count": 54,
   "metadata": {},
   "outputs": [
    {
     "name": "stdout",
     "output_type": "stream",
     "text": [
      "Faulty var = 1.1002545046423833\n",
      "Non-faulty var = 1.8982498214467909\n"
     ]
    }
   ],
   "source": [
    "# As we have taken two samples from an unknown population we will use a 2 sample t-test\n",
    "# We need to check if the variances of both samples are the same, if they aren't we'll have to use Welch's t-test\n",
    "\n",
    "v21 = np.var(probs2_subsample1)\n",
    "v22 = np.var(probs2_subsample2)\n",
    "\n",
    "print('Faulty var = {}'.format(v21) + '\\nNon-faulty var = {}'.format(v22))"
   ]
  },
  {
   "cell_type": "code",
   "execution_count": 55,
   "metadata": {},
   "outputs": [
    {
     "data": {
      "text/plain": [
       "0.5796152288342118"
      ]
     },
     "execution_count": 55,
     "metadata": {},
     "output_type": "execute_result"
    }
   ],
   "source": [
    "# Need to take the ratio of the vars to see if they're close enough for a t test\n",
    "# They are not close enough so we use a Welch t-test\n",
    "\n",
    "v21/v22"
   ]
  },
  {
   "cell_type": "code",
   "execution_count": 56,
   "metadata": {},
   "outputs": [
    {
     "name": "stdout",
     "output_type": "stream",
     "text": [
      "Ttest_indResult(statistic=-7.151686819024998, pvalue=4.657931549223401e-12)\n"
     ]
    }
   ],
   "source": [
    "results2 = scipy.stats.ttest_ind(probs2_subsample1, probs2_subsample2, equal_var=False)\n",
    "print(results2)"
   ]
  },
  {
   "cell_type": "code",
   "execution_count": 71,
   "metadata": {},
   "outputs": [
    {
     "data": {
      "text/plain": [
       "-0.7205935536892039"
      ]
     },
     "execution_count": 71,
     "metadata": {},
     "output_type": "execute_result"
    }
   ],
   "source": [
    "# calculate Cohen's d\n",
    "\n",
    "m21 = np.mean(probs2_subsample1)\n",
    "m22 = np.mean(probs2_subsample2)\n",
    "\n",
    "n21 = len(probs2_subsample1)\n",
    "n22 = len(probs2_subsample2)\n",
    "\n",
    "s2 = np.sqrt(((n21 - 1)*v21 + (n22 - 1)*v22) / (n21 + n22 - 2))\n",
    "\n",
    "d2 = (m21 - m22)/(s2)\n",
    "d2"
   ]
  },
  {
   "cell_type": "code",
   "execution_count": null,
   "metadata": {},
   "outputs": [],
   "source": []
  },
  {
   "cell_type": "markdown",
   "metadata": {},
   "source": [
    "## 3) Bikepoints in high populated areas are more likely to be faulty.\n",
    "## H0 = Bikepoints in highly populated areas have the same probability of having a faulty dock as general bikepoints\n",
    "## H1 = Bikepoints in highly populated areas have a higher probability of having a faulty dock\n"
   ]
  },
  {
   "cell_type": "code",
   "execution_count": 26,
   "metadata": {},
   "outputs": [],
   "source": [
    "high_pop_bikes_df, low_pop_bikes_df = split_by_bool(bikes_df, 'high_pop?')"
   ]
  },
  {
   "cell_type": "code",
   "execution_count": 27,
   "metadata": {},
   "outputs": [
    {
     "data": {
      "text/html": [
       "<div>\n",
       "<style scoped>\n",
       "    .dataframe tbody tr th:only-of-type {\n",
       "        vertical-align: middle;\n",
       "    }\n",
       "\n",
       "    .dataframe tbody tr th {\n",
       "        vertical-align: top;\n",
       "    }\n",
       "\n",
       "    .dataframe thead th {\n",
       "        text-align: right;\n",
       "    }\n",
       "</style>\n",
       "<table border=\"1\" class=\"dataframe\">\n",
       "  <thead>\n",
       "    <tr style=\"text-align: right;\">\n",
       "      <th></th>\n",
       "      <th>name</th>\n",
       "      <th>time</th>\n",
       "      <th>num_bikes</th>\n",
       "      <th>num_empty</th>\n",
       "      <th>num_docks</th>\n",
       "      <th>coords</th>\n",
       "      <th>faulty</th>\n",
       "      <th>elevation</th>\n",
       "      <th>pop_dens</th>\n",
       "      <th>high_pop?</th>\n",
       "      <th>hill</th>\n",
       "      <th>num_faulty_near</th>\n",
       "      <th>faulty_near</th>\n",
       "      <th>num_faulty</th>\n",
       "    </tr>\n",
       "  </thead>\n",
       "  <tbody>\n",
       "    <tr>\n",
       "      <td>1</td>\n",
       "      <td>Phillimore Gardens, Kensington</td>\n",
       "      <td>t1</td>\n",
       "      <td>14</td>\n",
       "      <td>23</td>\n",
       "      <td>37</td>\n",
       "      <td>(51.499606, -0.197574)</td>\n",
       "      <td>False</td>\n",
       "      <td>17</td>\n",
       "      <td>11436</td>\n",
       "      <td>True</td>\n",
       "      <td>False</td>\n",
       "      <td>1</td>\n",
       "      <td>False</td>\n",
       "      <td>0</td>\n",
       "    </tr>\n",
       "    <tr>\n",
       "      <td>24</td>\n",
       "      <td>Commercial Street, Shoreditch</td>\n",
       "      <td>t1</td>\n",
       "      <td>15</td>\n",
       "      <td>1</td>\n",
       "      <td>16</td>\n",
       "      <td>(51.52127, -0.075578)</td>\n",
       "      <td>False</td>\n",
       "      <td>21</td>\n",
       "      <td>11050</td>\n",
       "      <td>True</td>\n",
       "      <td>False</td>\n",
       "      <td>2</td>\n",
       "      <td>True</td>\n",
       "      <td>0</td>\n",
       "    </tr>\n",
       "    <tr>\n",
       "      <td>30</td>\n",
       "      <td>Nesham Street, Wapping</td>\n",
       "      <td>t1</td>\n",
       "      <td>14</td>\n",
       "      <td>2</td>\n",
       "      <td>16</td>\n",
       "      <td>(51.507131, -0.06691)</td>\n",
       "      <td>False</td>\n",
       "      <td>16</td>\n",
       "      <td>11050</td>\n",
       "      <td>True</td>\n",
       "      <td>False</td>\n",
       "      <td>1</td>\n",
       "      <td>False</td>\n",
       "      <td>0</td>\n",
       "    </tr>\n",
       "    <tr>\n",
       "      <td>39</td>\n",
       "      <td>New Inn Yard, Shoreditch</td>\n",
       "      <td>t1</td>\n",
       "      <td>11</td>\n",
       "      <td>8</td>\n",
       "      <td>20</td>\n",
       "      <td>(51.524526, -0.079248)</td>\n",
       "      <td>True</td>\n",
       "      <td>23</td>\n",
       "      <td>11050</td>\n",
       "      <td>True</td>\n",
       "      <td>True</td>\n",
       "      <td>2</td>\n",
       "      <td>True</td>\n",
       "      <td>1</td>\n",
       "    </tr>\n",
       "    <tr>\n",
       "      <td>57</td>\n",
       "      <td>Tanner Street, Bermondsey</td>\n",
       "      <td>t1</td>\n",
       "      <td>15</td>\n",
       "      <td>23</td>\n",
       "      <td>40</td>\n",
       "      <td>(51.500647, -0.0786)</td>\n",
       "      <td>True</td>\n",
       "      <td>9</td>\n",
       "      <td>11050</td>\n",
       "      <td>True</td>\n",
       "      <td>False</td>\n",
       "      <td>1</td>\n",
       "      <td>False</td>\n",
       "      <td>2</td>\n",
       "    </tr>\n",
       "  </tbody>\n",
       "</table>\n",
       "</div>"
      ],
      "text/plain": [
       "                              name time  num_bikes  num_empty  num_docks  \\\n",
       "1   Phillimore Gardens, Kensington   t1         14         23         37   \n",
       "24   Commercial Street, Shoreditch   t1         15          1         16   \n",
       "30          Nesham Street, Wapping   t1         14          2         16   \n",
       "39        New Inn Yard, Shoreditch   t1         11          8         20   \n",
       "57       Tanner Street, Bermondsey   t1         15         23         40   \n",
       "\n",
       "                    coords  faulty  elevation  pop_dens  high_pop?   hill  \\\n",
       "1   (51.499606, -0.197574)   False         17     11436       True  False   \n",
       "24   (51.52127, -0.075578)   False         21     11050       True  False   \n",
       "30   (51.507131, -0.06691)   False         16     11050       True  False   \n",
       "39  (51.524526, -0.079248)    True         23     11050       True   True   \n",
       "57    (51.500647, -0.0786)    True          9     11050       True  False   \n",
       "\n",
       "    num_faulty_near  faulty_near  num_faulty  \n",
       "1                 1        False           0  \n",
       "24                2         True           0  \n",
       "30                1        False           0  \n",
       "39                2         True           1  \n",
       "57                1        False           2  "
      ]
     },
     "execution_count": 27,
     "metadata": {},
     "output_type": "execute_result"
    }
   ],
   "source": [
    "high_pop_bikes_df.head()"
   ]
  },
  {
   "cell_type": "code",
   "execution_count": 28,
   "metadata": {},
   "outputs": [
    {
     "data": {
      "text/html": [
       "<div>\n",
       "<style scoped>\n",
       "    .dataframe tbody tr th:only-of-type {\n",
       "        vertical-align: middle;\n",
       "    }\n",
       "\n",
       "    .dataframe tbody tr th {\n",
       "        vertical-align: top;\n",
       "    }\n",
       "\n",
       "    .dataframe thead th {\n",
       "        text-align: right;\n",
       "    }\n",
       "</style>\n",
       "<table border=\"1\" class=\"dataframe\">\n",
       "  <thead>\n",
       "    <tr style=\"text-align: right;\">\n",
       "      <th></th>\n",
       "      <th>name</th>\n",
       "      <th>time</th>\n",
       "      <th>num_bikes</th>\n",
       "      <th>num_empty</th>\n",
       "      <th>num_docks</th>\n",
       "      <th>coords</th>\n",
       "      <th>faulty</th>\n",
       "      <th>elevation</th>\n",
       "      <th>pop_dens</th>\n",
       "      <th>high_pop?</th>\n",
       "      <th>hill</th>\n",
       "      <th>num_faulty_near</th>\n",
       "      <th>faulty_near</th>\n",
       "      <th>num_faulty</th>\n",
       "    </tr>\n",
       "  </thead>\n",
       "  <tbody>\n",
       "    <tr>\n",
       "      <td>0</td>\n",
       "      <td>River Street , Clerkenwell</td>\n",
       "      <td>t1</td>\n",
       "      <td>4</td>\n",
       "      <td>15</td>\n",
       "      <td>19</td>\n",
       "      <td>(51.529163, -0.10997)</td>\n",
       "      <td>False</td>\n",
       "      <td>31</td>\n",
       "      <td>10010</td>\n",
       "      <td>False</td>\n",
       "      <td>False</td>\n",
       "      <td>1</td>\n",
       "      <td>False</td>\n",
       "      <td>0</td>\n",
       "    </tr>\n",
       "    <tr>\n",
       "      <td>2</td>\n",
       "      <td>Christopher Street, Liverpool Street</td>\n",
       "      <td>t1</td>\n",
       "      <td>25</td>\n",
       "      <td>6</td>\n",
       "      <td>32</td>\n",
       "      <td>(51.521283, -0.084605)</td>\n",
       "      <td>True</td>\n",
       "      <td>27</td>\n",
       "      <td>10010</td>\n",
       "      <td>False</td>\n",
       "      <td>False</td>\n",
       "      <td>3</td>\n",
       "      <td>True</td>\n",
       "      <td>1</td>\n",
       "    </tr>\n",
       "    <tr>\n",
       "      <td>3</td>\n",
       "      <td>St. Chad's Street, King's Cross</td>\n",
       "      <td>t1</td>\n",
       "      <td>20</td>\n",
       "      <td>3</td>\n",
       "      <td>23</td>\n",
       "      <td>(51.530059, -0.120973)</td>\n",
       "      <td>False</td>\n",
       "      <td>22</td>\n",
       "      <td>10010</td>\n",
       "      <td>False</td>\n",
       "      <td>True</td>\n",
       "      <td>3</td>\n",
       "      <td>True</td>\n",
       "      <td>0</td>\n",
       "    </tr>\n",
       "    <tr>\n",
       "      <td>4</td>\n",
       "      <td>New Globe Walk, Bankside</td>\n",
       "      <td>t1</td>\n",
       "      <td>7</td>\n",
       "      <td>12</td>\n",
       "      <td>19</td>\n",
       "      <td>(51.507385, -0.09644)</td>\n",
       "      <td>False</td>\n",
       "      <td>16</td>\n",
       "      <td>10010</td>\n",
       "      <td>False</td>\n",
       "      <td>False</td>\n",
       "      <td>1</td>\n",
       "      <td>False</td>\n",
       "      <td>0</td>\n",
       "    </tr>\n",
       "    <tr>\n",
       "      <td>5</td>\n",
       "      <td>Park Street, Bankside</td>\n",
       "      <td>t1</td>\n",
       "      <td>18</td>\n",
       "      <td>0</td>\n",
       "      <td>18</td>\n",
       "      <td>(51.505974, -0.092754)</td>\n",
       "      <td>False</td>\n",
       "      <td>8</td>\n",
       "      <td>10010</td>\n",
       "      <td>False</td>\n",
       "      <td>False</td>\n",
       "      <td>2</td>\n",
       "      <td>True</td>\n",
       "      <td>0</td>\n",
       "    </tr>\n",
       "  </tbody>\n",
       "</table>\n",
       "</div>"
      ],
      "text/plain": [
       "                                   name time  num_bikes  num_empty  num_docks  \\\n",
       "0            River Street , Clerkenwell   t1          4         15         19   \n",
       "2  Christopher Street, Liverpool Street   t1         25          6         32   \n",
       "3       St. Chad's Street, King's Cross   t1         20          3         23   \n",
       "4              New Globe Walk, Bankside   t1          7         12         19   \n",
       "5                 Park Street, Bankside   t1         18          0         18   \n",
       "\n",
       "                   coords  faulty  elevation  pop_dens  high_pop?   hill  \\\n",
       "0   (51.529163, -0.10997)   False         31     10010      False  False   \n",
       "2  (51.521283, -0.084605)    True         27     10010      False  False   \n",
       "3  (51.530059, -0.120973)   False         22     10010      False   True   \n",
       "4   (51.507385, -0.09644)   False         16     10010      False  False   \n",
       "5  (51.505974, -0.092754)   False          8     10010      False  False   \n",
       "\n",
       "   num_faulty_near  faulty_near  num_faulty  \n",
       "0                1        False           0  \n",
       "2                3         True           1  \n",
       "3                3         True           0  \n",
       "4                1        False           0  \n",
       "5                2         True           0  "
      ]
     },
     "execution_count": 28,
     "metadata": {},
     "output_type": "execute_result"
    }
   ],
   "source": [
    "low_pop_bikes_df.head()"
   ]
  },
  {
   "cell_type": "code",
   "execution_count": 58,
   "metadata": {},
   "outputs": [
    {
     "data": {
      "image/png": "[encoded data removed]",
      "text/plain": [
       "<Figure size 432x288 with 1 Axes>"
      ]
     },
     "metadata": {
      "needs_background": "light"
     },
     "output_type": "display_data"
    }
   ],
   "source": [
    "np.random.seed(3)\n",
    "probs3_subsample1 = []\n",
    "for i in range(198):\n",
    "    sample = high_pop_bikes_df.sample(n=50, replace = True)\n",
    "    p = np.sum(sample['faulty'])/50\n",
    "    probs3_subsample1.append(p)\n",
    "\n",
    "sns.distplot(probs3_subsample1, norm_hist= True);"
   ]
  },
  {
   "cell_type": "code",
   "execution_count": 59,
   "metadata": {},
   "outputs": [
    {
     "data": {
      "image/png": "[encoded data removed]",
      "text/plain": [
       "<Figure size 432x288 with 1 Axes>"
      ]
     },
     "metadata": {
      "needs_background": "light"
     },
     "output_type": "display_data"
    }
   ],
   "source": [
    "np.random.seed(3)\n",
    "probs3_subsample2 = []\n",
    "for i in range(198):\n",
    "    sample = low_pop_bikes_df.sample(n=50, replace = True)\n",
    "    p = np.sum(sample.faulty)/50\n",
    "    probs3_subsample2.append(p)\n",
    "\n",
    "\n",
    "sns.distplot(probs3_subsample2, norm_hist = True);"
   ]
  },
  {
   "cell_type": "code",
   "execution_count": 61,
   "metadata": {},
   "outputs": [
    {
     "data": {
      "image/png": "[encoded data removed]",
      "text/plain": [
       "<Figure size 432x288 with 1 Axes>"
      ]
     },
     "metadata": {
      "needs_background": "light"
     },
     "output_type": "display_data"
    }
   ],
   "source": [
    "sns.distplot(probs3_subsample1, hist=False, norm_hist=True, label='Bikepoints in higher populated areas', color='red')\n",
    "sns.distplot(probs3_subsample2, hist=False, norm_hist=True, label='Bikepoints not in higher populated areas', color='skyblue')\n",
    "plt.axvline(x = np.mean(probs3_subsample1), color='red')\n",
    "plt.axvline(x = np.mean(probs3_subsample2), color='skyblue')\n",
    "plt.xlabel('Probability a bikepoint is faulty')\n",
    "plt.legend(loc = 3);"
   ]
  },
  {
   "cell_type": "code",
   "execution_count": 68,
   "metadata": {},
   "outputs": [
    {
     "name": "stdout",
     "output_type": "stream",
     "text": [
      "Faulty var = 0.004727935924905622\n",
      "Non-faulty var = 0.005033241505968779\n"
     ]
    }
   ],
   "source": [
    "# As we have taken two samples from an unknown population we will use a 2 sample t-test\n",
    "# We need to check if the variances of both samples are the same, if they aren't we'll have to use Welch's t-test\n",
    "\n",
    "v31 = np.var(probs3_subsample1)\n",
    "v32 = np.var(probs3_subsample2)\n",
    "\n",
    "print('Faulty var = {}'.format(v31) + '\\nNon-faulty var = {}'.format(v32))"
   ]
  },
  {
   "cell_type": "code",
   "execution_count": 70,
   "metadata": {},
   "outputs": [
    {
     "data": {
      "text/plain": [
       "0.9393421554079803"
      ]
     },
     "execution_count": 70,
     "metadata": {},
     "output_type": "execute_result"
    }
   ],
   "source": [
    "# Need to take the ratio of the vars to see if they're close enough for a t test\n",
    "# They are close enough so we can use a 2 sample t-test\n",
    "\n",
    "v31/v32"
   ]
  },
  {
   "cell_type": "code",
   "execution_count": 60,
   "metadata": {},
   "outputs": [
    {
     "name": "stdout",
     "output_type": "stream",
     "text": [
      "Ttest_indResult(statistic=2.310322943037043, pvalue=0.021386186208782073)\n"
     ]
    }
   ],
   "source": [
    "results3 = stats.ttest_ind(probs3_subsample1, probs3_subsample2)\n",
    "print(results3)"
   ]
  },
  {
   "cell_type": "code",
   "execution_count": 72,
   "metadata": {},
   "outputs": [
    {
     "data": {
      "text/plain": [
       "0.23278477676959133"
      ]
     },
     "execution_count": 72,
     "metadata": {},
     "output_type": "execute_result"
    }
   ],
   "source": [
    "# calculate Cohen's d\n",
    "\n",
    "m31 = np.mean(probs3_subsample1)\n",
    "m32 = np.mean(probs3_subsample2)\n",
    "\n",
    "n31 = len(probs3_subsample1)\n",
    "n32 = len(probs3_subsample2)\n",
    "\n",
    "s3 = np.sqrt(((n31 - 1)*v31 + (n32 - 1)*v32) / (n31 + n32 - 2))\n",
    "\n",
    "d3 = (m31 - m32)/(s3)\n",
    "d3"
   ]
  },
  {
   "cell_type": "code",
   "execution_count": null,
   "metadata": {},
   "outputs": [],
   "source": []
  },
  {
   "cell_type": "code",
   "execution_count": null,
   "metadata": {},
   "outputs": [],
   "source": []
  },
  {
   "cell_type": "markdown",
   "metadata": {},
   "source": [
    "## 4) Higher populated areas have larger bikepoints\n",
    "## H0 = Bikepoints in highly populated areas have the same number of docks as non-highly populated bikepoints\n",
    "## H1 = Bikepoints in highly populated areas have more docks than non-highly populated bikepoints"
   ]
  },
  {
   "cell_type": "code",
   "execution_count": 73,
   "metadata": {},
   "outputs": [
    {
     "data": {
      "image/png": "[encoded data removed]",
      "text/plain": [
       "<Figure size 432x288 with 1 Axes>"
      ]
     },
     "metadata": {
      "needs_background": "light"
     },
     "output_type": "display_data"
    }
   ],
   "source": [
    "np.random.seed(3)\n",
    "probs4_subsample1 = []\n",
    "for i in range(198):\n",
    "    sample = high_pop_bikes_df.sample(n=50, replace = True)\n",
    "    p = np.sum(sample.num_docks)/50\n",
    "    probs4_subsample1.append(p)\n",
    "\n",
    "sns.distplot(probs4_subsample1, norm_hist= True);"
   ]
  },
  {
   "cell_type": "code",
   "execution_count": 74,
   "metadata": {},
   "outputs": [
    {
     "data": {
      "image/png": "[encoded data removed]",
      "text/plain": [
       "<Figure size 432x288 with 1 Axes>"
      ]
     },
     "metadata": {
      "needs_background": "light"
     },
     "output_type": "display_data"
    }
   ],
   "source": [
    "np.random.seed(3)\n",
    "probs4_subsample2 = []\n",
    "for i in range(198):\n",
    "    sample = low_pop_bikes_df.sample(n=50, replace = True)\n",
    "    p = np.sum(sample.num_docks)/50\n",
    "    probs4_subsample2.append(p)\n",
    "\n",
    "sns.distplot(probs4_subsample2, norm_hist= True);"
   ]
  },
  {
   "cell_type": "code",
   "execution_count": 75,
   "metadata": {},
   "outputs": [
    {
     "data": {
      "image/png": "[encoded data removed]",
      "text/plain": [
       "<Figure size 432x288 with 1 Axes>"
      ]
     },
     "metadata": {
      "needs_background": "light"
     },
     "output_type": "display_data"
    }
   ],
   "source": [
    "sns.distplot(probs4_subsample1, hist=False, norm_hist=True, label='Bikepoints in higher populated areas', color='red')\n",
    "sns.distplot(probs4_subsample2, hist=False, norm_hist=True, label='Bikepoints not in higher populated areas', color='skyblue')\n",
    "plt.axvline(x = np.mean(probs4_subsample1), color='red')\n",
    "plt.axvline(x = np.mean(probs4_subsample2), color='skyblue')\n",
    "plt.xlabel('Mean number of docks')\n",
    "plt.legend(loc = 3);"
   ]
  },
  {
   "cell_type": "code",
   "execution_count": 77,
   "metadata": {},
   "outputs": [
    {
     "name": "stdout",
     "output_type": "stream",
     "text": [
      "Faulty var = 1.225336271808999\n",
      "Non-faulty var = 1.7942611570247933\n"
     ]
    }
   ],
   "source": [
    "# As we have taken two samples from an unknown population we will use a 2 sample t-test\n",
    "# We need to check if the variances of both samples are the same, if they aren't we'll have to use Welch's t-test\n",
    "\n",
    "v41 = np.var(probs4_subsample1)\n",
    "v42 = np.var(probs4_subsample2)\n",
    "\n",
    "print('Faulty var = {}'.format(v41) + '\\nNon-faulty var = {}'.format(v42))"
   ]
  },
  {
   "cell_type": "code",
   "execution_count": 80,
   "metadata": {},
   "outputs": [
    {
     "data": {
      "text/plain": [
       "0.6829196892613038"
      ]
     },
     "execution_count": 80,
     "metadata": {},
     "output_type": "execute_result"
    }
   ],
   "source": [
    "# Need to take the ratio of the vars to see if they're close enough for a t test\n",
    "# They are not close enough so we use a Welch t-test\n",
    "\n",
    "v41/v42"
   ]
  },
  {
   "cell_type": "code",
   "execution_count": 79,
   "metadata": {},
   "outputs": [
    {
     "name": "stdout",
     "output_type": "stream",
     "text": [
      "Ttest_indResult(statistic=3.7350737661519346, pvalue=0.00021638510396394984)\n"
     ]
    }
   ],
   "source": [
    "results4 = stats.ttest_ind(probs4_subsample1, probs4_subsample2, equal_var=False)\n",
    "print(results4)"
   ]
  },
  {
   "cell_type": "code",
   "execution_count": 81,
   "metadata": {},
   "outputs": [
    {
     "data": {
      "text/plain": [
       "0.376340595799422"
      ]
     },
     "execution_count": 81,
     "metadata": {},
     "output_type": "execute_result"
    }
   ],
   "source": [
    "# calculate Cohen's d\n",
    "\n",
    "m41 = np.mean(probs4_subsample1)\n",
    "m42 = np.mean(probs4_subsample2)\n",
    "\n",
    "n41 = len(probs4_subsample1)\n",
    "n42 = len(probs4_subsample2)\n",
    "\n",
    "s4 = np.sqrt(((n41 - 1)*v41 + (n42 - 1)*v42) / (n41 + n42 - 2))\n",
    "\n",
    "d4 = (m41 - m42)/(s4)\n",
    "d4"
   ]
  },
  {
   "cell_type": "code",
   "execution_count": null,
   "metadata": {},
   "outputs": [],
   "source": []
  },
  {
   "cell_type": "markdown",
   "metadata": {},
   "source": [
    "#### Findings & Application"
   ]
  },
  {
   "cell_type": "markdown",
   "metadata": {},
   "source": [
    "#### Limitations"
   ]
  },
  {
   "cell_type": "markdown",
   "metadata": {},
   "source": [
    "#### Next Steps"
   ]
  },
  {
   "cell_type": "code",
   "execution_count": null,
   "metadata": {},
   "outputs": [],
   "source": []
  }
 ],
 "metadata": {
  "kernelspec": {
   "display_name": "Python 3",
   "language": "python",
   "name": "python3"
  },
  "language_info": {
   "codemirror_mode": {
    "name": "ipython",
    "version": 3
   },
   "file_extension": ".py",
   "mimetype": "text/x-python",
   "name": "python",
   "nbconvert_exporter": "python",
   "pygments_lexer": "ipython3",
   "version": "3.6.9"
  }
 },
 "nbformat": 4,
 "nbformat_minor": 4
}
